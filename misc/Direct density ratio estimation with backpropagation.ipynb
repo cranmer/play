{
 "cells": [
  {
   "cell_type": "markdown",
   "metadata": {},
   "source": [
    "# Toy problem"
   ]
  },
  {
   "cell_type": "code",
   "execution_count": 1,
   "metadata": {
    "collapsed": true
   },
   "outputs": [],
   "source": [
    "%matplotlib inline\n",
    "from matplotlib import pyplot as plt\n",
    "import numpy as np\n",
    "import theano\n",
    "import theano.tensor as T"
   ]
  },
  {
   "cell_type": "code",
   "execution_count": 2,
   "metadata": {
    "collapsed": true
   },
   "outputs": [],
   "source": [
    "from carl.distributions import Normal\n",
    "from carl.distributions import Mixture\n",
    "\n",
    "components = [\n",
    "    Normal(mu=-2.0, sigma=0.75), \n",
    "    Normal(mu=0.0, sigma=2.0), \n",
    "    Normal(mu=1.0, sigma=0.5)  # bump\n",
    "]\n",
    "\n",
    "bump_coefficient = 0.1\n",
    "g = theano.shared(bump_coefficient) \n",
    "p0 = Mixture(components=components, weights=[0.5 - g / 2., 0.5 - g / 2., g])\n",
    "p1 = Mixture(components=components[:2], weights=[0.5, 0.5])"
   ]
  },
  {
   "cell_type": "code",
   "execution_count": 3,
   "metadata": {
    "collapsed": false
   },
   "outputs": [
    {
     "data": {
      "image/png": "[encoded data removed]",
      "text/plain": [
       "<matplotlib.figure.Figure at 0x7f44c8cf06a0>"
      ]
     },
     "metadata": {},
     "output_type": "display_data"
    }
   ],
   "source": [
    "reals = np.linspace(-5, 5, num=1000)\n",
    "plt.plot(reals, p0.pdf(reals.reshape(-1, 1)), label=\"p0\")\n",
    "plt.plot(reals, p1.pdf(reals.reshape(-1, 1)), label=\"p1\")\n",
    "plt.legend(loc=\"best\")\n",
    "plt.show()"
   ]
  },
  {
   "cell_type": "markdown",
   "metadata": {},
   "source": [
    "# Direct density ratio estimation with backpropagation"
   ]
  },
  {
   "cell_type": "markdown",
   "metadata": {},
   "source": [
    "$$\\min_R V(R) = \\mathbb{E}_{x \\sim p_1} [\\sqrt{R(x)}] + \\mathbb{E}_{x \\sim p_0} [\\frac{1}{\\sqrt{R(x)}}] $$"
   ]
  },
  {
   "cell_type": "code",
   "execution_count": 4,
   "metadata": {
    "collapsed": false
   },
   "outputs": [
    {
     "name": "stdout",
     "output_type": "stream",
     "text": [
      "Using Theano backend.\n"
     ]
    }
   ],
   "source": [
    "from keras.models import Sequential\n",
    "from keras.layers.core import Dense\n",
    "import keras.backend as K"
   ]
  },
  {
   "cell_type": "code",
   "execution_count": 5,
   "metadata": {
    "collapsed": true
   },
   "outputs": [],
   "source": [
    "R = Sequential()\n",
    "R.add(Dense(16, input_dim=1, activation='tanh'))\n",
    "R.add(Dense(16, activation='tanh'))\n",
    "R.add(Dense(16, activation='tanh'))\n",
    "R.add(Dense(1, activation='linear'))"
   ]
  },
  {
   "cell_type": "code",
   "execution_count": 6,
   "metadata": {
    "collapsed": false
   },
   "outputs": [],
   "source": [
    "n_samples = 50000\n",
    "X0 = p0.rvs(n_samples=n_samples)\n",
    "X1 = p1.rvs(n_samples=n_samples)\n",
    "X = np.vstack((X0, X1))\n",
    "y = np.zeros(len(X)) \n",
    "y[len(X0):] = 1"
   ]
  },
  {
   "cell_type": "code",
   "execution_count": 7,
   "metadata": {
    "collapsed": false
   },
   "outputs": [
    {
     "name": "stdout",
     "output_type": "stream",
     "text": [
      "Epoch 1/20\n",
      "100000/100000 [==============================] - 1s - loss: 0.9974     \n",
      "Epoch 2/20\n",
      "100000/100000 [==============================] - 1s - loss: 0.9961     \n",
      "Epoch 3/20\n",
      "100000/100000 [==============================] - 1s - loss: 0.9960     \n",
      "Epoch 4/20\n",
      "100000/100000 [==============================] - 1s - loss: 0.9955     \n",
      "Epoch 5/20\n",
      "100000/100000 [==============================] - 1s - loss: 0.9954     \n",
      "Epoch 6/20\n",
      "100000/100000 [==============================] - 0s - loss: 0.9955     \n",
      "Epoch 7/20\n",
      "100000/100000 [==============================] - 0s - loss: 0.9953     \n",
      "Epoch 8/20\n",
      "100000/100000 [==============================] - 1s - loss: 0.9953     \n",
      "Epoch 9/20\n",
      "100000/100000 [==============================] - 0s - loss: 0.9952     \n",
      "Epoch 10/20\n",
      "100000/100000 [==============================] - 1s - loss: 0.9952     \n",
      "Epoch 11/20\n",
      "100000/100000 [==============================] - 1s - loss: 0.9953     \n",
      "Epoch 12/20\n",
      "100000/100000 [==============================] - 0s - loss: 0.9953     \n",
      "Epoch 13/20\n",
      "100000/100000 [==============================] - 1s - loss: 0.9952     \n",
      "Epoch 14/20\n",
      "100000/100000 [==============================] - 1s - loss: 0.9952     \n",
      "Epoch 15/20\n",
      "100000/100000 [==============================] - 0s - loss: 0.9952     \n",
      "Epoch 16/20\n",
      "100000/100000 [==============================] - 1s - loss: 0.9951     \n",
      "Epoch 17/20\n",
      "100000/100000 [==============================] - 1s - loss: 0.9952     \n",
      "Epoch 18/20\n",
      "100000/100000 [==============================] - 1s - loss: 0.9951     \n",
      "Epoch 19/20\n",
      "100000/100000 [==============================] - 1s - loss: 0.9952     \n",
      "Epoch 20/20\n",
      "100000/100000 [==============================] - 0s - loss: 0.9952     \n"
     ]
    },
    {
     "data": {
      "text/plain": [
       "<keras.callbacks.History at 0x7f44c105e908>"
      ]
     },
     "execution_count": 7,
     "metadata": {},
     "output_type": "execute_result"
    }
   ],
   "source": [
    "# Note: we solve for exp(R(x)) so that the solution is log(R(x))\n",
    "#       in this way, we avoid putting positivity constraints\n",
    "\n",
    "def loss(y_true, y_pred):\n",
    "    return (y_true * (K.sqrt(K.exp(y_pred))) + \n",
    "            (1.0 - y_true) * (1.0 / K.sqrt(K.exp(y_pred))))  \n",
    "\n",
    "R.compile(loss=loss, optimizer=\"adam\")\n",
    "R.fit(X, y, nb_epoch=20)"
   ]
  },
  {
   "cell_type": "code",
   "execution_count": 8,
   "metadata": {
    "collapsed": false
   },
   "outputs": [
    {
     "data": {
      "image/png": "[encoded data removed]",
      "text/plain": [
       "<matplotlib.figure.Figure at 0x7f44bb8f5e80>"
      ]
     },
     "metadata": {},
     "output_type": "display_data"
    }
   ],
   "source": [
    "plt.plot(reals, np.log(p0.pdf(reals.reshape(-1, 1)) / \n",
    "                       p1.pdf(reals.reshape(-1, 1))), label=\"log(true)\")\n",
    "plt.plot(reals, R.predict(reals.reshape(-1, 1)), label=\"R(x)\")\n",
    "\n",
    "plt.xlim(-5, 5)\n",
    "plt.legend(loc=\"best\")\n",
    "plt.show()"
   ]
  },
  {
   "cell_type": "markdown",
   "metadata": {},
   "source": [
    "Bim!"
   ]
  }
 ],
 "metadata": {
  "kernelspec": {
   "display_name": "Python 3",
   "language": "python",
   "name": "python3"
  },
  "language_info": {
   "codemirror_mode": {
    "name": "ipython",
    "version": 3
   },
   "file_extension": ".py",
   "mimetype": "text/x-python",
   "name": "python",
   "nbconvert_exporter": "python",
   "pygments_lexer": "ipython3",
   "version": "3.5.1"
  }
 },
 "nbformat": 4,
 "nbformat_minor": 0
}
