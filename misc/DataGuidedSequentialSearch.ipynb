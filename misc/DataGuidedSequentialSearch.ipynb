{
 "cells": [
  {
   "cell_type": "code",
   "execution_count": 1,
   "metadata": {
    "collapsed": false
   },
   "outputs": [
    {
     "name": "stdout",
     "output_type": "stream",
     "text": [
      "Populating the interactive namespace from numpy and matplotlib\n"
     ]
    }
   ],
   "source": [
    "%pylab inline --no-import-all\n",
    "from sympy import Symbol, symbols, solve, lambdify\n",
    "#import numpy as np"
   ]
  },
  {
   "cell_type": "code",
   "execution_count": 2,
   "metadata": {
    "collapsed": false
   },
   "outputs": [],
   "source": [
    "plt.rc('font',**{'family':'sans-serif','sans-serif':['Helvetica']})\n",
    "plt.rc('text', usetex=True)"
   ]
  },
  {
   "cell_type": "code",
   "execution_count": 3,
   "metadata": {
    "collapsed": false
   },
   "outputs": [],
   "source": [
    "#import matplotlib.pyplot as plt"
   ]
  },
  {
   "cell_type": "code",
   "execution_count": 4,
   "metadata": {
    "collapsed": false
   },
   "outputs": [],
   "source": [
    "#observables\n",
    "(n11, n12, n21, n22) =  symbols('n11 n12 n21 n22')\n",
    "#parameters\n",
    "(s1, s2, b1, b2, mu) =  symbols('s1 s2 b1 b2 mu')\n",
    "#helpers\n",
    "(n1, n2, nu11, nu12, n21, nu22) =  symbols('n1 n2 nu11 nu12 nu21 n22')\n",
    "#estimators\n",
    "(s1hat, s2hat, muhat) = symbols('s1hat s2hat muhat')"
   ]
  },
  {
   "cell_type": "code",
   "execution_count": 5,
   "metadata": {
    "collapsed": false
   },
   "outputs": [],
   "source": [
    "#first run\n",
    "nu11 = s1hat + b1\n",
    "nu12 = s2hat + b2\n",
    "#second run\n",
    "nu21 = muhat*s1hat+b1\n",
    "nu22 = muhat*s2hat+b2"
   ]
  },
  {
   "cell_type": "code",
   "execution_count": 6,
   "metadata": {
    "collapsed": false
   },
   "outputs": [
    {
     "data": {
      "text/plain": [
       "(5, 5)"
      ]
     },
     "execution_count": 6,
     "metadata": {},
     "output_type": "execute_result"
    }
   ],
   "source": [
    "#first run\n",
    "shatSubs = [(key, val) for key,val in solve([n11-nu11, n12-nu12], s1hat, s2hat).iteritems()]\n",
    "moreSubs = shatSubs+[(n11,10),(n12,10),(n21,10),(n22,10),(b1,5),(b2,5)]\n",
    "s1hat.subs(moreSubs), s2hat.subs(moreSubs)"
   ]
  },
  {
   "cell_type": "code",
   "execution_count": 7,
   "metadata": {
    "collapsed": false
   },
   "outputs": [],
   "source": [
    "#second run\n",
    "[expr1, expr2] = solve( s1hat+s2hat - n21*s1hat/nu21 - n22*s2hat/nu22, muhat)"
   ]
  },
  {
   "cell_type": "code",
   "execution_count": 8,
   "metadata": {
    "collapsed": false
   },
   "outputs": [
    {
     "data": {
      "text/plain": [
       "(-1, 1)"
      ]
     },
     "execution_count": 8,
     "metadata": {},
     "output_type": "execute_result"
    }
   ],
   "source": [
    "expr1.subs(moreSubs),expr2.subs(moreSubs)"
   ]
  },
  {
   "cell_type": "code",
   "execution_count": 9,
   "metadata": {
    "collapsed": false
   },
   "outputs": [
    {
     "data": {
      "text/plain": [
       "1.0"
      ]
     },
     "execution_count": 9,
     "metadata": {},
     "output_type": "execute_result"
    }
   ],
   "source": [
    "muhatFunc = lambdify((n11,n12,n21,n22,b1,b2), expr2.subs(shatSubs), \"numpy\")\n",
    "muhatFunc(10,10,10,10,5,5)"
   ]
  },
  {
   "cell_type": "code",
   "execution_count": 10,
   "metadata": {
    "collapsed": false
   },
   "outputs": [
    {
     "data": {
      "text/plain": [
       "1.0"
      ]
     },
     "execution_count": 10,
     "metadata": {},
     "output_type": "execute_result"
    }
   ],
   "source": [
    "muhatFuncTruth = lambdify((n11,n12,n21,n22,b1,b2,s1hat,s2hat), expr2, \"numpy\")\n",
    "muhatFuncTruth(10,10,10,10,5,5,5,5)"
   ]
  },
  {
   "cell_type": "markdown",
   "metadata": {},
   "source": [
    "$Pois(n|\\nu) = e^{-\\nu} \\nu^n/n!$\n",
    "\n",
    "$-2 \\log L(\\nu) = 2*(\\nu - n \\ln \\nu)$\n",
    "\n",
    "$q(0) = -2 \\log L(\\nu)/L(\\hat\\nu) = 2*(\\nu(0)-\\hat{\\nu}) - n \\ln \\nu(0) / \\hat\\nu )$"
   ]
  },
  {
   "cell_type": "code",
   "execution_count": 11,
   "metadata": {
    "collapsed": true
   },
   "outputs": [],
   "source": [
    "def inclusive_muhatFunc(n11,n12,n21,n22,b1,b2):\n",
    "    shat = 1.*(n11+n12-b1-b2)+.01\n",
    "    return np.maximum(-7,np.minimum(7,np.divide(n21+n22-b1-b2,shat)))"
   ]
  },
  {
   "cell_type": "code",
   "execution_count": 12,
   "metadata": {
    "collapsed": false
   },
   "outputs": [],
   "source": [
    "def q0inclusive(n11,n12,n21,n22,b1,b2):\n",
    "    #shat = 1.*(n11+n12-b1-b2)+.01\n",
    "    #muhat = np.divide(n21+n22-b1-b2,shat)\n",
    "    return 2*(-(n21+n22-b1-b2) - (n21+n22)*np.log((b1+b2)/(n21+n22)))"
   ]
  },
  {
   "cell_type": "code",
   "execution_count": 13,
   "metadata": {
    "collapsed": true
   },
   "outputs": [],
   "source": [
    "def q0DGSS(n11,n12,n21,n22,b1,b2):\n",
    "    muhat = muhatFunc(n11,n12,n21,n22,b1,b2)\n",
    "    s1hat = 1.*(n11-b1)\n",
    "    s2hat = 1.*(n12-b2)\n",
    "    q_1 = 2*( -muhat*s1hat - (n21)*np.log((b1)/(b1+s1hat*muhat)))\n",
    "    q_2 = 2*( -muhat*s2hat - (n22)*np.log((b2)/(b2+s2hat*muhat)))\n",
    "    return q_1+q_2"
   ]
  },
  {
   "cell_type": "code",
   "execution_count": 14,
   "metadata": {
    "collapsed": true
   },
   "outputs": [],
   "source": [
    "def q0Truth(n11,n12,n21,n22,b1,b2,s1hat,s2hat):\n",
    "    muhat = muhatFuncTruth(n11,n12,n21,n22,b1,b2,s1hat,s2hat)\n",
    "    #s1hat = s1\n",
    "    #s2hat = s2\n",
    "    q_1 = 2*( -muhat*s1hat - (n21)*np.log((b1)/(b1+s1hat*muhat)))\n",
    "    q_2 = 2*( -muhat*s2hat - (n22)*np.log((b2)/(b2+s2hat*muhat)))\n",
    "    return q_1+q_2"
   ]
  },
  {
   "cell_type": "markdown",
   "metadata": {},
   "source": [
    "## Generate toy experiments without Run-1 filtering"
   ]
  },
  {
   "cell_type": "code",
   "execution_count": 15,
   "metadata": {
    "collapsed": false
   },
   "outputs": [
    {
     "name": "stderr",
     "output_type": "stream",
     "text": [
      "/System/Library/Frameworks/Python.framework/Versions/2.7/Extras/lib/python/numpy/__init__.py:1: RuntimeWarning: invalid value encountered in true_divide\n",
      "  \"\"\"\n"
     ]
    }
   ],
   "source": [
    "#b experiments, no filtering\n",
    "nExp = 10000\n",
    "btruth=[(b1,100),(b2,100)]\n",
    "struth=[(s1hat,0),(s2hat,0),(muhat,0)]\n",
    "truth=btruth+struth\n",
    "n11.subs(truth),nu12.subs(truth),nu21.subs(truth),nu22.subs(truth)\n",
    "n11_expts = np.random.poisson(nu11.subs(truth),nExp)\n",
    "n12_expts = np.random.poisson(nu12.subs(truth),nExp)\n",
    "n21_expts = np.random.poisson(nu21.subs(truth),nExp)\n",
    "n22_expts = np.random.poisson(nu22.subs(truth),nExp)\n",
    "muhat_b_expts = muhatFunc(n11_expts,n12_expts,n21_expts,n22_expts,float(b1.subs(truth)),float(b2.subs(truth)))\n",
    "muhat_b_expts = filter(lambda x: x<1e6, muhat_b_expts)\n",
    "muhat_b_expts =  np.maximum(-7,np.minimum(7,muhat_b_expts))\n",
    "inclusive_muhat_b_expts = inclusive_muhatFunc(n11_expts,n12_expts,n21_expts,n22_expts,float(b1.subs(truth)),float(b2.subs(truth)))"
   ]
  },
  {
   "cell_type": "code",
   "execution_count": 16,
   "metadata": {
    "collapsed": false
   },
   "outputs": [],
   "source": [
    "#s experiments, no filtering\n",
    "btruth=[(b1,100),(b2,100)]\n",
    "struth=[(s1hat,10*2./2.),(s2hat,10*0./2.),(muhat,1)]\n",
    "truth=btruth+struth\n",
    "n11.subs(truth),nu12.subs(truth),nu21.subs(truth),nu22.subs(truth)\n",
    "n11_expts = np.random.poisson(nu11.subs(truth),nExp)\n",
    "n12_expts = np.random.poisson(nu12.subs(truth),nExp)\n",
    "n21_expts = np.random.poisson(nu21.subs(truth),nExp)\n",
    "n22_expts = np.random.poisson(nu22.subs(truth),nExp)\n",
    "muhat_s_expts = muhatFunc(n11_expts,n12_expts,n21_expts,n22_expts,float(b1.subs(truth)),float(b2.subs(truth)))\n",
    "muhat_s_expts = filter(lambda x: x<1e6, muhat_s_expts)\n",
    "muhat_s_expts =  np.maximum(-7,np.minimum(7,muhat_s_expts))\n",
    "inclusive_muhat_s_expts = inclusive_muhatFunc(n11_expts,n12_expts,n21_expts,n22_expts,float(b1.subs(truth)),float(b2.subs(truth)))"
   ]
  },
  {
   "cell_type": "markdown",
   "metadata": {},
   "source": [
    "## Generate toy experiments *with*  Run-1 filtering"
   ]
  },
  {
   "cell_type": "code",
   "execution_count": 17,
   "metadata": {
    "collapsed": false
   },
   "outputs": [
    {
     "data": {
      "text/plain": [
       "(100, 100, 100, 100)"
      ]
     },
     "execution_count": 17,
     "metadata": {},
     "output_type": "execute_result"
    }
   ],
   "source": [
    "#b experiments, with filtering\n",
    "nExp = 500000\n",
    "btruth=[(b1,100),(b2,100)]\n",
    "struth=[(s1hat,0),(s2hat,0),(muhat,0)]\n",
    "truth=btruth+struth\n",
    "n11_expts = np.random.poisson(nu11.subs(truth),nExp)\n",
    "n12_expts = np.random.poisson(nu12.subs(truth),nExp)\n",
    "#n21_expts = np.random.poisson(nu21.subs(truth),nExp)\n",
    "#n22_expts = np.random.poisson(nu22.subs(truth),nExp)\n",
    "temp = np.zeros(nExp*2).reshape(nExp,2)\n",
    "temp[:,0] = n11_expts\n",
    "temp[:,1] = n12_expts\n",
    "#temp[:,2] = n21_expts\n",
    "#temp[:,3] = n22_expts\n",
    "temp = np.array(filter(lambda x: x[0]>b1.subs(truth)*1.1 and x[1]>b2.subs(truth)*1.1, temp))\n",
    "n11_expts = temp[:,0]\n",
    "n12_expts = temp[:,1]\n",
    "#n21_expts = temp[:,2]\n",
    "#n22_expts = temp[:,3]\n",
    "n21_expts = np.random.poisson(nu21.subs(truth),n11_expts.size)\n",
    "n22_expts = np.random.poisson(nu22.subs(truth),n11_expts.size)\n",
    "len(n22_expts)\n",
    "muhat_b_expts = muhatFunc(n11_expts,n12_expts,n21_expts,n22_expts,float(b1.subs(truth)),float(b2.subs(truth)))\n",
    "muhat_b_expts = filter(lambda x: x<1e6, muhat_b_expts)\n",
    "muhat_b_expts =  np.maximum(-10,np.minimum(10,muhat_b_expts))\n",
    "inclusive_muhat_b_expts = inclusive_muhatFunc(n11_expts,n12_expts,n21_expts,n22_expts,float(b1.subs(truth)),float(b2.subs(truth)))\n",
    "inclusive_q0_b_expts = q0inclusive(n11_expts,n12_expts,n21_expts,n22_expts,float(b1.subs(truth)),float(b2.subs(truth)))\n",
    "q0_b_expts = q0DGSS(n11_expts,n12_expts,n21_expts,n22_expts,float(b1.subs(truth)),float(b2.subs(truth)))\n",
    "nu11.subs(truth),nu12.subs(truth),nu21.subs(truth),nu22.subs(truth)"
   ]
  },
  {
   "cell_type": "code",
   "execution_count": 18,
   "metadata": {
    "collapsed": false
   },
   "outputs": [],
   "source": [
    "#b truth experiments, need to know true signal rate\n",
    "#experiments are still the b-only ones\n",
    "struth=[(s1hat,50),(s2hat,1),(muhat,1)]\n",
    "truth=btruth+struth\n",
    "truth_q0_b_expts = q0Truth(n11_expts,n12_expts,n21_expts,n22_expts,float(b1.subs(truth)),float(b2.subs(truth)),float(s1hat.subs(truth)),float(s2hat.subs(truth)))"
   ]
  },
  {
   "cell_type": "code",
   "execution_count": 19,
   "metadata": {
    "collapsed": false
   },
   "outputs": [
    {
     "data": {
      "text/plain": [
       "15.76318163696102"
      ]
     },
     "execution_count": 19,
     "metadata": {},
     "output_type": "execute_result"
    }
   ],
   "source": [
    "np.max(truth_q0_b_expts)"
   ]
  },
  {
   "cell_type": "code",
   "execution_count": 20,
   "metadata": {
    "collapsed": false
   },
   "outputs": [
    {
     "data": {
      "text/plain": [
       "1676"
      ]
     },
     "execution_count": 20,
     "metadata": {},
     "output_type": "execute_result"
    }
   ],
   "source": [
    "#s experiments, with filtering\n",
    "nExp = 10000\n",
    "#ok, now make s+b experimentes\n",
    "n11_expts = np.random.poisson(nu11.subs(truth),nExp)\n",
    "n12_expts = np.random.poisson(nu12.subs(truth),nExp)\n",
    "#n21_expts = np.random.poisson(nu21.subs(truth),nExp)\n",
    "#n22_expts = np.random.poisson(nu22.subs(truth),nExp)\n",
    "temp = np.zeros(nExp*2).reshape(nExp,2)\n",
    "temp[:,0] = n11_expts\n",
    "temp[:,1] = n12_expts\n",
    "#temp[:,2] = n21_expts\n",
    "#temp[:,3] = n22_expts\n",
    "temp = np.array(filter(lambda x: x[0]>b1.subs(truth)*1.1 and x[1]>b2.subs(truth)*1.1, temp))\n",
    "n11_expts = temp[:,0]\n",
    "n12_expts = temp[:,1]\n",
    "#n21_expts = temp[:,2]\n",
    "#n22_expts = temp[:,3]\n",
    "n21_expts = np.random.poisson(nu21.subs(truth),n11_expts.size)\n",
    "n22_expts = np.random.poisson(nu22.subs(truth),n11_expts.size)\n",
    "muhat_s_expts = muhatFunc(n11_expts,n12_expts,n21_expts,n22_expts,float(b1.subs(truth)),float(b2.subs(truth)))\n",
    "muhat_s_expts = filter(lambda x: x<1e6, muhat_s_expts)\n",
    "muhat_s_expts =  np.maximum(-10,np.minimum(10,muhat_s_expts))\n",
    "inclusive_muhat_s_expts = inclusive_muhatFunc(n11_expts,n12_expts,n21_expts,n22_expts,float(b1.subs(truth)),float(b2.subs(truth)))\n",
    "inclusive_q0_s_expts = q0inclusive(n11_expts,n12_expts,n21_expts,n22_expts,float(b1.subs(truth)),float(b2.subs(truth)))\n",
    "q0_s_expts = q0DGSS(n11_expts,n12_expts,n21_expts,n22_expts,float(b1.subs(truth)),float(b2.subs(truth)))\n",
    "truth_q0_s_expts = q0Truth(n11_expts,n12_expts,n21_expts,n22_expts,float(b1.subs(truth)),float(b2.subs(truth)),float(s1hat.subs(truth)),float(s2hat.subs(truth)))\n",
    "nu11.subs(truth),nu12.subs(truth),nu21.subs(truth),nu22.subs(truth)\n",
    "len(muhat_s_expts)"
   ]
  },
  {
   "cell_type": "code",
   "execution_count": 21,
   "metadata": {
    "collapsed": false
   },
   "outputs": [
    {
     "name": "stdout",
     "output_type": "stream",
     "text": [
      "shat | s = 0.920 +/- 0.094\n",
      "shat | b = 0.002 +/- 0.213\n"
     ]
    },
    {
     "data": {
      "text/plain": [
       "(1676, 10850)"
      ]
     },
     "execution_count": 21,
     "metadata": {},
     "output_type": "execute_result"
    },
    {
     "data": {
      "image/png": "[encoded data removed]",
      "text/plain": [
       "<matplotlib.figure.Figure at 0x113402b90>"
      ]
     },
     "metadata": {},
     "output_type": "display_data"
    }
   ],
   "source": [
    "#s vs. b for this method\n",
    "edges = np.linspace(-10,10,200)\n",
    "#non uniform binning\n",
    "#edges=np.append(np.arange(-10,-3,1),np.arange(-3,5,.1))\n",
    "#np.append(edges,np.arange(5,10,1))\n",
    "#print len(edges)\n",
    "s_contents, edges, patches = plt.hist(muhat_s_expts,bins=edges,alpha=0.3,color='b')\n",
    "b_contents, edges, patches = plt.hist(muhat_b_expts,bins=edges,alpha=0.3,color='g')\n",
    "plt.title('s vs. b, this method')\n",
    "print \"shat | s = %.3f +/- %.3f\" %(np.mean(muhat_s_expts), np.var(muhat_s_expts))\n",
    "print \"shat | b = %.3f +/- %.3f\" %(np.mean(muhat_b_expts), np.var(muhat_b_expts))\n",
    "np.min(muhat_b_expts),np.max(muhat_b_expts)\n",
    "len(muhat_s_expts), len(muhat_b_expts)"
   ]
  },
  {
   "cell_type": "code",
   "execution_count": 22,
   "metadata": {
    "collapsed": false
   },
   "outputs": [
    {
     "name": "stdout",
     "output_type": "stream",
     "text": [
      "shat | s = 0.807 +/- 0.091\n",
      "shat | b = 0.001 +/- 0.217\n"
     ]
    },
    {
     "data": {
      "text/plain": [
       "array([-2.04259018, -1.89218136, -1.85647983, -1.82529335, -1.74927114,\n",
       "       -1.70762182, -1.69165705, -1.66597251, -1.65145589, -1.59200296])"
      ]
     },
     "execution_count": 22,
     "metadata": {},
     "output_type": "execute_result"
    },
    {
     "data": {
      "image/png": "[encoded data removed]",
      "text/plain": [
       "<matplotlib.figure.Figure at 0x113402210>"
      ]
     },
     "metadata": {},
     "output_type": "display_data"
    }
   ],
   "source": [
    "#s vs. b for inclusive method\n",
    "i_s_contents, edges, patches = plt.hist(inclusive_muhat_s_expts,bins=edges,alpha=0.3,color='r')\n",
    "i_b_contents, edges, patches = plt.hist(inclusive_muhat_b_expts,bins=edges,alpha=0.3,color='orange')\n",
    "plt.title('s vs. b, inclusive method')\n",
    "print \"shat | s = %.3f +/- %.3f\" %(np.mean(inclusive_muhat_s_expts), np.var(inclusive_muhat_s_expts))\n",
    "print \"shat | b = %.3f +/- %.3f\" %(np.mean(inclusive_muhat_b_expts), np.var(inclusive_muhat_b_expts))\n",
    "np.min(inclusive_muhat_b_expts),np.max(inclusive_muhat_b_expts)\n",
    "np.sort(inclusive_muhat_b_expts)[:10] #there are lots of very negative entries\n",
    "#np.sort(inclusive_muhat_b_expts)[-10:] #there are lots of very negative entries"
   ]
  },
  {
   "cell_type": "code",
   "execution_count": 23,
   "metadata": {
    "collapsed": false
   },
   "outputs": [],
   "source": [
    "#matplotlib.rcParams['figure.figsize'] = [800,800]"
   ]
  },
  {
   "cell_type": "code",
   "execution_count": 24,
   "metadata": {
    "collapsed": false
   },
   "outputs": [
    {
     "data": {
      "text/plain": [
       "<matplotlib.text.Text at 0x114d39590>"
      ]
     },
     "execution_count": 24,
     "metadata": {},
     "output_type": "execute_result"
    },
    {
     "data": {
      "image/png": "[encoded data removed]",
      "text/plain": [
       "<matplotlib.figure.Figure at 0x11477cb50>"
      ]
     },
     "metadata": {},
     "output_type": "display_data"
    }
   ],
   "source": [
    "#compare s distributions\n",
    "contents, edges, patches = plt.hist(muhat_s_expts,bins=edges,alpha=0.3,color='b')\n",
    "contents, edges, patches = plt.hist(inclusive_muhat_s_expts,bins=edges,alpha=0.3,color='r')\n",
    "plt.title('s comparison')"
   ]
  },
  {
   "cell_type": "code",
   "execution_count": 25,
   "metadata": {
    "collapsed": false
   },
   "outputs": [
    {
     "data": {
      "text/plain": [
       "<matplotlib.text.Text at 0x114de6710>"
      ]
     },
     "execution_count": 25,
     "metadata": {},
     "output_type": "execute_result"
    },
    {
     "data": {
      "image/png": "[encoded data removed]",
      "text/plain": [
       "<matplotlib.figure.Figure at 0x114e06550>"
      ]
     },
     "metadata": {},
     "output_type": "display_data"
    }
   ],
   "source": [
    "#compare b distributions\n",
    "contents, edges, patches = plt.hist(muhat_b_expts,bins=edges,alpha=0.3,color='g')\n",
    "contents, edges, patches = plt.hist(inclusive_muhat_b_expts,bins=edges,alpha=0.3,color='orange')\n",
    "plt.title('b comparison')"
   ]
  },
  {
   "cell_type": "code",
   "execution_count": 26,
   "metadata": {
    "collapsed": false
   },
   "outputs": [
    {
     "data": {
      "image/png": "[encoded data removed]",
      "text/plain": [
       "<matplotlib.figure.Figure at 0x114d6a390>"
      ]
     },
     "metadata": {},
     "output_type": "display_data"
    }
   ],
   "source": [
    "#figsize(600,600)\n",
    "fig, ax = plt.subplots(2,2,sharex=True, sharey=True)\n",
    "#plt.figure(None,figsize=(1800,1800))\n",
    "\n",
    "contents, edges, patches = ax[0][0].hist(muhat_s_expts,bins=edges,alpha=0.3,color='b')\n",
    "contents, edges, patches = ax[0][0].hist(muhat_b_expts,bins=edges,alpha=0.3,color='g')\n",
    "\n",
    "contents, edges, patches = ax[0][1].hist(inclusive_muhat_s_expts,bins=edges,alpha=0.3,color='r')\n",
    "contents, edges, patches = ax[0][1].hist(inclusive_muhat_b_expts,bins=edges,alpha=0.3,color='orange')\n",
    "\n",
    "contents, edges, patches = ax[1][0].hist(muhat_s_expts,bins=edges,alpha=0.3,color='b')\n",
    "contents, edges, patches = ax[1][0].hist(inclusive_muhat_s_expts,bins=edges,alpha=0.3,color='r')\n",
    "\n",
    "contents, edges, patches = ax[1][1].hist(inclusive_muhat_b_expts,bins=edges,alpha=0.3,color='orange')\n",
    "contents, edges, patches = ax[1][1].hist(muhat_b_expts,bins=edges,alpha=0.3,color='g')"
   ]
  },
  {
   "cell_type": "code",
   "execution_count": 27,
   "metadata": {
    "collapsed": false
   },
   "outputs": [
    {
     "data": {
      "text/plain": [
       "(9.2165898617491138e-05, 1.05)"
      ]
     },
     "execution_count": 27,
     "metadata": {},
     "output_type": "execute_result"
    },
    {
     "data": {
      "image/png": "[encoded data removed]",
      "text/plain": [
       "<matplotlib.figure.Figure at 0x114f743d0>"
      ]
     },
     "metadata": {},
     "output_type": "display_data"
    }
   ],
   "source": [
    "plt.plot(edges[:-1],1.-np.cumsum(s_contents)/np.sum(s_contents),c='b')\n",
    "plt.plot(edges[:-1],1.-np.cumsum(b_contents)/np.sum(b_contents),c='g')\n",
    "plt.plot(edges[:-1],1.-np.cumsum(i_s_contents)/np.sum(i_s_contents),c='r')\n",
    "plt.plot(edges[:-1],1.-np.cumsum(i_b_contents)/np.sum(i_b_contents),c='orange')\n",
    "plt.xlabel('muhat')\n",
    "plt.ylabel('p-value')\n",
    "plt.semilogy()\n",
    "plt.ylim(0,1.05)"
   ]
  },
  {
   "cell_type": "code",
   "execution_count": 28,
   "metadata": {
    "collapsed": false
   },
   "outputs": [
    {
     "data": {
      "text/plain": [
       "[]"
      ]
     },
     "execution_count": 28,
     "metadata": {},
     "output_type": "execute_result"
    },
    {
     "data": {
      "image/png": "[encoded data removed]",
      "text/plain": [
       "<matplotlib.figure.Figure at 0x115592b90>"
      ]
     },
     "metadata": {},
     "output_type": "display_data"
    }
   ],
   "source": [
    "plt.plot(1.-np.cumsum(b_contents)/np.sum(b_contents),1.-np.cumsum(s_contents)/np.sum(s_contents),c='black',lw=2)\n",
    "plt.plot(1.-np.cumsum(i_b_contents)/np.sum(i_b_contents),1.-np.cumsum(i_s_contents)/np.sum(i_s_contents),c='black',lw=1)\n",
    "plt.xlabel('type I error')\n",
    "plt.ylabel('power')\n",
    "plt.title('s1=%d b1=%d s2=%d b2=%d' %(s1hat.subs(struth),b1.subs(btruth), s2hat.subs(struth),b2.subs(btruth),))\n",
    "plt.legend(('DGSS', 'inclusive'),loc='upper left' )\n",
    "plt.loglog()\n",
    "#plt.savefig(\"power_s1_%d_b1_%d_s2_%d_b2_%d.pdf\" %(s1hat.subs(struth),b1.subs(btruth), s2hat.subs(struth),b2.subs(btruth),))"
   ]
  },
  {
   "cell_type": "markdown",
   "metadata": {},
   "source": [
    "Notes to self:\n",
    "\n",
    "current filtering is s1hat >0 and s2hat > 0. Instead we might want cumulative n1+n2-b1-b2>0, but then need to make this method ignore bin if sihat<0.\n",
    "\n",
    "Might want to cut harder than 0\n",
    "\n",
    "muhat not best test statistic. If shat small and n2-b2 also small, can get muhat large. Should move to lambda(0).\n"
   ]
  },
  {
   "cell_type": "code",
   "execution_count": 29,
   "metadata": {
    "collapsed": true
   },
   "outputs": [],
   "source": [
    "testSize=0.01"
   ]
  },
  {
   "cell_type": "code",
   "execution_count": 30,
   "metadata": {
    "collapsed": false
   },
   "outputs": [
    {
     "name": "stdout",
     "output_type": "stream",
     "text": [
      "13.2555468334 1.28031871018\n"
     ]
    },
    {
     "data": {
      "image/png": "[encoded data removed]",
      "text/plain": [
       "<matplotlib.figure.Figure at 0x115dece50>"
      ]
     },
     "metadata": {},
     "output_type": "display_data"
    }
   ],
   "source": [
    "pylab.yscale('symlog',linthreshy=1) #works for histograms\n",
    "i_s_contents, edges, patches = plt.hist(inclusive_q0_s_expts,normed=False, bins=100, alpha=0.3, color='r')\n",
    "i_b_contents, edges, patches = plt.hist(inclusive_q0_b_expts,normed=False, bins=edges, alpha=0.3, color='orange')\n",
    "i_s_cumsum = np.cumsum(i_s_contents)/np.sum(i_s_contents)\n",
    "i_b_cumsum = np.cumsum(i_b_contents)/np.sum(i_b_contents)\n",
    "i_index = np.searchsorted(i_b_cumsum,1.-testSize)\n",
    "print np.mean(inclusive_q0_s_expts), np.var(inclusive_q0_s_expts)/np.sqrt(inclusive_q0_s_expts.size)\n",
    "plt.xlabel('$q_0$')\n",
    "plt.ylabel('$p( q_0 )$')\n",
    "plt.legend(('s+b', 'b-only'),loc='upper right')\n",
    "plt.title('inclusive: $s_1=%d$ $b_1=%d$ $s_2=%d$ $b_2=%d$' %(s1hat.subs(struth),b1.subs(btruth), s2hat.subs(struth),b2.subs(btruth),))\n",
    "#plt.ylim(1e-4,1)\n",
    "plt.savefig(\"q0_dist_incl_s1_%d_b1_%d_s2_%d_b2_%d.pdf\" %(s1hat.subs(struth),b1.subs(btruth), s2hat.subs(struth),b2.subs(btruth),))"
   ]
  },
  {
   "cell_type": "code",
   "execution_count": 34,
   "metadata": {
    "collapsed": false
   },
   "outputs": [
    {
     "name": "stdout",
     "output_type": "stream",
     "text": [
      "20.8745958606 2.22562078746\n"
     ]
    },
    {
     "data": {
      "image/png": "[encoded data removed]",
      "text/plain": [
       "<matplotlib.figure.Figure at 0x115e6e850>"
      ]
     },
     "metadata": {},
     "output_type": "display_data"
    }
   ],
   "source": [
    "pylab.yscale('symlog',linthreshy=1) #works for histograms\n",
    "s_contents, edges, patches = plt.hist(q0_s_expts, bins=100, alpha=0.3, color='b')\n",
    "b_contents, edges, patches = plt.hist(q0_b_expts, bins=edges, alpha=0.3, color='g')\n",
    "s_cumsum = np.cumsum(s_contents)/np.sum(s_contents)\n",
    "b_cumsum = np.cumsum(b_contents)/np.sum(b_contents)\n",
    "index = np.searchsorted(b_cumsum,1.-testSize)\n",
    "print np.mean(q0_s_expts), np.var(q0_s_expts)/np.sqrt(q0_s_expts.size)\n",
    "plt.xlabel('$q_0$')\n",
    "plt.ylabel('$p( q_0 )$')\n",
    "plt.legend(('s+b', 'b-only'),loc='upper right')\n",
    "plt.title('DGSS: $s_1=%d$ $b_1=%d$ $s_2=%d$ $b_2=%d$' %(s1hat.subs(struth),b1.subs(btruth), s2hat.subs(struth),b2.subs(btruth),))\n",
    "plt.savefig(\"q0_dist_DGSS_s1_%d_b1_%d_s2_%d_b2_%d.pdf\" %(s1hat.subs(struth),b1.subs(btruth), s2hat.subs(struth),b2.subs(btruth),))"
   ]
  },
  {
   "cell_type": "code",
   "execution_count": 36,
   "metadata": {
    "collapsed": false
   },
   "outputs": [
    {
     "name": "stdout",
     "output_type": "stream",
     "text": [
      "23.0774493425 2.43643106026\n"
     ]
    },
    {
     "data": {
      "image/png": "[encoded data removed]",
      "text/plain": [
       "<matplotlib.figure.Figure at 0x115981fd0>"
      ]
     },
     "metadata": {},
     "output_type": "display_data"
    }
   ],
   "source": [
    "pylab.yscale('symlog',linthreshy=1) #works for histograms\n",
    "truth_s_contents, edges, patches = plt.hist(truth_q0_s_expts, bins=100, alpha=0.3, color='y')\n",
    "truth_b_contents, edges, patches = plt.hist(truth_q0_b_expts, bins=edges, alpha=0.3, color='cyan')\n",
    "truth_s_cumsum = np.cumsum(truth_s_contents)/np.sum(truth_s_contents)\n",
    "truth_b_cumsum = np.cumsum(truth_b_contents)/np.sum(truth_b_contents)\n",
    "truth_index = np.searchsorted(truth_b_cumsum,1.-testSize)\n",
    "print np.mean(truth_q0_s_expts), np.var(truth_q0_s_expts)/np.sqrt(truth_q0_s_expts.size)\n",
    "plt.xlabel('$q_0$')\n",
    "plt.ylabel('$p( q_0 )$')\n",
    "plt.legend(('s+b', 'b-only','other'),loc='upper right')\n",
    "plt.title('Truth: $s_1=%d$ $b_1=%d$ $s_2=%d$ $b_2=%d$' %(s1hat.subs(struth),b1.subs(btruth), s2hat.subs(struth),b2.subs(btruth),))\n",
    "plt.savefig(\"tq0_dist_truth_s1_%d_b1_%d_s2_%d_b2_%d.pdf\" %(s1hat.subs(struth),b1.subs(btruth), s2hat.subs(struth),b2.subs(btruth),))"
   ]
  },
  {
   "cell_type": "code",
   "execution_count": 38,
   "metadata": {
    "collapsed": false
   },
   "outputs": [
    {
     "data": {
      "text/plain": [
       "(15, 13, 11)"
      ]
     },
     "execution_count": 38,
     "metadata": {},
     "output_type": "execute_result"
    }
   ],
   "source": [
    "i_index, index, truth_index"
   ]
  },
  {
   "cell_type": "code",
   "execution_count": 48,
   "metadata": {
    "collapsed": false
   },
   "outputs": [
    {
     "data": {
      "image/png": "[encoded data removed]",
      "text/plain": [
       "<matplotlib.figure.Figure at 0x1161cc4d0>"
      ]
     },
     "metadata": {},
     "output_type": "display_data"
    }
   ],
   "source": [
    "plt.plot(1.-b_cumsum,1.-s_cumsum,c='black',lw=2)\n",
    "plt.plot(1.-i_b_cumsum,1.-i_s_cumsum,c='black',lw=1)\n",
    "plt.plot(1.-truth_b_cumsum,1.-truth_s_cumsum,c='black',lw=1,ls='--')\n",
    "plt.scatter(1.-b_cumsum[index],1.-s_cumsum[index],alpha=0.9,marker='+',s=200,lw=2, c='black')\n",
    "plt.scatter(1.-i_b_cumsum[i_index],1.-i_s_cumsum[i_index],alpha=0.9,marker='+',s=200,c='black')\n",
    "plt.scatter(1.-truth_b_cumsum[truth_index],1.-truth_s_cumsum[truth_index],alpha=0.9,marker='+',s=200,c='black')\n",
    "power_DGSS=100*(1.-s_cumsum[index])\n",
    "power_inclusive=100*(1.-i_s_cumsum[i_index])\n",
    "power_truth=100*(1.-truth_s_cumsum[truth_index])\n",
    "lab_power_DGSS='power DGSS %.0f %%' %(power_DGSS)\n",
    "lab_power_inclusive='power inclusive %.0f%%' %(power_inclusive)\n",
    "lab_power_truth='power truth %.0f%%' %(power_truth)\n",
    "plt.xlabel('type I error')\n",
    "plt.ylabel('power')\n",
    "plt.title('$s_1=%d$ $b_1=%d$ $s_2=%d$ $b_2=%d$' %(s1hat.subs(struth),b1.subs(btruth), s2hat.subs(struth),b2.subs(btruth),))\n",
    "plt.legend(('DGSS', 'inclusive','truth',lab_power_DGSS,lab_power_inclusive,lab_power_truth),loc='lower right', scatterpoints=1 )\n",
    "plt.ylim(5e-1,1)\n",
    "plt.xlim(1e-3,1)\n",
    "plt.loglog()\n",
    "plt.savefig(\"q0_power_s1_%d_b1_%d_s2_%d_b2_%d.pdf\" %(s1hat.subs(struth),b1.subs(btruth), s2hat.subs(struth),b2.subs(btruth),))"
   ]
  },
  {
   "cell_type": "code",
   "execution_count": 386,
   "metadata": {
    "collapsed": false
   },
   "outputs": [
    {
     "data": {
      "text/plain": [
       "(9.2242413061494055e-05, 1.05)"
      ]
     },
     "execution_count": 386,
     "metadata": {},
     "output_type": "execute_result"
    },
    {
     "data": {
      "image/png": "[encoded data removed]",
      "text/plain": [
       "<matplotlib.figure.Figure at 0x1157c8490>"
      ]
     },
     "metadata": {},
     "output_type": "display_data"
    }
   ],
   "source": [
    "plt.plot(edges[:-1],1.-s_cumsum,c='b')\n",
    "plt.plot(edges[:-1],1.-b_cumsum,c='g')\n",
    "plt.plot(edges[:-1],1.-i_s_cumsum,c='r')\n",
    "plt.plot(edges[:-1],1.-i_b_cumsum,c='orange')\n",
    "plt.xlabel('$q_0$')\n",
    "plt.ylabel('p-value')\n",
    "plt.semilogy()\n",
    "plt.ylim(0,1.05)"
   ]
  },
  {
   "cell_type": "markdown",
   "metadata": {},
   "source": [
    "## Notes:\n",
    "\n",
    "For bi=100, s1=25, s2=0, the b-only q0 distributions aren't the same, one of them isn't a chi^2. Probably DGSS distribution - numerator is invariant, but denominator of both depends on shat... but seems like inclusive approach probaby just soem rescailing while DGSS depends on n11/n12.  Didn't see that for s1=50, why would b-only depend?"
   ]
  },
  {
   "cell_type": "code",
   "execution_count": 371,
   "metadata": {
    "collapsed": false
   },
   "outputs": [],
   "source": [
    "#np.searchsorted?"
   ]
  },
  {
   "cell_type": "code",
   "execution_count": null,
   "metadata": {
    "collapsed": true
   },
   "outputs": [],
   "source": []
  },
  {
   "cell_type": "code",
   "execution_count": 372,
   "metadata": {
    "collapsed": false
   },
   "outputs": [],
   "source": [
    "#plt.legend?"
   ]
  },
  {
   "cell_type": "code",
   "execution_count": null,
   "metadata": {
    "collapsed": true
   },
   "outputs": [],
   "source": []
  }
 ],
 "metadata": {
  "kernelspec": {
   "display_name": "Python 2",
   "language": "python",
   "name": "python2"
  },
  "language_info": {
   "codemirror_mode": {
    "name": "ipython",
    "version": 2
   },
   "file_extension": ".py",
   "mimetype": "text/x-python",
   "name": "python",
   "nbconvert_exporter": "python",
   "pygments_lexer": "ipython2",
   "version": "2.7.6"
  }
 },
 "nbformat": 4,
 "nbformat_minor": 0
}
