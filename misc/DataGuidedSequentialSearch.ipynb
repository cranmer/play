{
 "cells": [
  {
   "cell_type": "code",
   "execution_count": 17,
   "metadata": {
    "collapsed": false
   },
   "outputs": [
    {
     "name": "stdout",
     "output_type": "stream",
     "text": [
      "Populating the interactive namespace from numpy and matplotlib\n"
     ]
    }
   ],
   "source": [
    "%pylab inline --no-import-all\n",
    "from sympy import Symbol, symbols, solve, lambdify\n",
    "#import numpy as np"
   ]
  },
  {
   "cell_type": "code",
   "execution_count": 2,
   "metadata": {
    "collapsed": false
   },
   "outputs": [],
   "source": [
    "#import matplotlib.pyplot as plt"
   ]
  },
  {
   "cell_type": "code",
   "execution_count": 3,
   "metadata": {
    "collapsed": false
   },
   "outputs": [],
   "source": [
    "#observables\n",
    "(n11, n12, n21, n22) =  symbols('n11 n12 n21 n22')\n",
    "#parameters\n",
    "(s1, s2, b1, b2, mu) =  symbols('s1 s2 b1 b2 mu')\n",
    "#helpers\n",
    "(n1, n2, nu11, nu12, n21, nu22) =  symbols('n1 n2 nu11 nu12 nu21 n22')\n",
    "#estimators\n",
    "(s1hat, s2hat, muhat) = symbols('s1hat s2hat muhat')"
   ]
  },
  {
   "cell_type": "code",
   "execution_count": 4,
   "metadata": {
    "collapsed": false
   },
   "outputs": [],
   "source": [
    "#first run\n",
    "nu11 = s1hat + b1\n",
    "nu12 = s2hat + b2\n",
    "#second run\n",
    "nu21 = muhat*s1hat+b1\n",
    "nu22 = muhat*s2hat+b2"
   ]
  },
  {
   "cell_type": "code",
   "execution_count": 5,
   "metadata": {
    "collapsed": false
   },
   "outputs": [
    {
     "data": {
      "text/plain": [
       "(5, 5)"
      ]
     },
     "execution_count": 5,
     "metadata": {},
     "output_type": "execute_result"
    }
   ],
   "source": [
    "#first run\n",
    "shatSubs = [(key, val) for key,val in solve([n11-nu11, n12-nu12], s1hat, s2hat).iteritems()]\n",
    "moreSubs = shatSubs+[(n11,10),(n12,10),(n21,10),(n22,10),(b1,5),(b2,5)]\n",
    "s1hat.subs(moreSubs), s2hat.subs(moreSubs)"
   ]
  },
  {
   "cell_type": "code",
   "execution_count": 6,
   "metadata": {
    "collapsed": false
   },
   "outputs": [],
   "source": [
    "#second run\n",
    "[expr1, expr2] = solve( s1hat+s2hat - n21*s1hat/nu21 - n22*s2hat/nu22, muhat)"
   ]
  },
  {
   "cell_type": "code",
   "execution_count": 7,
   "metadata": {
    "collapsed": false
   },
   "outputs": [
    {
     "data": {
      "text/plain": [
       "(-1, 1)"
      ]
     },
     "execution_count": 7,
     "metadata": {},
     "output_type": "execute_result"
    }
   ],
   "source": [
    "expr1.subs(moreSubs),expr2.subs(moreSubs)"
   ]
  },
  {
   "cell_type": "code",
   "execution_count": 8,
   "metadata": {
    "collapsed": false
   },
   "outputs": [
    {
     "data": {
      "text/plain": [
       "1.0"
      ]
     },
     "execution_count": 8,
     "metadata": {},
     "output_type": "execute_result"
    }
   ],
   "source": [
    "muhatFunc = lambdify((n11,n12,n21,n22,b1,b2), expr2.subs(shatSubs), \"numpy\")\n",
    "muhatFunc(10,10,10,10,5,5)"
   ]
  },
  {
   "cell_type": "code",
   "execution_count": 210,
   "metadata": {
    "collapsed": true
   },
   "outputs": [],
   "source": [
    "def inclusive_muhatFunc(n11,n12,n21,n22,b1,b2):\n",
    "    shat = 1.*(n11+n12-b1-b2)+.01\n",
    "    return np.maximum(-7,np.minimum(7,np.divide(n21+n22-b1-b2,shat)))"
   ]
  },
  {
   "cell_type": "markdown",
   "metadata": {},
   "source": [
    "## Generate toy experiments without Run-1 filtering"
   ]
  },
  {
   "cell_type": "code",
   "execution_count": 720,
   "metadata": {
    "collapsed": false
   },
   "outputs": [],
   "source": [
    "#b experiments, no filtering\n",
    "nExp = 10000\n",
    "btruth=[(b1,100),(b2,100)]\n",
    "struth=[(s1hat,0),(s2hat,0),(muhat,0)]\n",
    "truth=btruth+struth\n",
    "n11.subs(truth),nu12.subs(truth),nu21.subs(truth),nu22.subs(truth)\n",
    "n11_expts = np.random.poisson(nu11.subs(truth),nExp)\n",
    "n12_expts = np.random.poisson(nu12.subs(truth),nExp)\n",
    "n21_expts = np.random.poisson(nu21.subs(truth),nExp)\n",
    "n22_expts = np.random.poisson(nu22.subs(truth),nExp)\n",
    "muhat_b_expts = muhatFunc(n11_expts,n12_expts,n21_expts,n22_expts,float(b1.subs(truth)),float(b2.subs(truth)))\n",
    "muhat_b_expts = filter(lambda x: x<1e6, muhat_b_expts)\n",
    "muhat_b_expts =  np.maximum(-7,np.minimum(7,muhat_b_expts))\n",
    "inclusive_muhat_b_expts = inclusive_muhatFunc(n11_expts,n12_expts,n21_expts,n22_expts,float(b1.subs(truth)),float(b2.subs(truth)))"
   ]
  },
  {
   "cell_type": "code",
   "execution_count": 721,
   "metadata": {
    "collapsed": false
   },
   "outputs": [],
   "source": [
    "#s experiments, no filtering\n",
    "btruth=[(b1,100),(b2,100)]\n",
    "struth=[(s1hat,10*2./2.),(s2hat,10*0./2.),(muhat,1)]\n",
    "truth=btruth+struth\n",
    "n11.subs(truth),nu12.subs(truth),nu21.subs(truth),nu22.subs(truth)\n",
    "n11_expts = np.random.poisson(nu11.subs(truth),nExp)\n",
    "n12_expts = np.random.poisson(nu12.subs(truth),nExp)\n",
    "n21_expts = np.random.poisson(nu21.subs(truth),nExp)\n",
    "n22_expts = np.random.poisson(nu22.subs(truth),nExp)\n",
    "muhat_s_expts = muhatFunc(n11_expts,n12_expts,n21_expts,n22_expts,float(b1.subs(truth)),float(b2.subs(truth)))\n",
    "muhat_s_expts = filter(lambda x: x<1e6, muhat_s_expts)\n",
    "muhat_s_expts =  np.maximum(-7,np.minimum(7,muhat_s_expts))\n",
    "inclusive_muhat_s_expts = inclusive_muhatFunc(n11_expts,n12_expts,n21_expts,n22_expts,float(b1.subs(truth)),float(b2.subs(truth)))"
   ]
  },
  {
   "cell_type": "markdown",
   "metadata": {},
   "source": [
    "## Generate toy experiments *with*  Run-1 filtering"
   ]
  },
  {
   "cell_type": "code",
   "execution_count": 849,
   "metadata": {
    "collapsed": false
   },
   "outputs": [
    {
     "data": {
      "text/plain": [
       "(100, 100, 100, 100)"
      ]
     },
     "execution_count": 849,
     "metadata": {},
     "output_type": "execute_result"
    }
   ],
   "source": [
    "#b experiments, with filtering\n",
    "nExp = 300000\n",
    "btruth=[(b1,100),(b2,100)]\n",
    "struth=[(s1hat,0),(s2hat,0),(muhat,0)]\n",
    "truth=btruth+struth\n",
    "n11_expts = np.random.poisson(nu11.subs(truth),nExp)\n",
    "n12_expts = np.random.poisson(nu12.subs(truth),nExp)\n",
    "n21_expts = np.random.poisson(nu21.subs(truth),nExp)\n",
    "n22_expts = np.random.poisson(nu22.subs(truth),nExp)\n",
    "temp = np.zeros(nExp*4).reshape(nExp,4)\n",
    "temp[:,0] = n11_expts\n",
    "temp[:,1] = n12_expts\n",
    "temp[:,2] = n21_expts\n",
    "temp[:,3] = n22_expts\n",
    "temp = np.array(filter(lambda x: x[0]>b1.subs(truth)*1.1 and x[1]>b2.subs(truth)*1.1, temp))\n",
    "n11_expts = temp[:,0]\n",
    "n12_expts = temp[:,1]\n",
    "n21_expts = temp[:,2]\n",
    "n22_expts = temp[:,3]\n",
    "len(n22_expts)\n",
    "muhat_b_expts = muhatFunc(n11_expts,n12_expts,n21_expts,n22_expts,float(b1.subs(truth)),float(b2.subs(truth)))\n",
    "muhat_b_expts = filter(lambda x: x<1e6, muhat_b_expts)\n",
    "muhat_b_expts =  np.maximum(-10,np.minimum(10,muhat_b_expts))\n",
    "inclusive_muhat_b_expts = inclusive_muhatFunc(n11_expts,n12_expts,n21_expts,n22_expts,float(b1.subs(truth)),float(b2.subs(truth)))\n",
    "nu11.subs(truth),nu12.subs(truth),nu21.subs(truth),nu22.subs(truth)"
   ]
  },
  {
   "cell_type": "code",
   "execution_count": 850,
   "metadata": {
    "collapsed": false
   },
   "outputs": [
    {
     "data": {
      "text/plain": [
       "(150, 100, 150, 100)"
      ]
     },
     "execution_count": 850,
     "metadata": {},
     "output_type": "execute_result"
    }
   ],
   "source": [
    "#s experiments, with filtering\n",
    "nExp = 10000\n",
    "struth=[(s1hat,50),(s2hat,0),(muhat,1)]\n",
    "truth=btruth+struth\n",
    "n11_expts = np.random.poisson(nu11.subs(truth),nExp)\n",
    "n12_expts = np.random.poisson(nu12.subs(truth),nExp)\n",
    "n21_expts = np.random.poisson(nu21.subs(truth),nExp)\n",
    "n22_expts = np.random.poisson(nu22.subs(truth),nExp)\n",
    "temp = np.zeros(nExp*4).reshape(nExp,4)\n",
    "temp[:,0] = n11_expts\n",
    "temp[:,1] = n12_expts\n",
    "temp[:,2] = n21_expts\n",
    "temp[:,3] = n22_expts\n",
    "temp = np.array(filter(lambda x: x[0]>b1.subs(truth)*1.1 and x[1]>b2.subs(truth)*1.1, temp))\n",
    "n11_expts = temp[:,0]\n",
    "n12_expts = temp[:,1]\n",
    "n21_expts = temp[:,2]\n",
    "n22_expts = temp[:,3]\n",
    "len(muhat_s_expts)\n",
    "muhat_s_expts = muhatFunc(n11_expts,n12_expts,n21_expts,n22_expts,float(b1.subs(truth)),float(b2.subs(truth)))\n",
    "muhat_s_expts = filter(lambda x: x<1e6, muhat_s_expts)\n",
    "muhat_s_expts =  np.maximum(-10,np.minimum(10,muhat_s_expts))\n",
    "inclusive_muhat_s_expts = inclusive_muhatFunc(n11_expts,n12_expts,n21_expts,n22_expts,float(b1.subs(truth)),float(b2.subs(truth)))\n",
    "nu11.subs(truth),nu12.subs(truth),nu21.subs(truth),nu22.subs(truth)"
   ]
  },
  {
   "cell_type": "code",
   "execution_count": 851,
   "metadata": {
    "collapsed": false
   },
   "outputs": [
    {
     "name": "stdout",
     "output_type": "stream",
     "text": [
      "shat | s = 0.923 +/- 0.101\n",
      "shat | b = -0.001 +/- 0.214\n"
     ]
    },
    {
     "data": {
      "text/plain": [
       "(1582, 6359)"
      ]
     },
     "execution_count": 851,
     "metadata": {},
     "output_type": "execute_result"
    },
    {
     "data": {
      "image/png": "[encoded data removed]",
      "text/plain": [
       "<matplotlib.figure.Figure at 0x1169a28d0>"
      ]
     },
     "metadata": {},
     "output_type": "display_data"
    }
   ],
   "source": [
    "#s vs. b for this method\n",
    "edges = np.linspace(-10,10,200)\n",
    "#non uniform binning\n",
    "#edges=np.append(np.arange(-10,-3,1),np.arange(-3,5,.1))\n",
    "#np.append(edges,np.arange(5,10,1))\n",
    "#print len(edges)\n",
    "s_contents, edges, patches = plt.hist(muhat_s_expts,bins=edges,alpha=0.3,color='b')\n",
    "b_contents, edges, patches = plt.hist(muhat_b_expts,bins=edges,alpha=0.3,color='g')\n",
    "plt.title('s vs. b, this method')\n",
    "print \"shat | s = %.3f +/- %.3f\" %(np.mean(muhat_s_expts), np.var(muhat_s_expts))\n",
    "print \"shat | b = %.3f +/- %.3f\" %(np.mean(muhat_b_expts), np.var(muhat_b_expts))\n",
    "np.min(muhat_b_expts),np.max(muhat_b_expts)\n",
    "len(muhat_s_expts), len(muhat_b_expts)"
   ]
  },
  {
   "cell_type": "code",
   "execution_count": 852,
   "metadata": {
    "collapsed": false
   },
   "outputs": [
    {
     "name": "stdout",
     "output_type": "stream",
     "text": [
      "shat | s = 0.797 +/- 0.100\n",
      "shat | b = -0.002 +/- 0.219\n"
     ]
    },
    {
     "data": {
      "text/plain": [
       "array([-1.87421908, -1.68105407, -1.67932827, -1.63934426, -1.60799652,\n",
       "       -1.58267389, -1.55937625, -1.51795631, -1.4994233 , -1.46097655])"
      ]
     },
     "execution_count": 852,
     "metadata": {},
     "output_type": "execute_result"
    },
    {
     "data": {
      "image/png": "[encoded data removed]",
      "text/plain": [
       "<matplotlib.figure.Figure at 0x11c43ac10>"
      ]
     },
     "metadata": {},
     "output_type": "display_data"
    }
   ],
   "source": [
    "#s vs. b for inclusive method\n",
    "i_s_contents, edges, patches = plt.hist(inclusive_muhat_s_expts,bins=edges,alpha=0.3,color='r')\n",
    "i_b_contents, edges, patches = plt.hist(inclusive_muhat_b_expts,bins=edges,alpha=0.3,color='orange')\n",
    "plt.title('s vs. b, inclusive method')\n",
    "print \"shat | s = %.3f +/- %.3f\" %(np.mean(inclusive_muhat_s_expts), np.var(inclusive_muhat_s_expts))\n",
    "print \"shat | b = %.3f +/- %.3f\" %(np.mean(inclusive_muhat_b_expts), np.var(inclusive_muhat_b_expts))\n",
    "np.min(inclusive_muhat_b_expts),np.max(inclusive_muhat_b_expts)\n",
    "np.sort(inclusive_muhat_b_expts)[:10] #there are lots of very negative entries\n",
    "#np.sort(inclusive_muhat_b_expts)[-10:] #there are lots of very negative entries"
   ]
  },
  {
   "cell_type": "code",
   "execution_count": 853,
   "metadata": {
    "collapsed": false
   },
   "outputs": [],
   "source": [
    "#matplotlib.rcParams['figure.figsize'] = [800,800]"
   ]
  },
  {
   "cell_type": "code",
   "execution_count": 854,
   "metadata": {
    "collapsed": false
   },
   "outputs": [
    {
     "data": {
      "text/plain": [
       "<matplotlib.text.Text at 0x11496d550>"
      ]
     },
     "execution_count": 854,
     "metadata": {},
     "output_type": "execute_result"
    },
    {
     "data": {
      "image/png": "[encoded data removed]",
      "text/plain": [
       "<matplotlib.figure.Figure at 0x116621d50>"
      ]
     },
     "metadata": {},
     "output_type": "display_data"
    }
   ],
   "source": [
    "#compare s distributions\n",
    "contents, edges, patches = plt.hist(muhat_s_expts,bins=edges,alpha=0.3,color='b')\n",
    "contents, edges, patches = plt.hist(inclusive_muhat_s_expts,bins=edges,alpha=0.3,color='r')\n",
    "plt.title('s comparison')"
   ]
  },
  {
   "cell_type": "code",
   "execution_count": 855,
   "metadata": {
    "collapsed": false
   },
   "outputs": [
    {
     "data": {
      "text/plain": [
       "<matplotlib.text.Text at 0x11c05db10>"
      ]
     },
     "execution_count": 855,
     "metadata": {},
     "output_type": "execute_result"
    },
    {
     "data": {
      "image/png": "[encoded data removed]",
      "text/plain": [
       "<matplotlib.figure.Figure at 0x11bf82e90>"
      ]
     },
     "metadata": {},
     "output_type": "display_data"
    }
   ],
   "source": [
    "#compare b distributions\n",
    "contents, edges, patches = plt.hist(muhat_b_expts,bins=edges,alpha=0.3,color='g')\n",
    "contents, edges, patches = plt.hist(inclusive_muhat_b_expts,bins=edges,alpha=0.3,color='orange')\n",
    "plt.title('b comparison')"
   ]
  },
  {
   "cell_type": "code",
   "execution_count": 856,
   "metadata": {
    "collapsed": false
   },
   "outputs": [
    {
     "data": {
      "image/png": "[encoded data removed]",
      "text/plain": [
       "<matplotlib.figure.Figure at 0x11c0938d0>"
      ]
     },
     "metadata": {},
     "output_type": "display_data"
    }
   ],
   "source": [
    "#figsize(600,600)\n",
    "fig, ax = plt.subplots(2,2,sharex=True, sharey=True)\n",
    "#plt.figure(None,figsize=(1800,1800))\n",
    "\n",
    "contents, edges, patches = ax[0][0].hist(muhat_s_expts,bins=edges,alpha=0.3,color='b')\n",
    "contents, edges, patches = ax[0][0].hist(muhat_b_expts,bins=edges,alpha=0.3,color='g')\n",
    "\n",
    "contents, edges, patches = ax[0][1].hist(inclusive_muhat_s_expts,bins=edges,alpha=0.3,color='r')\n",
    "contents, edges, patches = ax[0][1].hist(inclusive_muhat_b_expts,bins=edges,alpha=0.3,color='orange')\n",
    "\n",
    "contents, edges, patches = ax[1][0].hist(muhat_s_expts,bins=edges,alpha=0.3,color='b')\n",
    "contents, edges, patches = ax[1][0].hist(inclusive_muhat_s_expts,bins=edges,alpha=0.3,color='r')\n",
    "\n",
    "contents, edges, patches = ax[1][1].hist(inclusive_muhat_b_expts,bins=edges,alpha=0.3,color='orange')\n",
    "contents, edges, patches = ax[1][1].hist(muhat_b_expts,bins=edges,alpha=0.3,color='g')"
   ]
  },
  {
   "cell_type": "code",
   "execution_count": 857,
   "metadata": {
    "collapsed": false
   },
   "outputs": [
    {
     "data": {
      "text/plain": [
       "(0, 1.05)"
      ]
     },
     "execution_count": 857,
     "metadata": {},
     "output_type": "execute_result"
    },
    {
     "data": {
      "image/png": "[encoded data removed]",
      "text/plain": [
       "<matplotlib.figure.Figure at 0x117383650>"
      ]
     },
     "metadata": {},
     "output_type": "display_data"
    }
   ],
   "source": [
    "plt.plot(edges[:-1],1.-np.cumsum(s_contents)/np.sum(s_contents),c='b')\n",
    "plt.plot(edges[:-1],1.-np.cumsum(b_contents)/np.sum(b_contents),c='g')\n",
    "plt.plot(edges[:-1],1.-np.cumsum(i_s_contents)/np.sum(i_s_contents),c='r')\n",
    "plt.plot(edges[:-1],1.-np.cumsum(i_b_contents)/np.sum(i_b_contents),c='orange')\n",
    "plt.xlabel('muhat')\n",
    "plt.ylabel('p-value')\n",
    "plt.ylim(0,1.05)"
   ]
  },
  {
   "cell_type": "code",
   "execution_count": null,
   "metadata": {
    "collapsed": false
   },
   "outputs": [
    {
     "data": {
      "image/png": "[encoded data removed]",
      "text/plain": [
       "<matplotlib.figure.Figure at 0x11c308690>"
      ]
     },
     "metadata": {},
     "output_type": "display_data"
    }
   ],
   "source": [
    "plt.plot(1.-np.cumsum(b_contents)/np.sum(b_contents),1.-np.cumsum(s_contents)/np.sum(s_contents),c='black',lw=2)\n",
    "plt.plot(1.-np.cumsum(i_b_contents)/np.sum(i_b_contents),1.-np.cumsum(i_s_contents)/np.sum(i_s_contents),c='black',lw=1)\n",
    "plt.xlabel('type I error')\n",
    "plt.ylabel('power')\n",
    "plt.title('s1=%d b1=%d s2=%d b2=%d' %(s1hat.subs(struth),b1.subs(btruth), s2hat.subs(struth),b2.subs(btruth),))\n",
    "plt.legend(('DGSS', 'inclusive'),loc='upper left' )\n",
    "plt.loglog()\n",
    "plt.savefig(\"power_s1_%d_b1_%d_s2_%d_b2_%d.pdf\" %(s1hat.subs(struth),b1.subs(btruth), s2hat.subs(struth),b2.subs(btruth),))"
   ]
  },
  {
   "cell_type": "markdown",
   "metadata": {},
   "source": [
    "Notes to self:\n",
    "\n",
    "current filtering is s1hat >0 and s2hat > 0. Instead we might want cumulative n1+n2-b1-b2>0, but then need to make this method ignore bin if sihat<0.\n",
    "\n",
    "Might want to cut harder than 0\n",
    "\n",
    "muhat not best test statistic. If shat small and n2-b2 also small, can get muhat large. Should move to lambda(0).\n"
   ]
  },
  {
   "cell_type": "code",
   "execution_count": 834,
   "metadata": {
    "collapsed": true
   },
   "outputs": [],
   "source": [
    "plt.legend?"
   ]
  },
  {
   "cell_type": "code",
   "execution_count": null,
   "metadata": {
    "collapsed": true
   },
   "outputs": [],
   "source": []
  }
 ],
 "metadata": {
  "kernelspec": {
   "display_name": "Python 2",
   "language": "python",
   "name": "python2"
  },
  "language_info": {
   "codemirror_mode": {
    "name": "ipython",
    "version": 2
   },
   "file_extension": ".py",
   "mimetype": "text/x-python",
   "name": "python",
   "nbconvert_exporter": "python",
   "pygments_lexer": "ipython2",
   "version": "2.7.6"
  }
 },
 "nbformat": 4,
 "nbformat_minor": 0
}
