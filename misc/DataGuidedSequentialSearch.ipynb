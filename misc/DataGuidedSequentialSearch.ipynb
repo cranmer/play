{
 "cells": [
  {
   "cell_type": "markdown",
   "metadata": {},
   "source": [
    "# Data Guided Sequential Search\n",
    "Kyle Cranmer, June 2-15\n",
    "\n",
    "##The Scenario\n",
    "\n",
    "We imagine that we see an excess in some initial dataset, which we refer to as \"run 1\", and we want to know how to best use a subsequent \"run 2\" dataset for discovery. We are imagining that either:\n",
    "\n",
    " * several signal regions were defined in Run 1, some of which had a significant upward fluctuation, or \n",
    " * after investigating an unexpected excess that the events can be subdivided into multiple (non-overlapping / disjoint) categories.\n",
    " \n",
    "In both cases, the difficulty is that one does not have a signal model that allows one to relate the excess in the different categories or \"bins\". This leads to a few strategies:\n",
    "\n",
    " 1. the inclusive strategy: merge the bins with a significant excess into one inclusive bin.\n",
    " 1. the ideal strategy: one performs a combined likelihood fit with the correct signal model. This is not possible usually, but we use it for comparison.\n",
    " 1. the nested strategy: where one starts with the bin with the highest significance excess and defines additional bins by merging with the bin with the next highest significance. This gives a nested set of selection regions. The problem here is that one has multiple tests and a look-elsewhere effect / trials factor to correct for, and the events are not statistically independent, so the analysis is tricky.\n",
    " 1. the data guided sequential search strategy (DGSS): where one uses the excess in run 1 to define an emperical signal model to be used in run 2.\n",
    " \n",
    "The basic idea of DGSS is that if the excess in run 1 is from the presence of signal and representative of the true signal, that it is a nearly optimal way to combine (ie. approximate the ideal strategy). While there are statisitcal fluctuations, the emperical signal model is not biased (ie. expectation = true signal) when there is no selection on run 1. When one only uses this procedure with a significant excess in run 1 it will introduce some bias on signal estimate. Thus we resort to some numerical simulations to check the power of this method in comparison to the ideal strategy and the inclusive strategy.\n",
    "\n",
    "While it has not yet been formalized, we anticipate a recursive argument can be made in going from $N\\to N+1$ bins. Therefore, we focus on the base of the recursion $1\\to 2$ bins.\n",
    "\n",
    "\n",
    "##The Model\n",
    "\n",
    "We start with the model for run 1\n",
    "\n",
    "\\begin{equation}\n",
    "Pois(n_1^1 | s_1 + b_1) Pois(n_2^1 | s_2 + b_2)\n",
    "\\end{equation}\n",
    "\n",
    "From this run, we estimate $\\hat{s}_i = n_i = b_i$ and then use those signal estimates in run 2, where the model is:\n",
    "\\begin{equation}\n",
    "Pois(n_1^2 | \\mu \\hat{s}_1 + b_1) Pois(n_2^2 | \\mu \\hat{s}_2 + b_2)\n",
    "\\end{equation}\n",
    "\n",
    "Based on run 2 we estimate the MLE $\\hat{\\mu}$, which is solved below using sympy.\n",
    "\n",
    "Then, from the estimate of $\\hat{\\mu}$ we construct the liklelihood ratio test of the background only based on:\n",
    "\n",
    "\\begin{equation}\n",
    "q_0 = -2 \\ln \\lambda(0) = -2 \\ln \\frac{L(\\mu=0)}{L(\\hat{\\mu})}\n",
    "\\end{equation}"
   ]
  },
  {
   "cell_type": "code",
   "execution_count": 1,
   "metadata": {
    "collapsed": false
   },
   "outputs": [
    {
     "name": "stdout",
     "output_type": "stream",
     "text": [
      "Populating the interactive namespace from numpy and matplotlib\n"
     ]
    }
   ],
   "source": [
    "%pylab inline --no-import-all\n",
    "from sympy import Symbol, symbols, solve, lambdify\n",
    "#import numpy as np"
   ]
  },
  {
   "cell_type": "code",
   "execution_count": 2,
   "metadata": {
    "collapsed": false
   },
   "outputs": [],
   "source": [
    "#plt.rc('font',**{'family':'sans-serif','sans-serif':['Helvetica']})\n",
    "#plt.rc('text', usetex=True)\n",
    "plt.rc('text', usetex=True)"
   ]
  },
  {
   "cell_type": "code",
   "execution_count": 3,
   "metadata": {
    "collapsed": false
   },
   "outputs": [],
   "source": [
    "#import matplotlib.pyplot as plt"
   ]
  },
  {
   "cell_type": "code",
   "execution_count": 4,
   "metadata": {
    "collapsed": false
   },
   "outputs": [],
   "source": [
    "#observables\n",
    "(n11, n12, n21, n22) =  symbols('n11 n12 n21 n22')\n",
    "#parameters\n",
    "(s1, s2, b1, b2, mu) =  symbols('s1 s2 b1 b2 mu')\n",
    "#helpers\n",
    "(n1, n2, nu11, nu12, n21, nu22) =  symbols('n1 n2 nu11 nu12 nu21 n22')\n",
    "#estimators\n",
    "(s1hat, s2hat, muhat) = symbols('s1hat s2hat muhat')"
   ]
  },
  {
   "cell_type": "code",
   "execution_count": 5,
   "metadata": {
    "collapsed": false
   },
   "outputs": [],
   "source": [
    "#first run\n",
    "nu11 = s1hat + b1\n",
    "nu12 = s2hat + b2\n",
    "#second run\n",
    "nu21 = muhat*s1hat+b1\n",
    "nu22 = muhat*s2hat+b2"
   ]
  },
  {
   "cell_type": "code",
   "execution_count": 6,
   "metadata": {
    "collapsed": false
   },
   "outputs": [
    {
     "data": {
      "text/plain": [
       "(5, 5)"
      ]
     },
     "execution_count": 6,
     "metadata": {},
     "output_type": "execute_result"
    }
   ],
   "source": [
    "#first run\n",
    "shatSubs = [(key, val) for key,val in solve([n11-nu11, n12-nu12], s1hat, s2hat).iteritems()]\n",
    "moreSubs = shatSubs+[(n11,10),(n12,10),(n21,10),(n22,10),(b1,5),(b2,5)]\n",
    "s1hat.subs(moreSubs), s2hat.subs(moreSubs)"
   ]
  },
  {
   "cell_type": "code",
   "execution_count": 7,
   "metadata": {
    "collapsed": false
   },
   "outputs": [],
   "source": [
    "#second run\n",
    "[expr1, expr2] = solve( s1hat+s2hat - n21*s1hat/nu21 - n22*s2hat/nu22, muhat)"
   ]
  },
  {
   "cell_type": "code",
   "execution_count": 8,
   "metadata": {
    "collapsed": false
   },
   "outputs": [
    {
     "data": {
      "text/plain": [
       "(-1, 1)"
      ]
     },
     "execution_count": 8,
     "metadata": {},
     "output_type": "execute_result"
    }
   ],
   "source": [
    "expr1.subs(moreSubs),expr2.subs(moreSubs)"
   ]
  },
  {
   "cell_type": "code",
   "execution_count": 9,
   "metadata": {
    "collapsed": false
   },
   "outputs": [
    {
     "data": {
      "text/plain": [
       "1.0"
      ]
     },
     "execution_count": 9,
     "metadata": {},
     "output_type": "execute_result"
    }
   ],
   "source": [
    "muhatFunc = lambdify((n11,n12,n21,n22,b1,b2), expr2.subs(shatSubs), \"numpy\")\n",
    "muhatFunc(10,10,10,10,5,5)"
   ]
  },
  {
   "cell_type": "code",
   "execution_count": 10,
   "metadata": {
    "collapsed": false
   },
   "outputs": [
    {
     "data": {
      "text/plain": [
       "1.0"
      ]
     },
     "execution_count": 10,
     "metadata": {},
     "output_type": "execute_result"
    }
   ],
   "source": [
    "muhatFuncTruth = lambdify((n11,n12,n21,n22,b1,b2,s1hat,s2hat), expr2, \"numpy\")\n",
    "muhatFuncTruth(10,10,10,10,5,5,5,5)"
   ]
  },
  {
   "cell_type": "markdown",
   "metadata": {},
   "source": [
    "$Pois(n|\\nu) = e^{-\\nu} \\nu^n/n!$\n",
    "\n",
    "$-2 \\log L(\\nu) = 2*(\\nu - n \\ln \\nu)$\n",
    "\n",
    "$q(0) = -2 \\log L(\\nu)/L(\\hat\\nu) = 2*(\\nu(0)-\\hat{\\nu}) - n \\ln \\nu(0) / \\hat\\nu )$"
   ]
  },
  {
   "cell_type": "code",
   "execution_count": 11,
   "metadata": {
    "collapsed": true
   },
   "outputs": [],
   "source": [
    "def inclusive_muhatFunc(n11,n12,n21,n22,b1,b2):\n",
    "    shat = 1.*(n11+n12-b1-b2)+.01\n",
    "    return np.maximum(-7,np.minimum(7,np.divide(n21+n22-b1-b2,shat)))"
   ]
  },
  {
   "cell_type": "code",
   "execution_count": 12,
   "metadata": {
    "collapsed": false
   },
   "outputs": [],
   "source": [
    "def q0inclusive(n11,n12,n21,n22,b1,b2):\n",
    "    #shat = 1.*(n11+n12-b1-b2)+.01\n",
    "    #muhat = np.divide(n21+n22-b1-b2,shat)\n",
    "    return 2*(-(n21+n22-b1-b2) - (n21+n22)*np.log((b1+b2)/(n21+n22)))"
   ]
  },
  {
   "cell_type": "code",
   "execution_count": 13,
   "metadata": {
    "collapsed": true
   },
   "outputs": [],
   "source": [
    "def q0DGSS(n11,n12,n21,n22,b1,b2):\n",
    "    muhat = muhatFunc(n11,n12,n21,n22,b1,b2)\n",
    "    s1hat = 1.*(n11-b1)\n",
    "    s2hat = 1.*(n12-b2)\n",
    "    q_1 = 2*( -muhat*s1hat - (n21)*np.log((b1)/(b1+s1hat*muhat)))\n",
    "    q_2 = 2*( -muhat*s2hat - (n22)*np.log((b2)/(b2+s2hat*muhat)))\n",
    "    return q_1+q_2"
   ]
  },
  {
   "cell_type": "code",
   "execution_count": 14,
   "metadata": {
    "collapsed": true
   },
   "outputs": [],
   "source": [
    "def q0Truth(n11,n12,n21,n22,b1,b2,s1hat,s2hat):\n",
    "    muhat = muhatFuncTruth(n11,n12,n21,n22,b1,b2,s1hat,s2hat)\n",
    "    #s1hat = s1\n",
    "    #s2hat = s2\n",
    "    q_1 = 2*( -muhat*s1hat - (n21)*np.log((b1)/(b1+s1hat*muhat)))\n",
    "    q_2 = 2*( -muhat*s2hat - (n22)*np.log((b2)/(b2+s2hat*muhat)))\n",
    "    return q_1+q_2"
   ]
  },
  {
   "cell_type": "markdown",
   "metadata": {},
   "source": [
    "## Generate toy experiments *with*  Run-1 filtering"
   ]
  },
  {
   "cell_type": "code",
   "execution_count": 53,
   "metadata": {
    "collapsed": false
   },
   "outputs": [
    {
     "name": "stdout",
     "output_type": "stream",
     "text": [
      "64493 b experiments\n"
     ]
    }
   ],
   "source": [
    "#b experiments, with filtering\n",
    "nExp = 3000000\n",
    "btruth=[(b1,100),(b2,100)]\n",
    "struth=[(s1hat,0),(s2hat,0),(muhat,0)]\n",
    "truth=btruth+struth\n",
    "n11_expts = np.random.poisson(nu11.subs(truth),nExp)\n",
    "n12_expts = np.random.poisson(nu12.subs(truth),nExp)\n",
    "#n21_expts = np.random.poisson(nu21.subs(truth),nExp)\n",
    "#n22_expts = np.random.poisson(nu22.subs(truth),nExp)\n",
    "temp = np.zeros(nExp*2).reshape(nExp,2)\n",
    "temp[:,0] = n11_expts\n",
    "temp[:,1] = n12_expts\n",
    "#temp[:,2] = n21_expts\n",
    "#temp[:,3] = n22_expts\n",
    "temp = np.array(filter(lambda x: x[0]>b1.subs(truth)*1.1 and x[1]>b2.subs(truth)*1.1, temp))\n",
    "n11_expts = temp[:,0]\n",
    "n12_expts = temp[:,1]\n",
    "#n21_expts = temp[:,2]\n",
    "#n22_expts = temp[:,3]\n",
    "n21_expts = np.random.poisson(nu21.subs(truth),n11_expts.size)\n",
    "n22_expts = np.random.poisson(nu22.subs(truth),n11_expts.size)\n",
    "muhat_b_expts = muhatFunc(n11_expts,n12_expts,n21_expts,n22_expts,float(b1.subs(truth)),float(b2.subs(truth)))\n",
    "muhat_b_expts = filter(lambda x: x<1e6, muhat_b_expts)\n",
    "muhat_b_expts =  np.maximum(-10,np.minimum(10,muhat_b_expts))\n",
    "inclusive_muhat_b_expts = inclusive_muhatFunc(n11_expts,n12_expts,n21_expts,n22_expts,float(b1.subs(truth)),float(b2.subs(truth)))\n",
    "inclusive_q0_b_expts = q0inclusive(n11_expts,n12_expts,n21_expts,n22_expts,float(b1.subs(truth)),float(b2.subs(truth)))\n",
    "q0_b_expts = q0DGSS(n11_expts,n12_expts,n21_expts,n22_expts,float(b1.subs(truth)),float(b2.subs(truth)))\n",
    "nu11.subs(truth),nu12.subs(truth),nu21.subs(truth),nu22.subs(truth)\n",
    "print len(n22_expts), 'b experiments'"
   ]
  },
  {
   "cell_type": "code",
   "execution_count": 54,
   "metadata": {
    "collapsed": false
   },
   "outputs": [],
   "source": [
    "#b truth experiments, need to know true signal rate\n",
    "#experiments are still the b-only ones\n",
    "struth=[(s1hat,50),(s2hat,1),(muhat,1)]\n",
    "truth=btruth+struth\n",
    "truth_q0_b_expts = q0Truth(n11_expts,n12_expts,n21_expts,n22_expts,float(b1.subs(truth)),float(b2.subs(truth)),float(s1hat.subs(truth)),float(s2hat.subs(truth)))"
   ]
  },
  {
   "cell_type": "code",
   "execution_count": 55,
   "metadata": {
    "collapsed": false
   },
   "outputs": [
    {
     "data": {
      "text/plain": [
       "21.629604480626714"
      ]
     },
     "execution_count": 55,
     "metadata": {},
     "output_type": "execute_result"
    }
   ],
   "source": [
    "np.max(truth_q0_b_expts)"
   ]
  },
  {
   "cell_type": "code",
   "execution_count": 65,
   "metadata": {
    "collapsed": false
   },
   "outputs": [
    {
     "data": {
      "text/plain": [
       "68538"
      ]
     },
     "execution_count": 65,
     "metadata": {},
     "output_type": "execute_result"
    }
   ],
   "source": [
    "#s experiments, with filtering\n",
    "nExp = 400000\n",
    "#ok, now make s+b experimentes\n",
    "n11_expts = np.random.poisson(nu11.subs(truth),nExp)\n",
    "n12_expts = np.random.poisson(nu12.subs(truth),nExp)\n",
    "#n21_expts = np.random.poisson(nu21.subs(truth),nExp)\n",
    "#n22_expts = np.random.poisson(nu22.subs(truth),nExp)\n",
    "temp = np.zeros(nExp*2).reshape(nExp,2)\n",
    "temp[:,0] = n11_expts\n",
    "temp[:,1] = n12_expts\n",
    "#temp[:,2] = n21_expts\n",
    "#temp[:,3] = n22_expts\n",
    "temp = np.array(filter(lambda x: x[0]>b1.subs(truth)*1.1 and x[1]>b2.subs(truth)*1.1, temp))\n",
    "n11_expts = temp[:,0]\n",
    "n12_expts = temp[:,1]\n",
    "#n21_expts = temp[:,2]\n",
    "#n22_expts = temp[:,3]\n",
    "n21_expts = np.random.poisson(nu21.subs(truth),n11_expts.size)\n",
    "n22_expts = np.random.poisson(nu22.subs(truth),n11_expts.size)\n",
    "muhat_s_expts = muhatFunc(n11_expts,n12_expts,n21_expts,n22_expts,float(b1.subs(truth)),float(b2.subs(truth)))\n",
    "muhat_s_expts = filter(lambda x: x<1e6, muhat_s_expts)\n",
    "muhat_s_expts =  np.maximum(-10,np.minimum(10,muhat_s_expts))\n",
    "inclusive_muhat_s_expts = inclusive_muhatFunc(n11_expts,n12_expts,n21_expts,n22_expts,float(b1.subs(truth)),float(b2.subs(truth)))\n",
    "inclusive_q0_s_expts = q0inclusive(n11_expts,n12_expts,n21_expts,n22_expts,float(b1.subs(truth)),float(b2.subs(truth)))\n",
    "q0_s_expts = q0DGSS(n11_expts,n12_expts,n21_expts,n22_expts,float(b1.subs(truth)),float(b2.subs(truth)))\n",
    "truth_q0_s_expts = q0Truth(n11_expts,n12_expts,n21_expts,n22_expts,float(b1.subs(truth)),float(b2.subs(truth)),float(s1hat.subs(truth)),float(s2hat.subs(truth)))\n",
    "nu11.subs(truth),nu12.subs(truth),nu21.subs(truth),nu22.subs(truth)\n",
    "len(muhat_s_expts)"
   ]
  },
  {
   "cell_type": "markdown",
   "metadata": {},
   "source": [
    "## Plots for the signal strength estimate"
   ]
  },
  {
   "cell_type": "code",
   "execution_count": 66,
   "metadata": {
    "collapsed": false
   },
   "outputs": [
    {
     "data": {
      "image/png": "[encoded data removed]",
      "text/plain": [
       "<matplotlib.figure.Figure at 0x10fc3e190>"
      ]
     },
     "metadata": {},
     "output_type": "display_data"
    }
   ],
   "source": [
    "#figsize(600,600)\n",
    "edges = np.linspace(-10,10,100)\n",
    "fig, ax = plt.subplots(2,2,sharex=True, sharey=True)\n",
    "#plt.figure(None,figsize=(1800,1800))\n",
    "\n",
    "# DGSS s+b vs. b experiments\n",
    "contents, edges, patches = ax[0][0].hist(muhat_s_expts,bins=edges,alpha=0.3,color='b')\n",
    "contents, edges, patches = ax[0][0].hist(muhat_b_expts,bins=edges,alpha=0.3,color='g')\n",
    "\n",
    "# inclusive s+b vs. b experiments\n",
    "contents, edges, patches = ax[0][1].hist(inclusive_muhat_s_expts,bins=edges,alpha=0.3,color='r')\n",
    "contents, edges, patches = ax[0][1].hist(inclusive_muhat_b_expts,bins=edges,alpha=0.3,color='orange')\n",
    "\n",
    "# comparison for s+b experiments\n",
    "contents, edges, patches = ax[1][0].hist(muhat_s_expts,bins=edges,alpha=0.3,color='b')\n",
    "contents, edges, patches = ax[1][0].hist(inclusive_muhat_s_expts,bins=edges,alpha=0.3,color='r')\n",
    "\n",
    "# comparison for b experiments\n",
    "contents, edges, patches = ax[1][1].hist(inclusive_muhat_b_expts,bins=edges,alpha=0.3,color='orange')\n",
    "contents, edges, patches = ax[1][1].hist(muhat_b_expts,bins=edges,alpha=0.3,color='g')"
   ]
  },
  {
   "cell_type": "markdown",
   "metadata": {},
   "source": [
    "Notes to self:\n",
    "\n",
    "current filtering is s1hat >0 and s2hat > 0. Instead we might want cumulative n1+n2-b1-b2>0, but then need to make this method ignore bin if sihat<0.\n",
    "\n",
    "Might want to cut harder than 0\n",
    "\n",
    "muhat not best test statistic. If shat small and n2-b2 also small, can get muhat large. Should move to lambda(0).\n"
   ]
  },
  {
   "cell_type": "markdown",
   "metadata": {},
   "source": [
    "## plots of the q_0 test statistic for inclusive, ideal, and DGSS"
   ]
  },
  {
   "cell_type": "code",
   "execution_count": 67,
   "metadata": {
    "collapsed": true
   },
   "outputs": [],
   "source": [
    "testSize=0.001"
   ]
  },
  {
   "cell_type": "code",
   "execution_count": null,
   "metadata": {
    "collapsed": false
   },
   "outputs": [
    {
     "name": "stdout",
     "output_type": "stream",
     "text": [
      "13.0199453786 0.205169274628\n"
     ]
    },
    {
     "data": {
      "image/png": "[encoded data removed]",
      "text/plain": [
       "<matplotlib.figure.Figure at 0x10e0a4850>"
      ]
     },
     "metadata": {},
     "output_type": "display_data"
    }
   ],
   "source": [
    "pylab.yscale('symlog',linthreshy=1) #works for histograms\n",
    "i_s_contents, edges, patches = plt.hist(inclusive_q0_s_expts,normed=False, bins=100, alpha=0.3, color='r')\n",
    "i_b_contents, edges, patches = plt.hist(inclusive_q0_b_expts,normed=False, bins=edges, alpha=0.3, color='orange')\n",
    "i_s_cumsum = np.cumsum(i_s_contents)/np.sum(i_s_contents)\n",
    "i_b_cumsum = np.cumsum(i_b_contents)/np.sum(i_b_contents)\n",
    "i_index = np.searchsorted(i_b_cumsum,1.-testSize)\n",
    "print np.mean(inclusive_q0_s_expts), np.var(inclusive_q0_s_expts)/np.sqrt(inclusive_q0_s_expts.size)\n",
    "plt.xlabel('$q_0$')\n",
    "plt.ylabel('$p( q_0 )$')\n",
    "plt.legend(('s+b', 'b-only'),loc='upper right')\n",
    "plt.title('inclusive: $s_1=%d$ $b_1=%d$ $s_2=%d$ $b_2=%d$' %(s1hat.subs(struth),b1.subs(btruth), s2hat.subs(struth),b2.subs(btruth),))\n",
    "#plt.ylim(1e-4,1)\n",
    "plt.savefig(\"q0_dist_incl_s1_%d_b1_%d_s2_%d_b2_%d.pdf\" %(s1hat.subs(struth),b1.subs(btruth), s2hat.subs(struth),b2.subs(btruth),))"
   ]
  },
  {
   "cell_type": "code",
   "execution_count": null,
   "metadata": {
    "collapsed": false
   },
   "outputs": [],
   "source": [
    "pylab.yscale('symlog',linthreshy=1) #works for histograms\n",
    "s_contents, edges, patches = plt.hist(q0_s_expts, bins=100, alpha=0.3, color='b')\n",
    "b_contents, edges, patches = plt.hist(q0_b_expts, bins=edges, alpha=0.3, color='g')\n",
    "s_cumsum = np.cumsum(s_contents)/np.sum(s_contents)\n",
    "b_cumsum = np.cumsum(b_contents)/np.sum(b_contents)\n",
    "index = np.searchsorted(b_cumsum,1.-testSize)\n",
    "print np.mean(q0_s_expts), np.var(q0_s_expts)/np.sqrt(q0_s_expts.size)\n",
    "plt.xlabel('$q_0$')\n",
    "plt.ylabel('$p( q_0 )$')\n",
    "plt.legend(('s+b', 'b-only'),loc='upper right')\n",
    "plt.title('DGSS: $s_1=%d$ $b_1=%d$ $s_2=%d$ $b_2=%d$' %(s1hat.subs(struth),b1.subs(btruth), s2hat.subs(struth),b2.subs(btruth),))\n",
    "plt.savefig(\"q0_dist_DGSS_s1_%d_b1_%d_s2_%d_b2_%d.pdf\" %(s1hat.subs(struth),b1.subs(btruth), s2hat.subs(struth),b2.subs(btruth),))"
   ]
  },
  {
   "cell_type": "code",
   "execution_count": null,
   "metadata": {
    "collapsed": false
   },
   "outputs": [],
   "source": [
    "pylab.yscale('symlog',linthreshy=1) #works for histograms\n",
    "truth_s_contents, edges, patches = plt.hist(truth_q0_s_expts, bins=100, alpha=0.3, color='y')\n",
    "truth_b_contents, edges, patches = plt.hist(truth_q0_b_expts, bins=edges, alpha=0.3, color='cyan')\n",
    "truth_s_cumsum = np.cumsum(truth_s_contents)/np.sum(truth_s_contents)\n",
    "truth_b_cumsum = np.cumsum(truth_b_contents)/np.sum(truth_b_contents)\n",
    "truth_index = np.searchsorted(truth_b_cumsum,1.-testSize)\n",
    "print np.mean(truth_q0_s_expts), np.var(truth_q0_s_expts)/np.sqrt(truth_q0_s_expts.size)\n",
    "plt.xlabel('$q_0$')\n",
    "plt.ylabel('$p( q_0 )$')\n",
    "plt.legend(('s+b', 'b-only','other'),loc='upper right')\n",
    "plt.title('Ideal: $s_1=%d$ $b_1=%d$ $s_2=%d$ $b_2=%d$' %(s1hat.subs(struth),b1.subs(btruth), s2hat.subs(struth),b2.subs(btruth),))\n",
    "plt.savefig(\"tq0_dist_truth_s1_%d_b1_%d_s2_%d_b2_%d.pdf\" %(s1hat.subs(struth),b1.subs(btruth), s2hat.subs(struth),b2.subs(btruth),))"
   ]
  },
  {
   "cell_type": "code",
   "execution_count": null,
   "metadata": {
    "collapsed": false
   },
   "outputs": [],
   "source": [
    "i_index, index, truth_index"
   ]
  },
  {
   "cell_type": "code",
   "execution_count": null,
   "metadata": {
    "collapsed": false
   },
   "outputs": [],
   "source": [
    "plt.plot(1.-b_cumsum,1.-s_cumsum,c='black',lw=2)\n",
    "plt.plot(1.-i_b_cumsum,1.-i_s_cumsum,c='black',lw=1)\n",
    "plt.plot(1.-truth_b_cumsum,1.-truth_s_cumsum,c='black',lw=1,ls='--')\n",
    "plt.scatter(1.-b_cumsum[index],1.-s_cumsum[index],alpha=0.9,marker='+',s=200,lw=2, c='black')\n",
    "plt.scatter(1.-i_b_cumsum[i_index],1.-i_s_cumsum[i_index],alpha=0.9,marker='+',s=200,c='black')\n",
    "plt.scatter(1.-truth_b_cumsum[truth_index],1.-truth_s_cumsum[truth_index],alpha=0.9,marker='+',s=200,c='black')\n",
    "power_DGSS=100*(1.-s_cumsum[index])\n",
    "power_inclusive=100*(1.-i_s_cumsum[i_index])\n",
    "power_truth=100*(1.-truth_s_cumsum[truth_index])\n",
    "lab_power_DGSS='power DGSS %.0f %%' %(power_DGSS)\n",
    "lab_power_inclusive='power inclusive %.0f%%' %(power_inclusive)\n",
    "lab_power_truth='power ideal %.0f %%' %(power_truth)\n",
    "plt.xlabel('type I error')\n",
    "plt.ylabel('power')\n",
    "plt.title('$s_1=%d$ $b_1=%d$ $s_2=%d$ $b_2=%d$' %(s1hat.subs(struth),b1.subs(btruth), s2hat.subs(struth),b2.subs(btruth),))\n",
    "plt.legend(('DGSS', 'inclusive','ideal',lab_power_DGSS,lab_power_inclusive,lab_power_truth),loc='lower right', scatterpoints=1 )\n",
    "plt.ylim(5e-1,1)\n",
    "plt.xlim(1e-4,1)\n",
    "plt.loglog()\n",
    "plt.savefig(\"q0_power_s1_%d_b1_%d_s2_%d_b2_%d.pdf\" %(s1hat.subs(struth),b1.subs(btruth), s2hat.subs(struth),b2.subs(btruth),))"
   ]
  },
  {
   "cell_type": "code",
   "execution_count": null,
   "metadata": {
    "collapsed": false
   },
   "outputs": [],
   "source": [
    "plt.plot(edges[:-1],1.-s_cumsum,c='b')\n",
    "plt.plot(edges[:-1],1.-b_cumsum,c='g')\n",
    "plt.plot(edges[:-1],1.-i_s_cumsum,c='r')\n",
    "plt.plot(edges[:-1],1.-i_b_cumsum,c='orange')\n",
    "plt.xlabel('$q_0$')\n",
    "plt.ylabel('p-value')\n",
    "plt.semilogy()\n",
    "plt.ylim(0,1.05)"
   ]
  },
  {
   "cell_type": "markdown",
   "metadata": {},
   "source": [
    "## Notes:\n",
    "\n",
    "For bi=100, s1=25, s2=0, the b-only q0 distributions aren't the same, one of them isn't a chi^2. Probably DGSS distribution - numerator is invariant, but denominator of both depends on shat... but seems like inclusive approach probaby just soem rescailing while DGSS depends on n11/n12.  Didn't see that for s1=50, why would b-only depend?"
   ]
  },
  {
   "cell_type": "code",
   "execution_count": 30,
   "metadata": {
    "collapsed": false
   },
   "outputs": [],
   "source": [
    "#np.searchsorted?"
   ]
  },
  {
   "cell_type": "code",
   "execution_count": null,
   "metadata": {
    "collapsed": true
   },
   "outputs": [],
   "source": []
  },
  {
   "cell_type": "code",
   "execution_count": null,
   "metadata": {
    "collapsed": false
   },
   "outputs": [],
   "source": [
    "#plt.legend?"
   ]
  },
  {
   "cell_type": "code",
   "execution_count": null,
   "metadata": {
    "collapsed": true
   },
   "outputs": [],
   "source": []
  }
 ],
 "metadata": {
  "kernelspec": {
   "display_name": "Python 2",
   "language": "python",
   "name": "python2"
  },
  "language_info": {
   "codemirror_mode": {
    "name": "ipython",
    "version": 2
   },
   "file_extension": ".py",
   "mimetype": "text/x-python",
   "name": "python",
   "nbconvert_exporter": "python",
   "pygments_lexer": "ipython2",
   "version": "2.7.6"
  }
 },
 "nbformat": 4,
 "nbformat_minor": 0
}
