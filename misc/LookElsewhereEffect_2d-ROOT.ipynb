{
 "cells": [
  {
   "cell_type": "markdown",
   "metadata": {},
   "source": [
    "## Look Elsewhere Effect in 2-d\n",
    "\n",
    "Kyle Cranmer, Nov 19, 2015\n",
    "\n",
    "Based on\n",
    "*Estimating the significance of a signal in a multi-dimensional search* by  Ofer Vitells and Eilam Gross http://arxiv.org/pdf/1105.4355v1.pdf\n",
    "\n",
    "This is for the special case of a likelihood function of the form \n",
    "$L(\\mu, \\nu_1, \\nu_2)$ where $\\mu$ is a single parameter of interest and\n",
    "$\\nu_1,\\nu_2$ are two nuisance parameters that are not identified under the null.\n",
    "For example, $\\mu$ is the signal strength of a new particle and $\\nu_1,\\nu_2$ are the\n",
    "unknown mass and width of the new particle. Under the null hypothesis, those parameters \n",
    "don't mean anything... aka they \"are not identified under the null\" in the statistics jargon.\n",
    "This introduces a 2-d look elsewhere effect.\n",
    "\n",
    "The LEE correction in this case is based on \n",
    "\n",
    "\\begin{equation}\n",
    "E[ \\phi(A_u) ] = P(\\chi^2_1 > u) + e^{-u/2} (N_1 + \\sqrt{u} N_2) \\,\n",
    "\\end{equation}\n",
    "where \n",
    "   * $A_u$ is the 'excursion set above level $u$ (eg. the set of parameter points in $(\\nu_1,\\nu_2)$ that have a -2 log-likelihood ratio greater than $u$ )\n",
    "   * $\\phi(A_u)$ is the Euler characteristic of the excursion set\n",
    "   * $E[ \\phi(A_u) ]$ is the expectation of the Euler characteristic of those excursion sets under the null\n",
    "   * $P(\\chi^2_1 > u)$ is the standard chi-square probability \n",
    "   * and $N_1$ and $N_2$ are two coefficients that characterize the chi-square random field.\n",
    "   \n",
    "### structure of the notebook\n",
    "\n",
    "The notebook is broken into two parts.\n",
    "  * calculation of $N_1$ and $N_2$ based on $E[ \\phi(A_u) ]$ at two different levels $u_1$ and $u_2$\n",
    "  * calculation of LEE-corrected 'global p-value' given $N_1,N_2$\n",
    "  * some code to calculate $\\phi(A_u)$ using convolutional filters\n",
    "  * Normal usage based on reading a ROOT file with several likleihood scans\n"
   ]
  },
  {
   "cell_type": "code",
   "execution_count": 1,
   "metadata": {
    "collapsed": false
   },
   "outputs": [
    {
     "name": "stdout",
     "output_type": "stream",
     "text": [
      "Populating the interactive namespace from numpy and matplotlib\n"
     ]
    },
    {
     "data": {
      "application/javascript": [
       "require(['codemirror/mode/clike/clike'], function(Clike) { console.log('ROOTaaS - C++ CodeMirror module loaded'); });"
      ]
     },
     "metadata": {},
     "output_type": "display_data"
    },
    {
     "data": {
      "application/javascript": [
       "IPython.CodeCell.config_defaults.highlight_modes['magic_text/x-c++src'] = {'reg':[/^%%cpp/]};"
      ]
     },
     "metadata": {},
     "output_type": "display_data"
    },
    {
     "name": "stdout",
     "output_type": "stream",
     "text": [
      "Welcome to ROOTaaS 6.05/03\n"
     ]
    }
   ],
   "source": [
    "%pylab inline --no-import-all\n",
    "from scipy.optimize import fsolve\n",
    "from scipy.stats import chi2\n",
    "from numpy import exp, sqrt\n",
    "from scipy.ndimage.morphology import *\n",
    "from scipy.ndimage import *\n",
    "from scipy.stats import norm\n",
    "import ROOT"
   ]
  },
  {
   "cell_type": "markdown",
   "metadata": {},
   "source": [
    "## Part 1: Calculate $N_1$ and $N_2$"
   ]
  },
  {
   "cell_type": "code",
   "execution_count": 2,
   "metadata": {
    "collapsed": false
   },
   "outputs": [],
   "source": [
    "def expectedEuler(u, n1, n2):\n",
    "    return chi2.cdf(u, 1) + np.exp(-u/2)*(n1+n2*np.sqrt(u))"
   ]
  },
  {
   "cell_type": "code",
   "execution_count": 3,
   "metadata": {
    "collapsed": false
   },
   "outputs": [],
   "source": [
    "def equations(p,exp_phi_1, exp_phi_2,u1, u2):\n",
    "    n1,n2 = p\n",
    "    return (exp_phi_1-expectedEuler(u1,n1,n2), exp_phi_2-expectedEuler(u2,n1,n2))"
   ]
  },
  {
   "cell_type": "markdown",
   "metadata": {},
   "source": [
    "Usage: calculate n1,n2 based on expected value of Euler characteristic (calculated from toy Monte Carlo) at two different levels u1, u2. For example: \n",
    "   * $u_1=0$ with $E[ \\phi(A_{u=u_1})]=33.5 $ \n",
    "   * $u_2=1$ with $E[ \\phi(A_{u=u_2})]=94.6 $\n",
    "\n",
    "would lead to a call like this\n",
    "\n",
    "```python\n",
    "    n1, n2 = fsolve(equations, (1,1), args=(33.5, 94.6, 0., 1.))\n",
    "```\n"
   ]
  },
  {
   "cell_type": "markdown",
   "metadata": {},
   "source": [
    "### Part 1b: Given $N_1$ and $N_2$ calculate global p-value for given -2logL"
   ]
  },
  {
   "cell_type": "code",
   "execution_count": 4,
   "metadata": {
    "collapsed": false
   },
   "outputs": [],
   "source": [
    "def global_pvalue(u,n1,n2):\n",
    "    return expectedEuler(u,n1,n2)-1."
   ]
  },
  {
   "cell_type": "code",
   "execution_count": 5,
   "metadata": {
    "collapsed": true
   },
   "outputs": [],
   "source": [
    "def do_LEE_correction(max_local_sig, u1, u2, exp_phi_1, exp_phi_2):\n",
    "    n1, n2 = fsolve(equations, (1,1), args=(exp_phi_1, exp_phi_2, u1,u2))\n",
    "    this_global_p = global_pvalue(max_local_significance**2, n1, n2)\n",
    "    print ' local p_value = %f,  local significance = %f' %(norm.cdf(-max_local_significance), max_local_significance)\n",
    "    print 'global p_value = %f, global significance = %f' %(this_global_p, -norm.ppf(this_global_p))"
   ]
  },
  {
   "cell_type": "markdown",
   "metadata": {},
   "source": [
    "## Part 2: Calculate Euler characteristic"
   ]
  },
  {
   "cell_type": "code",
   "execution_count": 6,
   "metadata": {
    "collapsed": false
   },
   "outputs": [],
   "source": [
    "def calculateEulerCharacteristic(a):\n",
    "    face_filter=np.zeros((2,2))+1\n",
    "    right_edge_filter = np.array([[1,1]])\n",
    "    bottom_edge_filter = right_edge_filter.T\n",
    "    \n",
    "    n_faces = np.sum(convolve(a,face_filter,mode='constant')>3)\n",
    "    n_edges = np.sum(convolve(a,right_edge_filter,mode='constant')>1)\n",
    "    n_edges += np.sum(convolve(a,bottom_edge_filter,mode='constant')>1)\n",
    "    n_vertices = np.sum(a>0)\n",
    "    \n",
    "    EulerCharacteristic = n_vertices-n_edges+n_faces\n",
    "    print '%d-%d+%d=%d' %(n_vertices,n_edges,n_faces,EulerCharacteristic) \n",
    "    \n",
    "    return n_vertices-n_edges+n_faces   "
   ]
  },
  {
   "cell_type": "markdown",
   "metadata": {},
   "source": [
    "## Tests"
   ]
  },
  {
   "cell_type": "markdown",
   "metadata": {},
   "source": [
    "### Test numerical solution to $N_1, N_2$  from the example in the paper"
   ]
  },
  {
   "cell_type": "code",
   "execution_count": 7,
   "metadata": {
    "collapsed": false
   },
   "outputs": [
    {
     "name": "stdout",
     "output_type": "stream",
     "text": [
      "33.5 121.343467521\n",
      "(0.0, -1.4210854715202004e-14)\n"
     ]
    }
   ],
   "source": [
    "# An example from the paper\n",
    "n1, n2 = fsolve(equations, (1,1), args=(33.5, 94.6, 0., 1.))\n",
    "\n",
    "print n1, n2\n",
    "\n",
    "print equations((n1,n2),33.5, 94.6, 0., 1.)\n",
    "#small difference wrt the paper, where n2 = 123"
   ]
  },
  {
   "cell_type": "code",
   "execution_count": 8,
   "metadata": {
    "collapsed": false
   },
   "outputs": [
    {
     "data": {
      "text/plain": [
       "[]"
      ]
     },
     "execution_count": 8,
     "metadata": {},
     "output_type": "execute_result"
    },
    {
     "data": {
      "image/png": "[encoded data removed]",
      "text/plain": [
       "<matplotlib.figure.Figure at 0x117b0cfd0>"
      ]
     },
     "metadata": {},
     "output_type": "display_data"
    }
   ],
   "source": [
    "# reproduce Fig 5 from paper (the markers are read by eye)\n",
    "u = np.linspace(5,35,100)\n",
    "global_p = global_pvalue(u,n1,n2)\n",
    "plt.plot(u, global_p)\n",
    "plt.scatter(35,2.E-5) #from Fig5\n",
    "plt.scatter(30,2.E-4) #from Fig5\n",
    "plt.scatter(25,2.5E-3) #from Fig5\n",
    "plt.scatter(20,2.5E-2) #from Fig5\n",
    "plt.scatter(15,.3) #from Fig5\n",
    "plt.xlabel('u')\n",
    "plt.ylabel('P(max q > u)')\n",
    "plt.semilogy()"
   ]
  },
  {
   "cell_type": "markdown",
   "metadata": {},
   "source": [
    "### Check Euler characteristic from Fig 3 example in the paper"
   ]
  },
  {
   "cell_type": "code",
   "execution_count": 9,
   "metadata": {
    "collapsed": false
   },
   "outputs": [
    {
     "data": {
      "text/plain": [
       "<matplotlib.image.AxesImage at 0x118707490>"
      ]
     },
     "execution_count": 9,
     "metadata": {},
     "output_type": "execute_result"
    },
    {
     "data": {
      "image/png": "[encoded data removed]",
      "text/plain": [
       "<matplotlib.figure.Figure at 0x104f42250>"
      ]
     },
     "metadata": {},
     "output_type": "display_data"
    }
   ],
   "source": [
    "#create Fig 3 of http://arxiv.org/pdf/1105.4355v1.pdf\n",
    "a = np.zeros((7,7))\n",
    "a[1,2]=a[1,3]=a[2,1]=a[2,2]=a[2,3]=a[2,4]=1\n",
    "a[3,1]=a[3,2]=a[3,3]=a[3,4]=a[3,5]=1\n",
    "a[4,1]=a[4,2]=a[4,3]=a[4,4]=1\n",
    "a[5,3]=1\n",
    "a[6,0]=a[6,1]=1\n",
    "a=a.T\n",
    "plt.imshow(a,cmap='gray',interpolation='none')"
   ]
  },
  {
   "cell_type": "code",
   "execution_count": 10,
   "metadata": {
    "collapsed": false
   },
   "outputs": [
    {
     "name": "stdout",
     "output_type": "stream",
     "text": [
      "18-23+7=2\n"
     ]
    },
    {
     "data": {
      "text/plain": [
       "2"
      ]
     },
     "execution_count": 10,
     "metadata": {},
     "output_type": "execute_result"
    }
   ],
   "source": [
    "#should be 2\n",
    "calculateEulerCharacteristic(a) "
   ]
  },
  {
   "cell_type": "markdown",
   "metadata": {},
   "source": [
    "### Try a big matrix"
   ]
  },
  {
   "cell_type": "code",
   "execution_count": 11,
   "metadata": {
    "collapsed": false
   },
   "outputs": [
    {
     "name": "stdout",
     "output_type": "stream",
     "text": [
      "10000-19800+9801=1\n"
     ]
    },
    {
     "data": {
      "text/plain": [
       "1"
      ]
     },
     "execution_count": 11,
     "metadata": {},
     "output_type": "execute_result"
    }
   ],
   "source": [
    "#Fully filled, should be 1\n",
    "randMatrix = np.zeros((100,100))+1\n",
    "calculateEulerCharacteristic(randMatrix)"
   ]
  },
  {
   "cell_type": "code",
   "execution_count": 12,
   "metadata": {
    "collapsed": false
   },
   "outputs": [
    {
     "name": "stdout",
     "output_type": "stream",
     "text": [
      "9900-19501+9603=2\n"
     ]
    },
    {
     "data": {
      "text/plain": [
       "2"
      ]
     },
     "execution_count": 12,
     "metadata": {},
     "output_type": "execute_result"
    },
    {
     "data": {
      "image/png": "[encoded data removed]",
      "text/plain": [
       "<matplotlib.figure.Figure at 0x118889850>"
      ]
     },
     "metadata": {},
     "output_type": "display_data"
    }
   ],
   "source": [
    "# split in half vertically, should be 2\n",
    "randMatrix[50,:]=0\n",
    "plt.imshow(randMatrix,cmap='gray')\n",
    "calculateEulerCharacteristic(randMatrix)"
   ]
  },
  {
   "cell_type": "code",
   "execution_count": 13,
   "metadata": {
    "collapsed": false
   },
   "outputs": [
    {
     "name": "stdout",
     "output_type": "stream",
     "text": [
      "9702-18911+9215=6\n"
     ]
    },
    {
     "data": {
      "text/plain": [
       "6"
      ]
     },
     "execution_count": 13,
     "metadata": {},
     "output_type": "execute_result"
    },
    {
     "data": {
      "image/png": "[encoded data removed]",
      "text/plain": [
       "<matplotlib.figure.Figure at 0x118558f50>"
      ]
     },
     "metadata": {},
     "output_type": "display_data"
    }
   ],
   "source": [
    "#split in half horizontally twice, should be 6\n",
    "randMatrix[:,25]=0\n",
    "randMatrix[:,75]=0\n",
    "plt.imshow(randMatrix,cmap='gray')\n",
    "calculateEulerCharacteristic(randMatrix)"
   ]
  },
  {
   "cell_type": "code",
   "execution_count": 14,
   "metadata": {
    "collapsed": false
   },
   "outputs": [
    {
     "name": "stdout",
     "output_type": "stream",
     "text": [
      "9687-18873+9191=5\n"
     ]
    },
    {
     "data": {
      "text/plain": [
       "5"
      ]
     },
     "execution_count": 14,
     "metadata": {},
     "output_type": "execute_result"
    },
    {
     "data": {
      "image/png": "[encoded data removed]",
      "text/plain": [
       "<matplotlib.figure.Figure at 0x118563f10>"
      ]
     },
     "metadata": {},
     "output_type": "display_data"
    }
   ],
   "source": [
    "#remove a hole from middle of one, should be 5\n",
    "randMatrix[25:30,50:53]=0\n",
    "plt.imshow(randMatrix,cmap='gray')\n",
    "calculateEulerCharacteristic(randMatrix)"
   ]
  },
  {
   "cell_type": "markdown",
   "metadata": {},
   "source": [
    "## Calculate global p-value based on maximum local significance and several toy likelihood scans"
   ]
  },
  {
   "cell_type": "code",
   "execution_count": 15,
   "metadata": {
    "collapsed": true
   },
   "outputs": [],
   "source": [
    "# Specify the necessary info\n",
    "max_local_significance = 4. \n",
    "root_file_name = 'outputFullJob12.root'\n",
    "num_toy_scans = 20\n",
    "names_of_toy_likleihood_scans = [('scan_toy%d_sub' %(i)) for i in range(num_toy_scans)]"
   ]
  },
  {
   "cell_type": "code",
   "execution_count": 16,
   "metadata": {
    "collapsed": true
   },
   "outputs": [],
   "source": [
    "# choose u1, u2 thresholds for doing the scan.\n",
    "# these are arbitrary \n",
    "# if tehre are enough toys the choice shouldn't matter, but \n",
    "# we may want to do some tests with other choices\n",
    "this_u1, this_u2 = 0.1, 0.9"
   ]
  },
  {
   "cell_type": "code",
   "execution_count": 17,
   "metadata": {
    "collapsed": true
   },
   "outputs": [],
   "source": [
    "# for testing, comment this out for normal use\n",
    "names_of_toy_likleihood_scans = [('scan_toy%d_sub' %(i)) for i in [0,0,0,0]]"
   ]
  },
  {
   "cell_type": "code",
   "execution_count": 18,
   "metadata": {
    "collapsed": false
   },
   "outputs": [],
   "source": [
    "def convert_hist_to_numpy(hist):\n",
    "    ''' a little helper script'''\n",
    "    temp = np.zeros((hist.GetNbinsX(), hist.GetNbinsY()))\n",
    "    for i in range(temp.shape[0]):\n",
    "        for j in range(temp.shape[1]):\n",
    "            temp[i,j] = hist.GetBinContent(i+1, j+1)\n",
    "    return temp"
   ]
  },
  {
   "cell_type": "code",
   "execution_count": 19,
   "metadata": {
    "collapsed": false
   },
   "outputs": [],
   "source": [
    "# Read in histograms, convert them to numpy arrays\n",
    "inFile = ROOT.TFile(root_file_name, 'READ')\n",
    "likelihoodScans = []\n",
    "for histName in names_of_toy_likleihood_scans:\n",
    "    inHist = inFile.Get(histName)\n",
    "    temp = convert_hist_to_numpy(inHist)\n",
    "    likelihoodScans.append(temp)   "
   ]
  },
  {
   "cell_type": "code",
   "execution_count": 20,
   "metadata": {
    "collapsed": false
   },
   "outputs": [],
   "source": [
    "def getEulerCharacteristics(listOfScans, u1=0.1, u2=0.9):\n",
    "    '''loop through the likleihood scans and calculate expectation\n",
    "    of Euler characteristic for excursion sets above levels u1, u2'''\n",
    "    phis = np.zeros((len(listOfScans),2))\n",
    "    for scan_no, scan in enumerate(listOfScans):\n",
    "        plt.subplot(len(listOfScans),3,3*scan_no+1)\n",
    "        plt.imshow(scan.T, cmap='gray', aspect=30)\n",
    "\n",
    "        #get excursion sets above those two levels\n",
    "        exc1 = (scan>u1) + 0. #add 0. to convert from bool to double\n",
    "        exc2 = (scan>u2) + 0.\n",
    "                    \n",
    "        plt.subplot(len(listOfScans),3,3*scan_no+2)\n",
    "        plt.imshow(exc1.T, cmap='gray', aspect=30)\n",
    "        plt.subplot(len(listOfScans),3,3*scan_no+3)\n",
    "        plt.imshow(exc2.T, cmap='gray', aspect=30)\n",
    "\n",
    "        phi1 = calculateEulerCharacteristic(exc1)\n",
    "        phi2 = calculateEulerCharacteristic(exc2)\n",
    "        print phi1, phi2\n",
    "        phis[scan_no] = [phi1, phi2]\n",
    "\n",
    "    print 'Exp phi_0=%f, phi_2=%f' %(mean(phis[:,0]), mean(phis[:,1]))\n",
    "    return mean(phis[:,0]), mean(phis[:,1])\n",
    "                    "
   ]
  },
  {
   "cell_type": "code",
   "execution_count": 21,
   "metadata": {
    "collapsed": false
   },
   "outputs": [
    {
     "name": "stdout",
     "output_type": "stream",
     "text": [
      "15854-30959+15106=1\n",
      "2673-4583+1912=2\n",
      "1 2\n",
      "15854-30959+15106=1\n",
      "2673-4583+1912=2\n",
      "1 2\n",
      "15854-30959+15106=1\n",
      "2673-4583+1912=2\n",
      "1 2\n",
      "15854-30959+15106=1\n",
      "2673-4583+1912=2\n",
      "1 2\n",
      "Exp phi_0=1.000000, phi_2=2.000000\n"
     ]
    },
    {
     "data": {
      "image/png": "[encoded data removed]",
      "text/plain": [
       "<matplotlib.figure.Figure at 0x1186614d0>"
      ]
     },
     "metadata": {},
     "output_type": "display_data"
    }
   ],
   "source": [
    "expphi1, expphi2 = getEulerCharacteristics(likelihoodScans, u1=this_u1, u2=this_u2)"
   ]
  },
  {
   "cell_type": "code",
   "execution_count": 22,
   "metadata": {
    "collapsed": false
   },
   "outputs": [
    {
     "name": "stdout",
     "output_type": "stream",
     "text": [
      " local p_value = 0.000032,  local significance = 4.000000\n",
      "global p_value = 0.002772, global significance = 2.773572\n"
     ]
    }
   ],
   "source": [
    "do_LEE_correction(max_local_significance, this_u1, this_u2, expphi1, expphi2)"
   ]
  },
  {
   "cell_type": "code",
   "execution_count": null,
   "metadata": {
    "collapsed": true
   },
   "outputs": [],
   "source": []
  }
 ],
 "metadata": {
  "kernelspec": {
   "display_name": "Python 2",
   "language": "python",
   "name": "python2"
  },
  "language_info": {
   "codemirror_mode": {
    "name": "ipython",
    "version": 2
   },
   "file_extension": ".py",
   "mimetype": "text/x-python",
   "name": "python",
   "nbconvert_exporter": "python",
   "pygments_lexer": "ipython2",
   "version": "2.7.10"
  }
 },
 "nbformat": 4,
 "nbformat_minor": 0
}
