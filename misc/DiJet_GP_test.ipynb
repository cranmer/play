{
 "cells": [
  {
   "cell_type": "code",
   "execution_count": 1,
   "metadata": {
    "collapsed": false
   },
   "outputs": [
    {
     "name": "stdout",
     "output_type": "stream",
     "text": [
      "Populating the interactive namespace from numpy and matplotlib\n"
     ]
    }
   ],
   "source": [
    "%pylab inline --no-import-all"
   ]
  },
  {
   "cell_type": "code",
   "execution_count": 46,
   "metadata": {
    "collapsed": false
   },
   "outputs": [],
   "source": [
    "import george\n",
    "from george.kernels import ExpSquaredKernel, MyLocalGaussianKernel, ExpKernel, MyLocalExpSquared\n",
    "from scipy.optimize import curve_fit\n",
    "import triangle\n",
    "from lmfit import Parameters, minimize, fit_report\n",
    "import emcee\n",
    "pl = plt"
   ]
  },
  {
   "cell_type": "markdown",
   "metadata": {},
   "source": [
    "## Load data"
   ]
  },
  {
   "cell_type": "code",
   "execution_count": 34,
   "metadata": {
    "collapsed": true
   },
   "outputs": [],
   "source": [
    "#np.savetxt('dijet_data.csv', (xval, xerrminus, xerrplus, yval, yerr, xerr))"
   ]
  },
  {
   "cell_type": "code",
   "execution_count": 35,
   "metadata": {
    "collapsed": false
   },
   "outputs": [],
   "source": [
    "xval, xerrminus, xerrplus, yval, yerr, xerr = np.loadtxt('dijet_data.csv')\n",
    "#scale data by bin width since curve-fit can't have the model take in an argument\n",
    "newy = yval/(xerrplus+xerrminus) "
   ]
  },
  {
   "cell_type": "markdown",
   "metadata": {},
   "source": [
    "## Define standard CDF dijet fitting function"
   ]
  },
  {
   "cell_type": "markdown",
   "metadata": {},
   "source": [
    "Notice that curve_fit is a least squares fit and minimize will minimize what is given, but residual_CDF2009 isn't a -logL"
   ]
  },
  {
   "cell_type": "code",
   "execution_count": 36,
   "metadata": {
    "collapsed": true
   },
   "outputs": [],
   "source": [
    "def model2_CDF2009(t, params): \n",
    "    p0, p1, p2, p3 = params\n",
    "    sqrts = 8000.\n",
    "    return (p0 * (1.-t/sqrts)**p1 * (t/sqrts)**(p2+p3*np.log(t/sqrts)))"
   ]
  },
  {
   "cell_type": "code",
   "execution_count": 37,
   "metadata": {
    "collapsed": false
   },
   "outputs": [],
   "source": [
    "def nll(params, t,data=None): #gaussian distribution\n",
    "    #p0, p1, p2, p3 = params\n",
    "    #vals = params.valuesdict()\n",
    "    #p0 =  vals['p0']\n",
    "    #p1 =  vals['p1']\n",
    "    #p2 = vals['p2']\n",
    "    #p3 = vals['p3']\n",
    "    #sqrts = 8000.\n",
    "    #prediction = p0 * (1.-t/sqrts)**p1 * (t/sqrts)**(p2+p3*np.log(t/sqrts))\n",
    "    prediction = model2_CDF2009(t,params.valuesdict().values() )\n",
    "    return (prediction-data)/np.sqrt(prediction)"
   ]
  },
  {
   "cell_type": "code",
   "execution_count": 38,
   "metadata": {
    "collapsed": true
   },
   "outputs": [],
   "source": [
    "#initialize parameters\n",
    "fit_params = Parameters()\n",
    "fit_params.add('p0', value=0.0490546530927)\n",
    "fit_params.add('p1', value=7.3087377889)\n",
    "fit_params.add('p2', value=-6.00446454843)\n",
    "fit_params.add('p3', value=0.1347386042)"
   ]
  },
  {
   "cell_type": "code",
   "execution_count": 39,
   "metadata": {
    "collapsed": false
   },
   "outputs": [
    {
     "data": {
      "text/plain": [
       "array([  1.50791949e+08,   8.79284247e+07,   5.13914184e+07,\n",
       "         3.08370337e+07,   1.85587839e+07,   1.12199432e+07,\n",
       "         6.88295446e+06,   4.28094106e+06,   2.69737581e+06,\n",
       "         1.72051891e+06,   1.11017267e+06,   7.28979331e+05,\n",
       "         4.83280078e+05,   3.21404397e+05,   2.15726418e+05,\n",
       "         1.45279276e+05,   9.81919888e+04,   6.69449223e+04,\n",
       "         4.60147337e+04,   3.17302611e+04,   2.19531008e+04,\n",
       "         1.52402128e+04,   1.05749904e+04,   7.33779220e+03,\n",
       "         5.11170533e+03,   3.57460986e+03,   2.50896702e+03,\n",
       "         1.76164205e+03,   1.23759485e+03,   8.70035806e+02,\n",
       "         6.12116022e+02,   4.31013847e+02,   3.02941291e+02,\n",
       "         2.13138552e+02,   1.49723574e+02,   1.05028128e+02,\n",
       "         7.37515866e+01,   5.17163812e+01,   3.62146211e+01,\n",
       "         2.53238358e+01,   1.76450303e+01,   1.22767354e+01,\n",
       "         8.52806781e+00,   5.90196661e+00,   4.06898832e+00,\n",
       "         2.79951930e+00,   1.91804436e+00,   1.30356058e+00,\n",
       "         8.80309835e-01,   5.90546487e-01,   3.92715208e-01,\n",
       "         2.58789605e-01,   1.68910441e-01,   1.08946762e-01,\n",
       "         6.93943332e-02,   4.36869584e-02,   2.71093598e-02,\n",
       "         1.65054891e-02,   9.86186407e-03,   5.77190088e-03,\n",
       "         3.29034123e-03])"
      ]
     },
     "execution_count": 39,
     "metadata": {},
     "output_type": "execute_result"
    }
   ],
   "source": [
    "model2_CDF2009(xval, fit_params.valuesdict().values())"
   ]
  },
  {
   "cell_type": "code",
   "execution_count": 40,
   "metadata": {
    "collapsed": false
   },
   "outputs": [
    {
     "name": "stdout",
     "output_type": "stream",
     "text": [
      "('do fit', '[[Variables]]\\n    p0:   0.04905465 (init= 0.04905465)\\n    p1:   7.30873778 (init= 7.308738)\\n    p2:  -6.00446454 (init=-6.004465)\\n    p3:   0.13473860 (init= 0.1347386)\\n[[Correlations]] (unreported correlations are <  0.100)')\n"
     ]
    },
    {
     "data": {
      "image/png": "[encoded data removed]",
      "text/plain": [
       "<matplotlib.figure.Figure at 0x10f2b4e50>"
      ]
     },
     "metadata": {},
     "output_type": "display_data"
    }
   ],
   "source": [
    "#do fit\n",
    "out = minimize(nll, fit_params, args=(xval,), kws={'data':newy})\n",
    "\n",
    "print(\"do fit\", fit_report(fit_params))\n",
    "\n",
    "plt.scatter(xval, model2_CDF2009(xval,  fit_params.valuesdict().values()))\n",
    "plt.scatter(xval, newy, c='r')\n",
    "plt.ylim([10e-5, 10e8])\n",
    "plt.yscale('log')"
   ]
  },
  {
   "cell_type": "code",
   "execution_count": 41,
   "metadata": {
    "collapsed": false
   },
   "outputs": [
    {
     "data": {
      "text/plain": [
       "(-100.0, 100.0)"
      ]
     },
     "execution_count": 41,
     "metadata": {},
     "output_type": "execute_result"
    },
    {
     "data": {
      "image/png": "[encoded data removed]",
      "text/plain": [
       "<matplotlib.figure.Figure at 0x10f6e8050>"
      ]
     },
     "metadata": {},
     "output_type": "display_data"
    }
   ],
   "source": [
    "plt.scatter(xval, model2_CDF2009(xval,fit_params.valuesdict().values() )-newy) \n",
    "plt.ylim(-1E2,1E2)"
   ]
  },
  {
   "cell_type": "markdown",
   "metadata": {},
   "source": [
    "## Do MCMC on the CDF fit function"
   ]
  },
  {
   "cell_type": "code",
   "execution_count": 42,
   "metadata": {
    "collapsed": true
   },
   "outputs": [],
   "source": [
    "def model_ind(params, t): \n",
    "    global xerr\n",
    "    p0, p1, p2, p3 = params\n",
    "    sqrts = 8000.\n",
    "    return (p0 * (1.-t/sqrts)**p1 * (t/sqrts)**(p2+p3*np.log(t/sqrts)))*xerr\n",
    "\n",
    "def lnlike_ind(p, t, y, yerr):\n",
    "    return -0.5 * np.sum(((y - model_ind(p, t))/np.sqrt(model_ind(p,t))) ** 2) \n",
    "    # return p1*math.log(1-t)+(p2+p3*math.log(t)\n",
    "\n",
    "def lnprior_ind(p):\n",
    "    p0, p1, p2, p3 = p\n",
    "    if (0 < p0 < 5 and  0 < p1 < 10 and -10 < p2 < 0 and\n",
    "            -1 < p3 < 1):\n",
    "        return 0.0\n",
    "    return -np.inf\n",
    "\n",
    "\n",
    "def lnprob_ind(p, x, y, yerr): \n",
    "    lp = lnprior_ind(p) \n",
    "    return lp + lnlike_ind(p, x, y, yerr) if np.isfinite(lp) else -np.inf"
   ]
  },
  {
   "cell_type": "code",
   "execution_count": 43,
   "metadata": {
    "collapsed": true
   },
   "outputs": [],
   "source": [
    "def fit_ind(initial, data, nwalkers=32):\n",
    "    ndim = len(initial)\n",
    "    p0 = [np.array(initial) + 1e-8 * np.random.randn(ndim)\n",
    "          for i in xrange(nwalkers)]\n",
    "    sampler = emcee.EnsembleSampler(nwalkers, ndim, lnprob_ind, args=data)\n",
    "    print(\"Running burn-in\")\n",
    "    p0, lnp, _ = sampler.run_mcmc(p0, 500)\n",
    "    sampler.reset()\n",
    "\n",
    "    print(\"Running second burn-in\")\n",
    "    p = p0[np.argmax(lnp)]\n",
    "    p0 = [p + 1e-8 * np.random.randn(ndim) for i in xrange(nwalkers)]\n",
    "    p0, _, _ = sampler.run_mcmc(p0, 500)\n",
    "    sampler.reset()\n",
    "\n",
    "    print(\"Running production\")\n",
    "    p0, _, _ = sampler.run_mcmc(p0, 1000)\n",
    "    return sampler"
   ]
  },
  {
   "cell_type": "code",
   "execution_count": 44,
   "metadata": {
    "collapsed": false
   },
   "outputs": [],
   "source": [
    "def doit():\n",
    "    np.random.seed(1234)\n",
    "    truth = [fitps[0], fitps[1], fitps[2], fitps[3]]\n",
    "    data = (xval, yval, np.sqrt(yval))\n",
    "    # Fit assuming GP.\n",
    "    print(\"Fitting ind\")\n",
    "    sampler = fit_ind(truth, data)\n",
    "    # Plot the samples in data space.\n",
    "    print(\"Making plots\")\n",
    "    samples = sampler.flatchain\n",
    "\n",
    "    residuals = model_ind(truth, xval)-yval\n",
    "    pl.figure()\n",
    "    pl.errorbar(xval, abs(residuals), yerr=np.sqrt(yval), fmt=\".k\", capsize=0)\n",
    "    modelMatrix=np.empty([samples.shape[0], len(xval)])\n",
    "    i=0\n",
    "    print(len(samples), len(xval), samples.shape)\n",
    "    for s in samples:\n",
    "        #randint(32000, 24) returns array of length 24 filled with random ints from 0 to 32000\n",
    "        #samples(randint) retuns an array of length 24 filled with position of the parameter in sample definited by the random int\n",
    "        modelMatrix[i,:]=model_ind(s,xval)-yval\n",
    "        pl.scatter(xval, abs(model_ind(s, xval)-yval), color=\"#4682b4\", alpha=0.3)\n",
    "        i+=1\n",
    "       # print(model_ind(s, xval)-yval)\n",
    "    pl.ylabel(r\"$xs$\")\n",
    "    pl.xlabel(r\"$m_{jj}$\")\n",
    "    pl.yscale('log')\n",
    "    print(modelMatrix.shape)"
   ]
  },
  {
   "cell_type": "code",
   "execution_count": null,
   "metadata": {
    "collapsed": false
   },
   "outputs": [
    {
     "name": "stdout",
     "output_type": "stream",
     "text": [
      "Fitting ind\n",
      "Running burn-in\n",
      "Running second burn-in\n",
      "Running production\n",
      "Making plots"
     ]
    }
   ],
   "source": [
    "doit()"
   ]
  },
  {
   "cell_type": "code",
   "execution_count": null,
   "metadata": {
    "collapsed": true
   },
   "outputs": [],
   "source": []
  }
 ],
 "metadata": {
  "kernelspec": {
   "display_name": "Python 2",
   "language": "python",
   "name": "python2"
  },
  "language_info": {
   "codemirror_mode": {
    "name": "ipython",
    "version": 2
   },
   "file_extension": ".py",
   "mimetype": "text/x-python",
   "name": "python",
   "nbconvert_exporter": "python",
   "pygments_lexer": "ipython2",
   "version": "2.7.10"
  }
 },
 "nbformat": 4,
 "nbformat_minor": 0
}
