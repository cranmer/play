{
 "cells": [
  {
   "cell_type": "markdown",
   "metadata": {},
   "source": [
    "## Look Elsewhere Effect in 2-d\n",
    "\n",
    "Kyle Cranmer, Nov 19, 2015\n",
    "\n",
    "Based on\n",
    "*Estimating the significance of a signal in a multi-dimensional search* by  Ofer Vitells and Eilam Gross http://arxiv.org/pdf/1105.4355v1.pdf\n",
    "\n",
    "This is for the special case of a likelihood function of the form \n",
    "$L(\\mu, \\nu_1, \\nu_2)$ where $\\mu$ is a single parameter of interest and\n",
    "$\\nu_1,\\nu_2$ are two nuisance parameters that are not identified under the null.\n",
    "For example, $\\mu$ is the signal strength of a new particle and $\\nu_1,\\nu_2$ are the\n",
    "unknown mass and width of the new particle. Under the null hypothesis, those parameters \n",
    "don't mean anything... aka they \"are not identified under the null\" in the statistics jargon.\n",
    "This introduces a 2-d look elsewhere effect.\n",
    "\n",
    "The LEE correction in this case is based on \n",
    "\n",
    "\\begin{equation}\n",
    "E[ \\phi(A_u) ] = P(\\chi^2_1 > u) + e^{-u/2} (N_1 + \\sqrt{u} N_2) \\,\n",
    "\\end{equation}\n",
    "where \n",
    "   * $A_u$ is the 'excursion set above level $u$ (eg. the set of parameter points in $(\\nu_1,\\nu_2)$ that have a -2 log-likelihood ratio greater than $u$ )\n",
    "   * $\\phi(A_u)$ is the Euler characteristic of the excursion set\n",
    "   * $E[ \\phi(A_u) ]$ is the expectation of the Euler characteristic of those excursion sets under the null\n",
    "   * $P(\\chi^2_1 > u)$ is the standard chi-square probability \n",
    "   * and $N_1$ and $N_2$ are two coefficients that characterize the chi-square random field.\n",
    "   \n",
    "### structure of the notebook\n",
    "\n",
    "The notebook is broken into two parts.\n",
    "  * calculation of $N_1$ and $N_2$ based on $E[ \\phi(A_u) ]$ at two different levels $u_1$ and $u_2$\n",
    "  * some code to calculate $\\phi(A_u)$ using convolutional filters\n",
    "  * some tests\n"
   ]
  },
  {
   "cell_type": "code",
   "execution_count": 72,
   "metadata": {
    "collapsed": false
   },
   "outputs": [
    {
     "name": "stdout",
     "output_type": "stream",
     "text": [
      "Populating the interactive namespace from numpy and matplotlib\n"
     ]
    }
   ],
   "source": [
    "%pylab inline --no-import-all\n",
    "from scipy.optimize import fsolve\n",
    "from scipy.stats import chi2\n",
    "from numpy import exp, sqrt\n",
    "from scipy.ndimage.morphology import *\n",
    "from scipy.ndimage import *"
   ]
  },
  {
   "cell_type": "markdown",
   "metadata": {},
   "source": [
    "## Part 1: Calculate $N_1$ and $N_2$"
   ]
  },
  {
   "cell_type": "code",
   "execution_count": 236,
   "metadata": {
    "collapsed": false
   },
   "outputs": [],
   "source": [
    "def expectedEuler(u, n1, n2):\n",
    "    return chi2.cdf(u, 1) + np.exp(-u/2)*(n1+n2*np.sqrt(u))"
   ]
  },
  {
   "cell_type": "code",
   "execution_count": 237,
   "metadata": {
    "collapsed": false
   },
   "outputs": [],
   "source": [
    "def equations(p,obs1, obs2,u1, u2):\n",
    "    n1,n2 = p\n",
    "    return (obs1-expectedEuler(u1,n1,n2), obs2-expectedEuler(u2,n1,n2))"
   ]
  },
  {
   "cell_type": "code",
   "execution_count": 238,
   "metadata": {
    "collapsed": false
   },
   "outputs": [
    {
     "name": "stdout",
     "output_type": "stream",
     "text": [
      "33.5 121.343467521\n",
      "(0.0, -1.4210854715202004e-14)\n"
     ]
    }
   ],
   "source": [
    "# An example from the paper\n",
    "n1, n2 = fsolve(equations, (1,1), args=(33.5, 94.6, 0., 1.))\n",
    "\n",
    "print n1, n2\n",
    "\n",
    "print equations((n1,n2),33.5, 94.6, 0., 1.)\n",
    "#small difference wrt the paper, where n2 = 123"
   ]
  },
  {
   "cell_type": "markdown",
   "metadata": {},
   "source": [
    "## Part 2: Calculate Euler characteristic"
   ]
  },
  {
   "cell_type": "code",
   "execution_count": 239,
   "metadata": {
    "collapsed": false
   },
   "outputs": [],
   "source": [
    "def calculateEulerCharacteristic(a):\n",
    "    face_filter=np.zeros((2,2))+1\n",
    "    right_edge_filter = np.array([[1,1]])\n",
    "    bottom_edge_filter = right_edge_filter.T\n",
    "    \n",
    "    n_faces = np.sum(convolve(a,face_filter,mode='constant')>3)\n",
    "    n_edges = np.sum(convolve(a,right_edge_filter,mode='constant')>1)\n",
    "    n_edges += np.sum(convolve(a,bottom_edge_filter,mode='constant')>1)\n",
    "    n_vertices = np.sum(a>0)\n",
    "    \n",
    "    EulerCharacteristic = n_vertices-n_edges+n_faces\n",
    "    print '%d-%d+%d=%d' %(n_vertices,n_edges,n_faces,EulerCharacteristic) \n",
    "    \n",
    "    return n_vertices-n_edges+n_faces   "
   ]
  },
  {
   "cell_type": "markdown",
   "metadata": {},
   "source": [
    "## Tests"
   ]
  },
  {
   "cell_type": "markdown",
   "metadata": {},
   "source": [
    "### first, check $N_1$ and $N_2$ from the example in the paper"
   ]
  },
  {
   "cell_type": "code",
   "execution_count": 246,
   "metadata": {
    "collapsed": false
   },
   "outputs": [
    {
     "data": {
      "text/plain": [
       "<matplotlib.image.AxesImage at 0x10db6b050>"
      ]
     },
     "execution_count": 246,
     "metadata": {},
     "output_type": "execute_result"
    },
    {
     "data": {
      "image/png": "[encoded data removed]",
      "text/plain": [
       "<matplotlib.figure.Figure at 0x10d9f4b50>"
      ]
     },
     "metadata": {},
     "output_type": "display_data"
    }
   ],
   "source": [
    "#create Fig 3 of http://arxiv.org/pdf/1105.4355v1.pdf\n",
    "a = np.zeros((7,7))\n",
    "a[1,2]=a[1,3]=a[2,1]=a[2,2]=a[2,3]=a[2,4]=1\n",
    "a[3,1]=a[3,2]=a[3,3]=a[3,4]=a[3,5]=1\n",
    "a[4,1]=a[4,2]=a[4,3]=a[4,4]=1\n",
    "a[5,3]=1\n",
    "a[6,0]=a[6,1]=1\n",
    "a=a.T\n",
    "plt.imshow(a,cmap='gray',interpolation='none')"
   ]
  },
  {
   "cell_type": "code",
   "execution_count": 248,
   "metadata": {
    "collapsed": false
   },
   "outputs": [
    {
     "name": "stdout",
     "output_type": "stream",
     "text": [
      "18-23+7=2\n"
     ]
    },
    {
     "data": {
      "text/plain": [
       "2"
      ]
     },
     "execution_count": 248,
     "metadata": {},
     "output_type": "execute_result"
    }
   ],
   "source": [
    "#should be 2\n",
    "calculateEulerCharacteristic(a) "
   ]
  },
  {
   "cell_type": "markdown",
   "metadata": {},
   "source": [
    "### Try a big matrix"
   ]
  },
  {
   "cell_type": "code",
   "execution_count": 271,
   "metadata": {
    "collapsed": false
   },
   "outputs": [
    {
     "name": "stdout",
     "output_type": "stream",
     "text": [
      "10000-19800+9801=1\n"
     ]
    },
    {
     "data": {
      "text/plain": [
       "1"
      ]
     },
     "execution_count": 271,
     "metadata": {},
     "output_type": "execute_result"
    }
   ],
   "source": [
    "#Fully filled, should be 1\n",
    "randMatrix = np.zeros((100,100))+1\n",
    "calculateEulerCharacteristic(randMatrix)"
   ]
  },
  {
   "cell_type": "code",
   "execution_count": 272,
   "metadata": {
    "collapsed": false
   },
   "outputs": [
    {
     "name": "stdout",
     "output_type": "stream",
     "text": [
      "9900-19501+9603=2\n"
     ]
    },
    {
     "data": {
      "text/plain": [
       "2"
      ]
     },
     "execution_count": 272,
     "metadata": {},
     "output_type": "execute_result"
    },
    {
     "data": {
      "image/png": "[encoded data removed]",
      "text/plain": [
       "<matplotlib.figure.Figure at 0x10db06e50>"
      ]
     },
     "metadata": {},
     "output_type": "display_data"
    }
   ],
   "source": [
    "# split in half vertically, should be 2\n",
    "randMatrix[50,:]=0\n",
    "plt.imshow(randMatrix,cmap='gray')\n",
    "calculateEulerCharacteristic(randMatrix)"
   ]
  },
  {
   "cell_type": "code",
   "execution_count": 273,
   "metadata": {
    "collapsed": false
   },
   "outputs": [
    {
     "name": "stdout",
     "output_type": "stream",
     "text": [
      "9702-18911+9215=6\n"
     ]
    },
    {
     "data": {
      "text/plain": [
       "6"
      ]
     },
     "execution_count": 273,
     "metadata": {},
     "output_type": "execute_result"
    },
    {
     "data": {
      "image/png": "[encoded data removed]",
      "text/plain": [
       "<matplotlib.figure.Figure at 0x10d836a10>"
      ]
     },
     "metadata": {},
     "output_type": "display_data"
    }
   ],
   "source": [
    "#split in half horizontally twice, should be 6\n",
    "randMatrix[:,25]=0\n",
    "randMatrix[:,75]=0\n",
    "plt.imshow(randMatrix,cmap='gray')\n",
    "calculateEulerCharacteristic(randMatrix)"
   ]
  },
  {
   "cell_type": "code",
   "execution_count": 274,
   "metadata": {
    "collapsed": false
   },
   "outputs": [
    {
     "name": "stdout",
     "output_type": "stream",
     "text": [
      "9687-18873+9191=5\n"
     ]
    },
    {
     "data": {
      "text/plain": [
       "5"
      ]
     },
     "execution_count": 274,
     "metadata": {},
     "output_type": "execute_result"
    },
    {
     "data": {
      "image/png": "[encoded data removed]",
      "text/plain": [
       "<matplotlib.figure.Figure at 0x10db765d0>"
      ]
     },
     "metadata": {},
     "output_type": "display_data"
    }
   ],
   "source": [
    "#remove a hole from middle of one, should be 5\n",
    "randMatrix[25:30,50:53]=0\n",
    "plt.imshow(randMatrix,cmap='gray')\n",
    "calculateEulerCharacteristic(randMatrix)"
   ]
  }
 ],
 "metadata": {
  "kernelspec": {
   "display_name": "Python 2",
   "language": "python",
   "name": "python2"
  },
  "language_info": {
   "codemirror_mode": {
    "name": "ipython",
    "version": 2
   },
   "file_extension": ".py",
   "mimetype": "text/x-python",
   "name": "python",
   "nbconvert_exporter": "python",
   "pygments_lexer": "ipython2",
   "version": "2.7.10"
  }
 },
 "nbformat": 4,
 "nbformat_minor": 0
}
