{
 "cells": [
  {
   "cell_type": "code",
   "execution_count": 72,
   "metadata": {
    "collapsed": false
   },
   "outputs": [
    {
     "name": "stdout",
     "output_type": "stream",
     "text": [
      "Populating the interactive namespace from numpy and matplotlib\n"
     ]
    }
   ],
   "source": [
    "%pylab inline --no-import-all\n",
    "from scipy.optimize import fsolve\n",
    "from scipy.stats import chi2\n",
    "from numpy import exp, sqrt\n",
    "from scipy.ndimage.morphology import *\n",
    "from scipy.ndimage import *"
   ]
  },
  {
   "cell_type": "code",
   "execution_count": 44,
   "metadata": {
    "collapsed": false
   },
   "outputs": [],
   "source": [
    "def expectedEuler(u, n1, n2):\n",
    "    return chi2.cdf(u, 1) + np.exp(-u/2)*(n1+n2*np.sqrt(u))"
   ]
  },
  {
   "cell_type": "code",
   "execution_count": 45,
   "metadata": {
    "collapsed": false
   },
   "outputs": [],
   "source": [
    "def equations(p,obs1, obs2,u1, u2):\n",
    "    n1,n2 = p\n",
    "    return (obs1-expectedEuler(u1,n1,n2), obs2-expectedEuler(u2,n1,n2))"
   ]
  },
  {
   "cell_type": "code",
   "execution_count": 49,
   "metadata": {
    "collapsed": false
   },
   "outputs": [
    {
     "name": "stdout",
     "output_type": "stream",
     "text": [
      "33.5 121.343467521\n",
      "(0.0, -1.4210854715202004e-14)\n"
     ]
    }
   ],
   "source": [
    "n1, n2 = fsolve(equations, (1,1), args=(33.5, 94.6, 0., 1.))\n",
    "\n",
    "print n1, n2\n",
    "\n",
    "print equations((n1,n2),33.5, 94.6, 0., 1.)"
   ]
  },
  {
   "cell_type": "code",
   "execution_count": 47,
   "metadata": {
    "collapsed": false
   },
   "outputs": [
    {
     "name": "stdout",
     "output_type": "stream",
     "text": [
      "(4.4508396968012676e-11, -1.0512035686360832e-11)\n"
     ]
    }
   ],
   "source": [
    "def testEquations(p):\n",
    "    x, y = p\n",
    "    return (x+y**2-4, np.exp(x) + x*y - 3)\n",
    "\n",
    "x, y =  fsolve(testEquations, (1, 1))\n",
    "\n",
    "print testEquations((x, y))"
   ]
  },
  {
   "cell_type": "markdown",
   "metadata": {},
   "source": [
    "Calculate Euler characteristic"
   ]
  },
  {
   "cell_type": "code",
   "execution_count": 139,
   "metadata": {
    "collapsed": false
   },
   "outputs": [
    {
     "data": {
      "text/plain": [
       "array([[ 0.,  0.,  0.,  0.,  0.,  0.,  1.],\n",
       "       [ 0.,  0.,  1.,  1.,  1.,  0.,  1.],\n",
       "       [ 0.,  1.,  1.,  1.,  1.,  0.,  0.],\n",
       "       [ 0.,  1.,  1.,  1.,  1.,  1.,  0.],\n",
       "       [ 0.,  0.,  1.,  1.,  1.,  0.,  0.],\n",
       "       [ 0.,  0.,  0.,  1.,  0.,  0.,  0.],\n",
       "       [ 0.,  0.,  0.,  0.,  0.,  0.,  0.]])"
      ]
     },
     "execution_count": 139,
     "metadata": {},
     "output_type": "execute_result"
    }
   ],
   "source": [
    "#create Fig 3 of http://arxiv.org/pdf/1105.4355v1.pdf\n",
    "#need padding to avoid roll-over\n",
    "a = np.zeros((7,7))\n",
    "a[1,2]=1\n",
    "a[1,3]=1\n",
    "a[2,1]=1\n",
    "a[2,2]=1\n",
    "a[2,3]=1\n",
    "a[2,4]=1\n",
    "\n",
    "a[3,1]=1\n",
    "a[3,2]=1\n",
    "a[3,3]=1\n",
    "a[3,4]=1\n",
    "a[3,5]=1\n",
    "\n",
    "a[4,1]=1\n",
    "a[4,2]=1\n",
    "a[4,3]=1\n",
    "a[4,4]=1\n",
    "\n",
    "a[5,3]=1\n",
    "\n",
    "a[6,0]=1\n",
    "a[6,1]=1\n",
    "\n",
    "a=a.T\n",
    "#need padding to avoid roll-over in convolution\n",
    "#shouldn't need to with mode=constant and cval=0. hmmm\n",
    "#a=np.roll(a,1, axis=0)\n",
    "#a=np.roll(a,1, axis=1)\n",
    "a"
   ]
  },
  {
   "cell_type": "code",
   "execution_count": 140,
   "metadata": {
    "collapsed": false
   },
   "outputs": [
    {
     "data": {
      "text/plain": [
       "array([[ 1.,  1.],\n",
       "       [ 1.,  1.]])"
      ]
     },
     "execution_count": 140,
     "metadata": {},
     "output_type": "execute_result"
    }
   ],
   "source": [
    "face_filter=np.zeros((2,2))+1\n",
    "face_filter"
   ]
  },
  {
   "cell_type": "code",
   "execution_count": 141,
   "metadata": {
    "collapsed": false
   },
   "outputs": [
    {
     "data": {
      "text/plain": [
       "array([[ 1.,  1.],\n",
       "       [ 0.,  0.]])"
      ]
     },
     "execution_count": 141,
     "metadata": {},
     "output_type": "execute_result"
    }
   ],
   "source": [
    "right_edge_filter=np.zeros((2,2))\n",
    "right_edge_filter[0,0]=1\n",
    "right_edge_filter[0,1]=1\n",
    "right_edge_filter"
   ]
  },
  {
   "cell_type": "code",
   "execution_count": 142,
   "metadata": {
    "collapsed": false
   },
   "outputs": [
    {
     "data": {
      "text/plain": [
       "array([[ 1.,  0.],\n",
       "       [ 1.,  0.]])"
      ]
     },
     "execution_count": 142,
     "metadata": {},
     "output_type": "execute_result"
    }
   ],
   "source": [
    "bottom_edge_filter=np.zeros((2,2))\n",
    "bottom_edge_filter[0,0]=1\n",
    "bottom_edge_filter[1,0]=1\n",
    "bottom_edge_filter"
   ]
  },
  {
   "cell_type": "code",
   "execution_count": 152,
   "metadata": {
    "collapsed": false
   },
   "outputs": [
    {
     "data": {
      "text/plain": [
       "(7, array([[False, False, False, False, False, False, False],\n",
       "        [False, False,  True,  True, False, False, False],\n",
       "        [False,  True,  True,  True, False, False, False],\n",
       "        [False, False,  True,  True, False, False, False],\n",
       "        [False, False, False, False, False, False, False],\n",
       "        [False, False, False, False, False, False, False],\n",
       "        [False, False, False, False, False, False, False]], dtype=bool))"
      ]
     },
     "execution_count": 152,
     "metadata": {},
     "output_type": "execute_result"
    }
   ],
   "source": [
    "faces = convolve(a,face_filter,mode='constant')>3\n",
    "n_faces = np.sum(faces)\n",
    "n_faces, faces"
   ]
  },
  {
   "cell_type": "code",
   "execution_count": 153,
   "metadata": {
    "collapsed": false
   },
   "outputs": [
    {
     "data": {
      "text/plain": [
       "(11, array([[False, False,  True,  True, False, False, False],\n",
       "        [False,  True,  True,  True, False, False, False],\n",
       "        [False,  True,  True,  True,  True, False, False],\n",
       "        [False, False,  True,  True, False, False, False],\n",
       "        [False, False, False, False, False, False, False],\n",
       "        [False, False, False, False, False, False, False],\n",
       "        [False, False, False, False, False, False, False]], dtype=bool))"
      ]
     },
     "execution_count": 153,
     "metadata": {},
     "output_type": "execute_result"
    }
   ],
   "source": [
    "right_edges = convolve(a,right_edge_filter,mode='constant')>1\n",
    "n_edges = np.sum(right_edges)\n",
    "n_edges, right_edges"
   ]
  },
  {
   "cell_type": "code",
   "execution_count": 154,
   "metadata": {
    "collapsed": false
   },
   "outputs": [
    {
     "data": {
      "text/plain": [
       "(12, array([[False, False, False, False, False,  True, False],\n",
       "        [False,  True,  True,  True, False, False, False],\n",
       "        [ True,  True,  True,  True, False, False, False],\n",
       "        [False,  True,  True,  True, False, False, False],\n",
       "        [False, False,  True, False, False, False, False],\n",
       "        [False, False, False, False, False, False, False],\n",
       "        [False, False, False, False, False, False, False]], dtype=bool))"
      ]
     },
     "execution_count": 154,
     "metadata": {},
     "output_type": "execute_result"
    }
   ],
   "source": [
    "bottom_edges = convolve(a,bottom_edge_filter,mode='constant')>1\n",
    "n_edges+=np.sum(bottom_edges)\n",
    "np.sum(bottom_edges), bottom_edges"
   ]
  },
  {
   "cell_type": "code",
   "execution_count": 155,
   "metadata": {
    "collapsed": false
   },
   "outputs": [],
   "source": [
    "vertices = a>0\n",
    "n_vertices = np.sum(vertices)"
   ]
  },
  {
   "cell_type": "code",
   "execution_count": 158,
   "metadata": {
    "collapsed": false
   },
   "outputs": [
    {
     "name": "stdout",
     "output_type": "stream",
     "text": [
      "18-23+7=2\n"
     ]
    }
   ],
   "source": [
    "EulerCharacteristic = n_vertices-n_edges+n_faces\n",
    "print '%d-%d+%d=%d' %(n_vertices,n_edges,n_faces,EulerCharacteristic)"
   ]
  },
  {
   "cell_type": "code",
   "execution_count": null,
   "metadata": {
    "collapsed": true
   },
   "outputs": [],
   "source": []
  },
  {
   "cell_type": "code",
   "execution_count": null,
   "metadata": {
    "collapsed": true
   },
   "outputs": [],
   "source": []
  }
 ],
 "metadata": {
  "kernelspec": {
   "display_name": "Python 2",
   "language": "python",
   "name": "python2"
  },
  "language_info": {
   "codemirror_mode": {
    "name": "ipython",
    "version": 2
   },
   "file_extension": ".py",
   "mimetype": "text/x-python",
   "name": "python",
   "nbconvert_exporter": "python",
   "pygments_lexer": "ipython2",
   "version": "2.7.10"
  }
 },
 "nbformat": 4,
 "nbformat_minor": 0
}
