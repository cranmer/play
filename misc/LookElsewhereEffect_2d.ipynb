{
 "cells": [
  {
   "cell_type": "markdown",
   "metadata": {},
   "source": [
    "## Look Elsewhere Effect in 2-d\n",
    "\n",
    "Kyle Cranmer, Nov 19, 2015\n",
    "\n",
    "Based on\n",
    "*Estimating the significance of a signal in a multi-dimensional search* by  Ofer Vitells and Eilam Gross http://arxiv.org/pdf/1105.4355v1.pdf\n",
    "\n",
    "This is for the special case of a likelihood function of the form \n",
    "$L(\\mu, \\nu_1, \\nu_2)$ where $\\mu$ is a single parameter of interest and\n",
    "$\\nu_1,\\nu_2$ are two nuisance parameters that are not identified under the null.\n",
    "For example, $\\mu$ is the signal strength of a new particle and $\\nu_1,\\nu_2$ are the\n",
    "unknown mass and width of the new particle. Under the null hypothesis, those parameters \n",
    "don't mean anything... aka they \"are not identified under the null\" in the statistics jargon.\n",
    "This introduces a 2-d look elsewhere effect.\n",
    "\n",
    "The LEE correction in this case is based on \n",
    "\n",
    "\\begin{equation}\n",
    "E[ \\phi(A_u) ] = P(\\chi^2_1 > u) + e^{-u/2} (N_1 + \\sqrt{u} N_2) \\,\n",
    "\\end{equation}\n",
    "where \n",
    "   * $A_u$ is the 'excursion set above level $u$ (eg. the set of parameter points in $(\\nu_1,\\nu_2)$ that have a -2 log-likelihood ratio greater than $u$ )\n",
    "   * $\\phi(A_u)$ is the Euler characteristic of the excursion set\n",
    "   * $E[ \\phi(A_u) ]$ is the expectation of the Euler characteristic of those excursion sets under the null\n",
    "   * $P(\\chi^2_1 > u)$ is the standard chi-square probability \n",
    "   * and $N_1$ and $N_2$ are two coefficients that characterize the chi-square random field.\n",
    "   \n",
    "### structure of the notebook\n",
    "\n",
    "The notebook is broken into two parts.\n",
    "  * calculation of $N_1$ and $N_2$ based on $E[ \\phi(A_u) ]$ at two different levels $u_1$ and $u_2$\n",
    "  * calculation of LEE-corrected 'global p-value' given $N_1,N_2$\n",
    "  * some code to calculate $\\phi(A_u)$ using convolutional filters\n",
    "  * some tests\n"
   ]
  },
  {
   "cell_type": "code",
   "execution_count": 1,
   "metadata": {
    "collapsed": false
   },
   "outputs": [
    {
     "name": "stdout",
     "output_type": "stream",
     "text": [
      "Populating the interactive namespace from numpy and matplotlib\n"
     ]
    }
   ],
   "source": [
    "%pylab inline --no-import-all\n",
    "from scipy.optimize import fsolve\n",
    "from scipy.stats import chi2\n",
    "from numpy import exp, sqrt\n",
    "from scipy.ndimage.morphology import *\n",
    "from scipy.ndimage import *"
   ]
  },
  {
   "cell_type": "markdown",
   "metadata": {},
   "source": [
    "## Part 1: Calculate $N_1$ and $N_2$"
   ]
  },
  {
   "cell_type": "code",
   "execution_count": 2,
   "metadata": {
    "collapsed": false
   },
   "outputs": [],
   "source": [
    "def expectedEuler(u, n1, n2):\n",
    "    return chi2.cdf(u, 1) + np.exp(-u/2)*(n1+n2*np.sqrt(u))"
   ]
  },
  {
   "cell_type": "code",
   "execution_count": 3,
   "metadata": {
    "collapsed": false
   },
   "outputs": [],
   "source": [
    "def equations(p,exp_phi_1, exp_phi_2,u1, u2):\n",
    "    n1,n2 = p\n",
    "    return (exp_phi_1-expectedEuler(u1,n1,n2), exp_phi_2-expectedEuler(u2,n1,n2))"
   ]
  },
  {
   "cell_type": "markdown",
   "metadata": {},
   "source": [
    "Usage: calculate n1,n2 based on expected value of Euler characteristic (calculated from toy Monte Carlo) at two different levels u1, u2. For example: \n",
    "   * $u_1=0$ with $E[ \\phi(A_{u=u_1})]=33.5 $ \n",
    "   * $u_2=1$ with $E[ \\phi(A_{u=u_2})]=94.6 $\n",
    "\n",
    "would lead to a call like this\n",
    "\n",
    "```python\n",
    "    n1, n2 = fsolve(equations, (1,1), args=(33.5, 94.6, 0., 1.))\n",
    "```\n"
   ]
  },
  {
   "cell_type": "markdown",
   "metadata": {},
   "source": [
    "### Part 1b: Given $N_1$ and $N_2$ calculate global p-value for given -2logL"
   ]
  },
  {
   "cell_type": "code",
   "execution_count": 4,
   "metadata": {
    "collapsed": false
   },
   "outputs": [],
   "source": [
    "def global_pvalue(u,n1,n2):\n",
    "    return expectedEuler(u,n1,n2)-1."
   ]
  },
  {
   "cell_type": "markdown",
   "metadata": {},
   "source": [
    "## Part 2: Calculate Euler characteristic"
   ]
  },
  {
   "cell_type": "code",
   "execution_count": 5,
   "metadata": {
    "collapsed": false
   },
   "outputs": [],
   "source": [
    "def calculateEulerCharacteristic(a):\n",
    "    face_filter=np.zeros((2,2))+1\n",
    "    right_edge_filter = np.array([[1,1]])\n",
    "    bottom_edge_filter = right_edge_filter.T\n",
    "    \n",
    "    n_faces = np.sum(convolve(a,face_filter,mode='constant')>3)\n",
    "    n_edges = np.sum(convolve(a,right_edge_filter,mode='constant')>1)\n",
    "    n_edges += np.sum(convolve(a,bottom_edge_filter,mode='constant')>1)\n",
    "    n_vertices = np.sum(a>0)\n",
    "    \n",
    "    EulerCharacteristic = n_vertices-n_edges+n_faces\n",
    "    print '%d-%d+%d=%d' %(n_vertices,n_edges,n_faces,EulerCharacteristic) \n",
    "    \n",
    "    return n_vertices-n_edges+n_faces   "
   ]
  },
  {
   "cell_type": "markdown",
   "metadata": {},
   "source": [
    "## Tests"
   ]
  },
  {
   "cell_type": "markdown",
   "metadata": {},
   "source": [
    "### Test numerical solution to $N_1, N_2$  from the example in the paper"
   ]
  },
  {
   "cell_type": "code",
   "execution_count": 6,
   "metadata": {
    "collapsed": false
   },
   "outputs": [
    {
     "name": "stdout",
     "output_type": "stream",
     "text": [
      "33.5 121.343467521\n",
      "(0.0, -1.4210854715202004e-14)\n"
     ]
    }
   ],
   "source": [
    "# An example from the paper\n",
    "n1, n2 = fsolve(equations, (1,1), args=(33.5, 94.6, 0., 1.))\n",
    "\n",
    "print n1, n2\n",
    "\n",
    "print equations((n1,n2),33.5, 94.6, 0., 1.)\n",
    "#small difference wrt the paper, where n2 = 123"
   ]
  },
  {
   "cell_type": "code",
   "execution_count": 7,
   "metadata": {
    "collapsed": false
   },
   "outputs": [
    {
     "data": {
      "text/plain": [
       "[]"
      ]
     },
     "execution_count": 7,
     "metadata": {},
     "output_type": "execute_result"
    },
    {
     "data": {
      "image/png": "[encoded data removed]",
      "text/plain": [
       "<matplotlib.figure.Figure at 0x106a7cc10>"
      ]
     },
     "metadata": {},
     "output_type": "display_data"
    }
   ],
   "source": [
    "# reproduce Fig 5 from paper (the markers are read by eye)\n",
    "u = np.linspace(5,35,100)\n",
    "global_p = global_pvalue(u,n1,n2)\n",
    "plt.plot(u, global_p)\n",
    "plt.scatter(35,2.E-5) #from Fig5\n",
    "plt.scatter(30,2.E-4) #from Fig5\n",
    "plt.scatter(25,2.5E-3) #from Fig5\n",
    "plt.scatter(20,2.5E-2) #from Fig5\n",
    "plt.scatter(15,.3) #from Fig5\n",
    "plt.xlabel('u')\n",
    "plt.ylabel('P(max q > u)')\n",
    "plt.semilogy()"
   ]
  },
  {
   "cell_type": "markdown",
   "metadata": {},
   "source": [
    "### Check Euler characteristic from Fig 3 example in the paper"
   ]
  },
  {
   "cell_type": "code",
   "execution_count": 8,
   "metadata": {
    "collapsed": false
   },
   "outputs": [
    {
     "data": {
      "text/plain": [
       "<matplotlib.image.AxesImage at 0x106e75090>"
      ]
     },
     "execution_count": 8,
     "metadata": {},
     "output_type": "execute_result"
    },
    {
     "data": {
      "image/png": "[encoded data removed]",
      "text/plain": [
       "<matplotlib.figure.Figure at 0x106c39450>"
      ]
     },
     "metadata": {},
     "output_type": "display_data"
    }
   ],
   "source": [
    "#create Fig 3 of http://arxiv.org/pdf/1105.4355v1.pdf\n",
    "a = np.zeros((7,7))\n",
    "a[1,2]=a[1,3]=a[2,1]=a[2,2]=a[2,3]=a[2,4]=1\n",
    "a[3,1]=a[3,2]=a[3,3]=a[3,4]=a[3,5]=1\n",
    "a[4,1]=a[4,2]=a[4,3]=a[4,4]=1\n",
    "a[5,3]=1\n",
    "a[6,0]=a[6,1]=1\n",
    "a=a.T\n",
    "plt.imshow(a,cmap='gray',interpolation='none')"
   ]
  },
  {
   "cell_type": "code",
   "execution_count": 9,
   "metadata": {
    "collapsed": false
   },
   "outputs": [
    {
     "name": "stdout",
     "output_type": "stream",
     "text": [
      "18-23+7=2\n"
     ]
    },
    {
     "data": {
      "text/plain": [
       "2"
      ]
     },
     "execution_count": 9,
     "metadata": {},
     "output_type": "execute_result"
    }
   ],
   "source": [
    "#should be 2\n",
    "calculateEulerCharacteristic(a) "
   ]
  },
  {
   "cell_type": "markdown",
   "metadata": {},
   "source": [
    "### Try a big matrix"
   ]
  },
  {
   "cell_type": "code",
   "execution_count": 10,
   "metadata": {
    "collapsed": false
   },
   "outputs": [
    {
     "name": "stdout",
     "output_type": "stream",
     "text": [
      "10000-19800+9801=1\n"
     ]
    },
    {
     "data": {
      "text/plain": [
       "1"
      ]
     },
     "execution_count": 10,
     "metadata": {},
     "output_type": "execute_result"
    }
   ],
   "source": [
    "#Fully filled, should be 1\n",
    "randMatrix = np.zeros((100,100))+1\n",
    "calculateEulerCharacteristic(randMatrix)"
   ]
  },
  {
   "cell_type": "code",
   "execution_count": 11,
   "metadata": {
    "collapsed": false
   },
   "outputs": [
    {
     "name": "stdout",
     "output_type": "stream",
     "text": [
      "9900-19501+9603=2\n"
     ]
    },
    {
     "data": {
      "text/plain": [
       "2"
      ]
     },
     "execution_count": 11,
     "metadata": {},
     "output_type": "execute_result"
    },
    {
     "data": {
      "image/png": "[encoded data removed]",
      "text/plain": [
       "<matplotlib.figure.Figure at 0x106e8d8d0>"
      ]
     },
     "metadata": {},
     "output_type": "display_data"
    }
   ],
   "source": [
    "# split in half vertically, should be 2\n",
    "randMatrix[50,:]=0\n",
    "plt.imshow(randMatrix,cmap='gray')\n",
    "calculateEulerCharacteristic(randMatrix)"
   ]
  },
  {
   "cell_type": "code",
   "execution_count": 12,
   "metadata": {
    "collapsed": false
   },
   "outputs": [
    {
     "name": "stdout",
     "output_type": "stream",
     "text": [
      "9702-18911+9215=6\n"
     ]
    },
    {
     "data": {
      "text/plain": [
       "6"
      ]
     },
     "execution_count": 12,
     "metadata": {},
     "output_type": "execute_result"
    },
    {
     "data": {
      "image/png": "[encoded data removed]",
      "text/plain": [
       "<matplotlib.figure.Figure at 0x106c96c50>"
      ]
     },
     "metadata": {},
     "output_type": "display_data"
    }
   ],
   "source": [
    "#split in half horizontally twice, should be 6\n",
    "randMatrix[:,25]=0\n",
    "randMatrix[:,75]=0\n",
    "plt.imshow(randMatrix,cmap='gray')\n",
    "calculateEulerCharacteristic(randMatrix)"
   ]
  },
  {
   "cell_type": "code",
   "execution_count": 13,
   "metadata": {
    "collapsed": false
   },
   "outputs": [
    {
     "name": "stdout",
     "output_type": "stream",
     "text": [
      "9687-18873+9191=5\n"
     ]
    },
    {
     "data": {
      "text/plain": [
       "5"
      ]
     },
     "execution_count": 13,
     "metadata": {},
     "output_type": "execute_result"
    },
    {
     "data": {
      "image/png": "[encoded data removed]",
      "text/plain": [
       "<matplotlib.figure.Figure at 0x106b0f990>"
      ]
     },
     "metadata": {},
     "output_type": "display_data"
    }
   ],
   "source": [
    "#remove a hole from middle of one, should be 5\n",
    "randMatrix[25:30,50:53]=0\n",
    "plt.imshow(randMatrix,cmap='gray')\n",
    "calculateEulerCharacteristic(randMatrix)"
   ]
  }
 ],
 "metadata": {
  "kernelspec": {
   "display_name": "Python 2",
   "language": "python",
   "name": "python2"
  },
  "language_info": {
   "codemirror_mode": {
    "name": "ipython",
    "version": 2
   },
   "file_extension": ".py",
   "mimetype": "text/x-python",
   "name": "python",
   "nbconvert_exporter": "python",
   "pygments_lexer": "ipython2",
   "version": "2.7.10"
  }
 },
 "nbformat": 4,
 "nbformat_minor": 0
}
