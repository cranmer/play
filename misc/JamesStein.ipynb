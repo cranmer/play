{
 "cells": [
  {
   "cell_type": "code",
   "execution_count": 1,
   "metadata": {
    "collapsed": false
   },
   "outputs": [
    {
     "name": "stdout",
     "output_type": "stream",
     "text": [
      "Populating the interactive namespace from numpy and matplotlib\n"
     ]
    }
   ],
   "source": [
    "%pylab inline"
   ]
  },
  {
   "cell_type": "code",
   "execution_count": 2,
   "metadata": {
    "collapsed": false
   },
   "outputs": [],
   "source": [
    "def jamesSteinEstimator(x):\n",
    "    return x*(1. - (x.size-2.)/sum(x*x))"
   ]
  },
  {
   "cell_type": "code",
   "execution_count": 3,
   "metadata": {
    "collapsed": false
   },
   "outputs": [],
   "source": [
    "def RMS(x,mu):\n",
    "    return sqrt(sum((x-mu)*(x-mu)))"
   ]
  },
  {
   "cell_type": "code",
   "execution_count": 4,
   "metadata": {
    "collapsed": false
   },
   "outputs": [],
   "source": [
    "def doRun(n,nsamp=5000):\n",
    "    nSamp=100\n",
    "    mean=zeros(n)\n",
    "    data = zeros(n*nSamp).reshape(n,nSamp)\n",
    "    for i in range(n):\n",
    "        mean[i] = 0.5 #set value of the mean's components here \n",
    "        data[i,:] = random.normal(mean[i],1,nSamp).T\n",
    "    data=data.T\n",
    "\n",
    "    avRMS_js = 0\n",
    "    avRMS_mle = 0\n",
    "    for x in data:\n",
    "        avRMS_js += RMS(jamesSteinEstimator(x),mean)\n",
    "        avRMS_mle += RMS(x,mean)\n",
    "    avRMS_js /= nSamp\n",
    "    avRMS_mle /= nSamp\n",
    "    return (avRMS_js, avRMS_mle)"
   ]
  },
  {
   "cell_type": "code",
   "execution_count": 5,
   "metadata": {
    "collapsed": false
   },
   "outputs": [],
   "source": [
    "nToTest = linspace(2,20)\n",
    "av_js = zeros(nToTest.size)\n",
    "av_mle = zeros(nToTest.size)\n",
    "for i,n in enumerate(nToTest):\n",
    "    [av_js[i], av_mle[i]] = doRun(int(n))"
   ]
  },
  {
   "cell_type": "code",
   "execution_count": 6,
   "metadata": {
    "collapsed": false
   },
   "outputs": [
    {
     "data": {
      "text/plain": [
       "[<matplotlib.lines.Line2D at 0x106fc1350>]"
      ]
     },
     "execution_count": 6,
     "metadata": {},
     "output_type": "execute_result"
    },
    {
     "data": {
      "image/png": "[encoded data removed]",
      "text/plain": [
       "<matplotlib.figure.Figure at 0x106fc1650>"
      ]
     },
     "metadata": {},
     "output_type": "display_data"
    }
   ],
   "source": [
    "plt.plot(nToTest,av_js,c='b') #James Stein in blue\n",
    "plt.plot(nToTest,av_mle,c='r') #MLE in red"
   ]
  },
  {
   "cell_type": "code",
   "execution_count": 112,
   "metadata": {
    "collapsed": false
   },
   "outputs": [],
   "source": []
  },
  {
   "cell_type": "code",
   "execution_count": null,
   "metadata": {
    "collapsed": false
   },
   "outputs": [],
   "source": []
  }
 ],
 "metadata": {
  "kernelspec": {
   "display_name": "Python 2",
   "language": "python",
   "name": "python2"
  },
  "language_info": {
   "codemirror_mode": {
    "name": "ipython",
    "version": 2
   },
   "file_extension": ".py",
   "mimetype": "text/x-python",
   "name": "python",
   "nbconvert_exporter": "python",
   "pygments_lexer": "ipython2",
   "version": "2.7.6"
  }
 },
 "nbformat": 4,
 "nbformat_minor": 0
}
