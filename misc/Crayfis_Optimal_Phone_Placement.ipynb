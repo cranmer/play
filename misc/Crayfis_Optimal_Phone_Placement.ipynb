{
 "cells": [
  {
   "cell_type": "code",
   "execution_count": 162,
   "metadata": {
    "collapsed": false
   },
   "outputs": [
    {
     "name": "stdout",
     "output_type": "stream",
     "text": [
      "Populating the interactive namespace from numpy and matplotlib\n"
     ]
    },
    {
     "name": "stderr",
     "output_type": "stream",
     "text": [
      "WARNING: pylab import has clobbered these variables: ['f']\n",
      "`%matplotlib` prevents importing * from pylab and numpy\n"
     ]
    }
   ],
   "source": [
    "%pylab inline\n",
    "plt.rc('text', usetex=True)"
   ]
  },
  {
   "cell_type": "code",
   "execution_count": 163,
   "metadata": {
    "collapsed": true
   },
   "outputs": [],
   "source": [
    "n=5"
   ]
  },
  {
   "cell_type": "code",
   "execution_count": 164,
   "metadata": {
    "collapsed": false
   },
   "outputs": [],
   "source": [
    "def f(l):\n",
    "    x = np.linspace(0,l,n-1)\n",
    "    y = np.product(np.exp(-(x*x)/2)/np.sqrt(2.*np.pi))\n",
    "    return y"
   ]
  },
  {
   "cell_type": "code",
   "execution_count": 165,
   "metadata": {
    "collapsed": false
   },
   "outputs": [
    {
     "data": {
      "text/plain": [
       "9.0996635987699714e-11"
      ]
     },
     "execution_count": 165,
     "metadata": {},
     "output_type": "execute_result"
    }
   ],
   "source": [
    "f(5)"
   ]
  },
  {
   "cell_type": "code",
   "execution_count": 168,
   "metadata": {
    "collapsed": false
   },
   "outputs": [
    {
     "data": {
      "image/png": "[encoded data removed]",
      "text/plain": [
       "<matplotlib.figure.Figure at 0x11e147dd0>"
      ]
     },
     "metadata": {},
     "output_type": "display_data"
    }
   ],
   "source": [
    "L = np.linspace(0,5,50)\n",
    "vals = np.zeros(50)\n",
    "for i,l in enumerate(L):\n",
    "    vals[i] = f(l)*np.power(2*np.pi,(n-1)/2.)\n",
    "plt.plot(L,vals)\n",
    "#plt.plot(L,np.power(np.zeros(50)+2*np.pi,-(n-1)/2.))\n",
    "plt.plot(L,np.exp(-L*L/2.)/np.power(2*np.pi,(n-1)/2.)*np.power(2*np.pi,(n-1)/2.))\n",
    "plt.legend(('P_{eq}(L)', 's_G(L)'),loc='upper right')\n",
    "plt.xlabel('L')\n",
    "plt.ylabel('P_{eq}(L)/P_0')\n",
    "plt.savefig('equal-spacing.pdf')"
   ]
  },
  {
   "cell_type": "code",
   "execution_count": 88,
   "metadata": {
    "collapsed": false
   },
   "outputs": [
    {
     "data": {
      "text/plain": [
       "9"
      ]
     },
     "execution_count": 88,
     "metadata": {},
     "output_type": "execute_result"
    }
   ],
   "source": [
    "np.power(3,2)"
   ]
  },
  {
   "cell_type": "code",
   "execution_count": 117,
   "metadata": {
    "collapsed": true
   },
   "outputs": [],
   "source": [
    "from sympy import Symbol, symbols, solve, lambdify, integrate,exp, oo, product"
   ]
  },
  {
   "cell_type": "code",
   "execution_count": 126,
   "metadata": {
    "collapsed": false
   },
   "outputs": [],
   "source": [
    "(n, x, D, x0, s, L, i) =  symbols('n x D x0 s L i')"
   ]
  },
  {
   "cell_type": "code",
   "execution_count": 109,
   "metadata": {
    "collapsed": false
   },
   "outputs": [
    {
     "data": {
      "text/plain": [
       "Piecewise((sqrt(2)*sqrt(pi)/sqrt(n), Abs(periodic_argument(n, oo)) <= pi/2), (Integral(exp(-x**2/2)**n, (x, -oo, oo)), True))"
      ]
     },
     "execution_count": 109,
     "metadata": {},
     "output_type": "execute_result"
    }
   ],
   "source": [
    "integrate(exp(-x*x/2)**n,(x, -oo, oo))"
   ]
  },
  {
   "cell_type": "code",
   "execution_count": 114,
   "metadata": {
    "collapsed": false
   },
   "outputs": [
    {
     "data": {
      "text/plain": [
       "-(-sqrt(2)*pi*D*exp(D**2/(2*n))*erf(sqrt(2)*D/(2*sqrt(n)))/(2*sqrt(n)) - sqrt(2)*pi*D*exp(D**2/(2*n))/(2*sqrt(n)))*exp(-D**2/2)/(sqrt(pi)*D) + (-sqrt(2)*pi*D*exp(D**2/(2*n))*erf(sqrt(2)*D/(2*sqrt(n)))/(2*sqrt(n)) + sqrt(2)*pi*D*exp(D**2/(2*n))/(2*sqrt(n)))*exp(-D**2/2)/(sqrt(pi)*D)"
      ]
     },
     "execution_count": 114,
     "metadata": {},
     "output_type": "execute_result"
    }
   ],
   "source": [
    "integrate(exp(-x*x/2)**(n-1) * exp(-(x-D)**2/2),(x, -oo, oo), conds='none')"
   ]
  },
  {
   "cell_type": "code",
   "execution_count": 115,
   "metadata": {
    "collapsed": false
   },
   "outputs": [
    {
     "name": "stdout",
     "output_type": "stream",
     "text": [
      "Object `simplify` not found.\n"
     ]
    }
   ],
   "source": [
    "simplify?"
   ]
  },
  {
   "cell_type": "code",
   "execution_count": 129,
   "metadata": {
    "collapsed": false
   },
   "outputs": [
    {
     "data": {
      "text/plain": [
       "Product(exp((-L*i/(n - 1) + x)*(L*i/(n - 1) - x)/2), (i, 0, n - 1))"
      ]
     },
     "execution_count": 129,
     "metadata": {},
     "output_type": "execute_result"
    }
   ],
   "source": [
    "product(exp(-(x-i*L/(n-1))*(x-i*L/(n-1))/2), (i,0,n-1))"
   ]
  },
  {
   "cell_type": "code",
   "execution_count": 131,
   "metadata": {
    "collapsed": false
   },
   "outputs": [
    {
     "data": {
      "text/plain": [
       "Integral(Product(exp((-L*i/(n - 1) + x)*(L*i/(n - 1) - x)/2), (i, 0, n - 1)), (x, -oo, oo))"
      ]
     },
     "execution_count": 131,
     "metadata": {},
     "output_type": "execute_result"
    }
   ],
   "source": [
    "integrate(product(exp(-(x-i*L/(n-1))*(x-i*L/(n-1))/2), (i,0,n-1)),(x,-oo,oo),conds='none')"
   ]
  },
  {
   "cell_type": "code",
   "execution_count": 132,
   "metadata": {
    "collapsed": false
   },
   "outputs": [
    {
     "data": {
      "text/plain": [
       "sqrt(6)*sqrt(pi)*(-erf(sqrt(6)*L/4) + 1)*exp(-L**2/4)/6 + sqrt(6)*sqrt(pi)*(erf(sqrt(6)*L/4) + 1)*exp(-L**2/4)/6"
      ]
     },
     "execution_count": 132,
     "metadata": {},
     "output_type": "execute_result"
    }
   ],
   "source": [
    "integrate(product(exp(-(x-i*L/(3-1))*(x-i*L/(3-1))/2), (i,0,3-1)),(x,-oo,oo),conds='none')"
   ]
  },
  {
   "cell_type": "code",
   "execution_count": 169,
   "metadata": {
    "collapsed": false
   },
   "outputs": [
    {
     "data": {
      "image/png": "[encoded data removed]",
      "text/plain": [
       "<matplotlib.figure.Figure at 0x1149232d0>"
      ]
     },
     "metadata": {},
     "output_type": "display_data"
    }
   ],
   "source": [
    "x = np.arange(-5, 5, 0.1)\n",
    "y = np.arange(-5, 5, 0.1)\n",
    "xx, yy = meshgrid(x, y, sparse=True)\n",
    "z = np.sin(xx**2 + yy**2) / (xx**2 + yy**2)\n",
    "h = plt.contourf(x,y,z)"
   ]
  },
  {
   "cell_type": "code",
   "execution_count": 247,
   "metadata": {
    "collapsed": true
   },
   "outputs": [],
   "source": [
    "def uniformPhones(n):\n",
    "    return np.random.uniform(-10,10,n)"
   ]
  },
  {
   "cell_type": "code",
   "execution_count": 248,
   "metadata": {
    "collapsed": true
   },
   "outputs": [],
   "source": [
    "def stackPhones(n):\n",
    "    x0 = np.random.uniform(-10,10)\n",
    "    return np.zeros(n)+x0"
   ]
  },
  {
   "cell_type": "code",
   "execution_count": 303,
   "metadata": {
    "collapsed": true
   },
   "outputs": [],
   "source": [
    "def gaussPhones(n):\n",
    "    x0 = np.random.uniform(-10,10)\n",
    "    d=20.*n/210\n",
    "    return np.random.normal(x0,d/2,n)"
   ]
  },
  {
   "cell_type": "code",
   "execution_count": 305,
   "metadata": {
    "collapsed": false
   },
   "outputs": [],
   "source": [
    "def patchPhones(n,rho=1.):\n",
    "    d=20.*n/210/rho\n",
    "    x0 = np.random.uniform(-10,np.maximum(-9.9,10-d)) #ensure all phones in [-10,10]\n",
    "    return np.random.uniform(x0,x0+d,n)"
   ]
  },
  {
   "cell_type": "code",
   "execution_count": 293,
   "metadata": {
    "collapsed": false
   },
   "outputs": [],
   "source": [
    "def shower(x):\n",
    "    pPhone = np.exp(-x**2)/np.sqrt(2*np.pi)\n",
    "    dice = np.random.uniform(0,1,x.size)\n",
    "    if sum(pPhone>dice) > 5:\n",
    "        return 1\n",
    "    else :\n",
    "        return 0\n",
    "    "
   ]
  },
  {
   "cell_type": "code",
   "execution_count": 294,
   "metadata": {
    "collapsed": true
   },
   "outputs": [],
   "source": [
    "def uniformPerf(n):\n",
    "    ret  = 0.\n",
    "    nExpt=10000\n",
    "    for i in range(nExpt):\n",
    "        ret += shower(uniformPhones(n))\n",
    "    return ret/nExpt"
   ]
  },
  {
   "cell_type": "code",
   "execution_count": 295,
   "metadata": {
    "collapsed": true
   },
   "outputs": [],
   "source": [
    "def stackPerf(n):\n",
    "    ret  = 0.\n",
    "    nExpt=10000\n",
    "    for i in range(nExpt):\n",
    "        ret += shower(stackPhones(n))\n",
    "    return ret/nExpt"
   ]
  },
  {
   "cell_type": "code",
   "execution_count": 296,
   "metadata": {
    "collapsed": true
   },
   "outputs": [],
   "source": [
    "def gaussPerf(n):\n",
    "    ret  = 0.\n",
    "    nExpt=10000\n",
    "    for i in range(nExpt):\n",
    "        ret += shower(gaussPhones(n))\n",
    "    return ret/nExpt"
   ]
  },
  {
   "cell_type": "code",
   "execution_count": 307,
   "metadata": {
    "collapsed": true
   },
   "outputs": [],
   "source": [
    "def patchPerf(n,rho=1.):\n",
    "    ret  = 0.\n",
    "    nExpt=10000\n",
    "    for i in range(nExpt):\n",
    "        ret += shower(patchPhones(n,rho))\n",
    "    return ret/nExpt"
   ]
  },
  {
   "cell_type": "code",
   "execution_count": 310,
   "metadata": {
    "collapsed": false
   },
   "outputs": [
    {
     "data": {
      "text/plain": [
       "[<matplotlib.lines.Line2D at 0x11eccc5d0>]"
      ]
     },
     "execution_count": 310,
     "metadata": {},
     "output_type": "execute_result"
    },
    {
     "data": {
      "image/png": "[encoded data removed]",
      "text/plain": [
       "<matplotlib.figure.Figure at 0x11dda9bd0>"
      ]
     },
     "metadata": {},
     "output_type": "display_data"
    }
   ],
   "source": [
    "nArray = np.linspace(1,500,30)\n",
    "uniformPerfArray = np.zeros(nArray.size)\n",
    "stackPerfArray = np.zeros(nArray.size)\n",
    "gaussPerfArray = np.zeros(nArray.size)\n",
    "patchPerfArray = np.zeros(nArray.size)\n",
    "patch2PerfArray = np.zeros(nArray.size)\n",
    "\n",
    "\n",
    "for i,n in enumerate(nArray):\n",
    "    uniformPerfArray[i] = uniformPerf(n)/n\n",
    "    stackPerfArray[i] = stackPerf(n)/n\n",
    "    gaussPerfArray[i] = gaussPerf(n)/n\n",
    "    patchPerfArray[i] = patchPerf(n)/n\n",
    "    patch2PerfArray[i] = patchPerf(n,1.1)/n\n",
    "\n",
    "\n",
    "\n",
    "plt.plot(nArray,uniformPerfArray)\n",
    "plt.plot(nArray,stackPerfArray)\n",
    "plt.plot(nArray,gaussPerfArray)\n",
    "plt.plot(nArray,patchPerfArray)\n",
    "plt.plot(nArray,patch2PerfArray)"
   ]
  },
  {
   "cell_type": "code",
   "execution_count": 318,
   "metadata": {
    "collapsed": false
   },
   "outputs": [],
   "source": [
    "from scipy.special import gamma"
   ]
  },
  {
   "cell_type": "code",
   "execution_count": 857,
   "metadata": {
    "collapsed": false
   },
   "outputs": [],
   "source": [
    "def airShower(x):\n",
    "    #N/(2 Pi rm^2) (r/rm)^(s - 2) (1 + r/rm)^(s - 4.5) Gamma[4.5 - s]/   Gamma[s] / Gamma[4.5 - 2 s]  \n",
    "    rm = 0.078 #78 m molier radius\n",
    "    r = np.sqrt(x[:,0]**2 + x[:,1]**2)/rm\n",
    "    s=1.8\n",
    "    N_muons = 4.78E8 # Exp[-3.57 + 0.93*(20 - 9)*Log[10]] ]= 4.78155*10^8 \n",
    "    epsA = 5.E-11\n",
    "    normFactor = gamma(4.5-s) / gamma(s) / gamma(4.5 -2*s)/(2*np.pi) / rm / rm\n",
    "    normFactor *= N_muons*epsA\n",
    "    pPhone = normFactor *(r)**(s-2.) * (1.+r)**(s-4.5)\n",
    "    dice = np.random.uniform(0,1,x.size/2)\n",
    "    #return sum(pPhone>dice)\n",
    "    if sum(pPhone>dice) > 2:\n",
    "        return 1\n",
    "    else :\n",
    "        return 0"
   ]
  },
  {
   "cell_type": "code",
   "execution_count": 554,
   "metadata": {
    "collapsed": true
   },
   "outputs": [],
   "source": [
    "def dummyShower(x):\n",
    "    rm = 0.078 #78 m molier radius\n",
    "    r = np.sqrt(x[:,0]**2 + x[:,1]**2)/rm\n",
    "    #normFactor = N_muons*epsA*gamma(4.5-s) / gamma(s) / gamma(4.5 -2*s)/(2*np.pi)\n",
    "    normFactor = gamma(4.5-s) / gamma(s) / gamma(4.5 -2*s)/(2*np.pi)\n",
    "    return np.exp(-r) /(2. * rm * rm *np.pi)"
   ]
  },
  {
   "cell_type": "code",
   "execution_count": 555,
   "metadata": {
    "collapsed": false
   },
   "outputs": [
    {
     "data": {
      "text/plain": [
       "4e-06"
      ]
     },
     "execution_count": 555,
     "metadata": {},
     "output_type": "execute_result"
    }
   ],
   "source": [
    "xmax = 1\n",
    "nMC = 1E6\n",
    "x = np.random.uniform(-xmax,xmax,2*nMC).reshape(nMC,2)\n",
    "4.*xmax*xmax*sum(airShower(x))/nMC"
   ]
  },
  {
   "cell_type": "code",
   "execution_count": 556,
   "metadata": {
    "collapsed": false
   },
   "outputs": [
    {
     "data": {
      "text/plain": [
       "1.0"
      ]
     },
     "execution_count": 556,
     "metadata": {},
     "output_type": "execute_result"
    }
   ],
   "source": [
    "np.sum(airShower(x) > np.random.uniform(0,1,nMC))/nMC"
   ]
  },
  {
   "cell_type": "code",
   "execution_count": 557,
   "metadata": {
    "collapsed": false
   },
   "outputs": [
    {
     "ename": "TypeError",
     "evalue": "'int' object is not iterable",
     "output_type": "error",
     "traceback": [
      "\u001b[0;31m---------------------------------------------------------------------------\u001b[0m",
      "\u001b[0;31mTypeError\u001b[0m                                 Traceback (most recent call last)",
      "\u001b[0;32m<ipython-input-557-6a28571f2304>\u001b[0m in \u001b[0;36m<module>\u001b[0;34m()\u001b[0m\n\u001b[0;32m----> 1\u001b[0;31m \u001b[0mmax\u001b[0m\u001b[0;34m(\u001b[0m\u001b[0mairShower\u001b[0m\u001b[0;34m(\u001b[0m\u001b[0mx\u001b[0m\u001b[0;34m)\u001b[0m\u001b[0;34m)\u001b[0m\u001b[0;34m\u001b[0m\u001b[0m\n\u001b[0m",
      "\u001b[0;31mTypeError\u001b[0m: 'int' object is not iterable"
     ]
    }
   ],
   "source": [
    "max(airShower(x))"
   ]
  },
  {
   "cell_type": "code",
   "execution_count": 637,
   "metadata": {
    "collapsed": true
   },
   "outputs": [],
   "source": [
    "def uniform2dPhones(n):\n",
    "    xmax=0.5\n",
    "    return np.random.uniform(-xmax,xmax,2*n).reshape(n,2)"
   ]
  },
  {
   "cell_type": "code",
   "execution_count": 641,
   "metadata": {
    "collapsed": true
   },
   "outputs": [],
   "source": [
    "def stack2dPhones(n):\n",
    "    xmax=0.5\n",
    "    return np.zeros(2*n).reshape(n,2)+np.random.uniform(-xmax,xmax,2)"
   ]
  },
  {
   "cell_type": "code",
   "execution_count": 733,
   "metadata": {
    "collapsed": true
   },
   "outputs": [],
   "source": [
    "def patch2dPhones(n,rho=1.,xmax=0.5):\n",
    "    d=np.sqrt(n/400./rho)\n",
    "    #if d>1: d=1. #things get confusing if the clusters keep growing\n",
    "    x0 = np.random.uniform(-xmax,np.maximum(-xmax,xmax-d)) #ensure all phones in [-.5,.5]\n",
    "    y0 = np.random.uniform(-xmax,np.maximum(-xmax,xmax-d)) #ensure all phones in [-.5,.5]\n",
    "    return np.dstack((np.random.uniform(x0,x0+d,n),np.random.uniform(y0,y0+d,n)))[0]"
   ]
  },
  {
   "cell_type": "code",
   "execution_count": 740,
   "metadata": {
    "collapsed": true
   },
   "outputs": [],
   "source": [
    "def circpatch2dPhones(n,rho=1.,xmax=0.5):\n",
    "    r=np.sqrt(n/400./rho/np.pi)\n",
    "    #if d>1: d=1. #things get confusing if the clusters keep growing\n",
    "    x0 = np.random.uniform(-xmax+r, xmax-r) #ensure all phones in [-.5,.5]\n",
    "    y0 = np.random.uniform(-xmax+r, xmax-r) #ensure all phones in [-.5,.5]\n",
    "    tempr = np.sqrt(2*np.random.uniform(0,r*r/2.,n))\n",
    "    theta = np.random.uniform(0,2*np.pi,n)\n",
    "    return np.dstack((tempr*np.cos(theta)+x0,tempr*np.sin(theta)+y0))[0]"
   ]
  },
  {
   "cell_type": "code",
   "execution_count": 679,
   "metadata": {
    "collapsed": true
   },
   "outputs": [],
   "source": [
    "def uniform2dPerf(n,rho=1.):\n",
    "    ret  = 0.\n",
    "    nExpt=50000\n",
    "    for i in range(nExpt):\n",
    "        ret += 1.*airShower(uniform2dPhones(n))/n\n",
    "    return ret/nExpt"
   ]
  },
  {
   "cell_type": "code",
   "execution_count": 680,
   "metadata": {
    "collapsed": true
   },
   "outputs": [],
   "source": [
    "def stack2dPerf(n,rho=1.):\n",
    "    ret  = 0.\n",
    "    nExpt=50000\n",
    "    for i in range(nExpt):\n",
    "        ret += 1.*airShower(stack2dPhones(n))/n\n",
    "    return ret/nExpt"
   ]
  },
  {
   "cell_type": "code",
   "execution_count": 748,
   "metadata": {
    "collapsed": true
   },
   "outputs": [],
   "source": [
    "def patch2dPerf(n,rho=1.):\n",
    "    ret  = 0.\n",
    "    nExpt=50000\n",
    "    for i in range(nExpt):\n",
    "        xmax = 5\n",
    "        ret += 4.*xmax*xmax*airShower(patch2dPhones(n,rho=1.,xmax=xmax))/n\n",
    "    return ret/nExpt"
   ]
  },
  {
   "cell_type": "code",
   "execution_count": 767,
   "metadata": {
    "collapsed": true
   },
   "outputs": [],
   "source": [
    "def circpatch2dPerf(n,rho=1.):\n",
    "    ret  = 0.\n",
    "    nExpt=50000\n",
    "    for i in range(nExpt):\n",
    "        xmax = 4\n",
    "        ret += 4.*xmax*xmax*airShower(circpatch2dPhones(n,rho=1.,xmax=xmax))/n\n",
    "    return ret/nExpt"
   ]
  },
  {
   "cell_type": "code",
   "execution_count": 756,
   "metadata": {
    "collapsed": true
   },
   "outputs": [],
   "source": [
    "nArray = np.floor(np.linspace(5,1001,31))\n",
    "uniform2dPerfArray = np.zeros(nArray.size)\n",
    "stack2dPerfArray = np.zeros(nArray.size)\n",
    "patch2dPerfArray = np.zeros(nArray.size)"
   ]
  },
  {
   "cell_type": "code",
   "execution_count": 858,
   "metadata": {
    "collapsed": false,
    "scrolled": false
   },
   "outputs": [],
   "source": [
    "circpatch2dPerfArray = np.zeros(nArray.size)\n",
    "for i,n in enumerate(nArray):\n",
    "    #uniform2dPerfArray[i] = uniform2dPerf(n)\n",
    "    #stack2dPerfArray[i] = stack2dPerf(n)\n",
    "    patch2dPerfArray[i] = patch2dPerf(n)\n",
    "    #circpatch2dPerfArray[i] = circpatch2dPerf(n)"
   ]
  },
  {
   "cell_type": "code",
   "execution_count": 859,
   "metadata": {
    "collapsed": false
   },
   "outputs": [
    {
     "data": {
      "text/plain": [
       "<matplotlib.legend.Legend at 0x13170ff90>"
      ]
     },
     "execution_count": 859,
     "metadata": {},
     "output_type": "execute_result"
    },
    {
     "data": {
      "image/png": "[encoded data removed]",
      "text/plain": [
       "<matplotlib.figure.Figure at 0x130d41c10>"
      ]
     },
     "metadata": {},
     "output_type": "display_data"
    }
   ],
   "source": [
    "plt.plot(nArray,uniform2dPerfArray, c='b', label='distributed')\n",
    "plt.plot(nArray,stack2dPerfArray,c='r',label='stacked')\n",
    "plt.plot(nArray,patch2dPerfArray,c='g', label='local cluster')\n",
    "plt.plot(nArray,circpatch2dPerfArray,c='black', label='local circ cluster')\n",
    "plt.legend()"
   ]
  },
  {
   "cell_type": "code",
   "execution_count": 860,
   "metadata": {
    "collapsed": false
   },
   "outputs": [
    {
     "data": {
      "image/png": "[encoded data removed]",
      "text/plain": [
       "<matplotlib.figure.Figure at 0x123f41f10>"
      ]
     },
     "metadata": {},
     "output_type": "display_data"
    }
   ],
   "source": [
    "plt.plot(nArray,uniform2dPerfArray, c='b', label='distributed')\n",
    "plt.plot(nArray,stack2dPerfArray,c='r',label='stacked')\n",
    "plt.plot(nArray,patch2dPerfArray,c='g', label='local cluster')\n",
    "plt.plot(nArray,circpatch2dPerfArray,c='black', label='local cluster')\n",
    "plt.loglog()\n",
    "plt.ylabel('Effective area per phone [km$^2$]')\n",
    "plt.xlabel('Number of phones in 1 km^2')\n",
    "plt.legend(loc='lower left')\n",
    "plt.savefig('effective_area.pdf')"
   ]
  },
  {
   "cell_type": "code",
   "execution_count": 599,
   "metadata": {
    "collapsed": false
   },
   "outputs": [
    {
     "data": {
      "text/plain": [
       "(array([ 0.526443  ,  0.49564535,  0.36663368,  0.08279825,  0.89386772,\n",
       "         0.52248371,  0.63492323,  0.37770491,  0.05800225,  0.35172958]),\n",
       " array([ 0.38477678,  0.58168913,  0.00641063,  0.63851798,  0.53968714,\n",
       "         0.83413254,  0.22260219,  0.78815378,  0.82887715,  0.48420699]),\n",
       " array([[[ 0.526443  ,  0.38477678],\n",
       "         [ 0.49564535,  0.58168913],\n",
       "         [ 0.36663368,  0.00641063],\n",
       "         [ 0.08279825,  0.63851798],\n",
       "         [ 0.89386772,  0.53968714],\n",
       "         [ 0.52248371,  0.83413254],\n",
       "         [ 0.63492323,  0.22260219],\n",
       "         [ 0.37770491,  0.78815378],\n",
       "         [ 0.05800225,  0.82887715],\n",
       "         [ 0.35172958,  0.48420699]]]))"
      ]
     },
     "execution_count": 599,
     "metadata": {},
     "output_type": "execute_result"
    }
   ],
   "source": [
    "a=np.random.uniform(0,1,10)\n",
    "b=np.random.uniform(0,1,10)\n",
    "a, b, np.dstack((a,b))"
   ]
  },
  {
   "cell_type": "code",
   "execution_count": 603,
   "metadata": {
    "collapsed": false
   },
   "outputs": [
    {
     "data": {
      "text/plain": [
       "(10, 2)"
      ]
     },
     "execution_count": 603,
     "metadata": {},
     "output_type": "execute_result"
    }
   ],
   "source": [
    "np.dstack((a,b))[0].shape"
   ]
  },
  {
   "cell_type": "code",
   "execution_count": 646,
   "metadata": {
    "collapsed": false
   },
   "outputs": [
    {
     "data": {
      "text/plain": [
       "array([   5.,   54.,  104.,  153.,  203.,  253.,  302.,  352.,  401.,\n",
       "        451.,  501.])"
      ]
     },
     "execution_count": 646,
     "metadata": {},
     "output_type": "execute_result"
    }
   ],
   "source": [
    "np.floor(np.linspace(5,501,11))\n"
   ]
  },
  {
   "cell_type": "code",
   "execution_count": 741,
   "metadata": {
    "collapsed": false
   },
   "outputs": [
    {
     "data": {
      "text/plain": [
       "<matplotlib.collections.PathCollection at 0x12b3d0350>"
      ]
     },
     "execution_count": 741,
     "metadata": {},
     "output_type": "execute_result"
    },
    {
     "data": {
      "image/png": "[encoded data removed]",
      "text/plain": [
       "<matplotlib.figure.Figure at 0x12b2e1990>"
      ]
     },
     "metadata": {},
     "output_type": "display_data"
    }
   ],
   "source": [
    "phones = patch2dPhones(400,rho=1,xmax=5)\n",
    "phones2 = circpatch2dPhones(400,rho=1,xmax=5)\n",
    "\n",
    "plt.scatter(phones[:,0], phones[:,1])\n",
    "plt.scatter(phones2[:,0], phones2[:,1], c='r')"
   ]
  },
  {
   "cell_type": "markdown",
   "metadata": {},
   "source": [
    "\\int r (0,x) = x^2/2 \n",
    "y = uniform(0,r^2/2)\n",
    "x = sqrt(2 y)\n",
    "\n",
    "could make a plot of efficiency vs. location of center of shower, or radius from shower center to phone center for a patch. See edge effects... additional effective area that grows like radius of patch."
   ]
  },
  {
   "cell_type": "code",
   "execution_count": 755,
   "metadata": {
    "collapsed": false
   },
   "outputs": [
    {
     "data": {
      "text/plain": [
       "array([    5.        ,    71.53333333,   138.06666667,   204.6       ,\n",
       "         271.13333333,   337.66666667,   404.2       ,   470.73333333,\n",
       "         537.26666667,   603.8       ,   670.33333333,   736.86666667,\n",
       "         803.4       ,   869.93333333,   936.46666667,  1003.        ,\n",
       "        1069.53333333,  1136.06666667,  1202.6       ,  1269.13333333,\n",
       "        1335.66666667,  1402.2       ,  1468.73333333,  1535.26666667,\n",
       "        1601.8       ,  1668.33333333,  1734.86666667,  1801.4       ,\n",
       "        1867.93333333,  1934.46666667,  2001.        ])"
      ]
     },
     "execution_count": 755,
     "metadata": {},
     "output_type": "execute_result"
    }
   ],
   "source": [
    "np.linspace(5,2001,31)"
   ]
  },
  {
   "cell_type": "code",
   "execution_count": 771,
   "metadata": {
    "collapsed": true
   },
   "outputs": [],
   "source": [
    "def centerPatch2dPhones(n,x0):\n",
    "    r=np.sqrt(n/400./np.pi)\n",
    "    #if d>1: d=1. #things get confusing if the clusters keep growing\n",
    "    tempr = np.sqrt(2*np.random.uniform(0,r*r/2.,n))\n",
    "    theta = np.random.uniform(0,2*np.pi,n)\n",
    "    return np.dstack((tempr*np.cos(theta)+x0,tempr*np.sin(theta)))[0]"
   ]
  },
  {
   "cell_type": "code",
   "execution_count": 806,
   "metadata": {
    "collapsed": false
   },
   "outputs": [
    {
     "data": {
      "text/plain": [
       "[<matplotlib.lines.Line2D at 0x12e631810>]"
      ]
     },
     "execution_count": 806,
     "metadata": {},
     "output_type": "execute_result"
    },
    {
     "data": {
      "image/png": "[encoded data removed]",
      "text/plain": [
       "<matplotlib.figure.Figure at 0x12e631310>"
      ]
     },
     "metadata": {},
     "output_type": "display_data"
    }
   ],
   "source": [
    "x0array = np.linspace(-1.,0,50)\n",
    "perfArray = np.zeros(x0array.size)\n",
    "for i, x0 in enumerate(x0array):\n",
    "    nMC = 5000\n",
    "    for j in range(nMC):\n",
    "        perfArray[i] += airShower(centerPatch2dPhones(400,x0))\n",
    "plt.plot(x0array,perfArray)"
   ]
  },
  {
   "cell_type": "code",
   "execution_count": 826,
   "metadata": {
    "collapsed": false
   },
   "outputs": [
    {
     "data": {
      "text/plain": [
       "[<matplotlib.lines.Line2D at 0x12eb6b090>]"
      ]
     },
     "execution_count": 826,
     "metadata": {},
     "output_type": "execute_result"
    },
    {
     "data": {
      "image/png": "[encoded data removed]",
      "text/plain": [
       "<matplotlib.figure.Figure at 0x12edb8fd0>"
      ]
     },
     "metadata": {},
     "output_type": "display_data"
    }
   ],
   "source": [
    "plt.plot(x0array,perfArray)\n",
    "plt.plot([-0.5,-0.5],[0,4500])\n",
    "plt.plot([-1,0.5],[4500,4500])\n",
    "plt.plot([-1,0.5],[4500,4500])\n",
    "plt.plot([-0.7,-0.7],[0,4500])\n",
    "plt.plot([-0.3,-0.3],[0,4500])"
   ]
  },
  {
   "cell_type": "code",
   "execution_count": 839,
   "metadata": {
    "collapsed": false
   },
   "outputs": [
    {
     "name": "stdout",
     "output_type": "stream",
     "text": [
      "25 12563.0 49 4214.0 101136.0 96250.0 4886.0\n",
      "7677.0\n"
     ]
    }
   ],
   "source": [
    "edge = find(x0array>-.5)[0]\n",
    "extraperf=cumsum(perfArray)[edge]\n",
    "center = find(x0array<=0)[-1]\n",
    "maxperf=perfArray[center]\n",
    "lessperf = (center-edge)*maxperf - (cumsum(perfArray)[center]-cumsum(perfArray)[edge])\n",
    "#plt.plot(x0array,cumsum(perfArray))\n",
    "#plt.plot(x0array,maximum(0,maxperf*(x0array+.5)/(x0array[1]-x0array[0])))\n",
    "#plt.plot(x0array,maximum(0,extraperf+maxperf*(x0array+.5)/(x0array[1]-x0array[0])))\n",
    "print edge, extraperf, center, maxperf, (center-edge)*maxperf, (cumsum(perfArray)[center]-cumsum(perfArray)[edge]), lessperf\n",
    "print extraperf-lessperf"
   ]
  },
  {
   "cell_type": "code",
   "execution_count": 855,
   "metadata": {
    "collapsed": false
   },
   "outputs": [
    {
     "data": {
      "text/plain": [
       "array([    5.,    38.,    71.,   104.,   137.,   171.,   204.,   237.,\n",
       "         270.,   303.,   337.,   370.,   403.,   436.,   469.,   503.,\n",
       "         536.,   569.,   602.,   635.,   669.,   702.,   735.,   768.,\n",
       "         801.,   835.,   868.,   901.,   934.,   967.,  1001.])"
      ]
     },
     "execution_count": 855,
     "metadata": {},
     "output_type": "execute_result"
    }
   ],
   "source": []
  },
  {
   "cell_type": "code",
   "execution_count": null,
   "metadata": {
    "collapsed": true
   },
   "outputs": [],
   "source": []
  }
 ],
 "metadata": {
  "kernelspec": {
   "display_name": "Python 2",
   "language": "python",
   "name": "python2"
  },
  "language_info": {
   "codemirror_mode": {
    "name": "ipython",
    "version": 2
   },
   "file_extension": ".py",
   "mimetype": "text/x-python",
   "name": "python",
   "nbconvert_exporter": "python",
   "pygments_lexer": "ipython2",
   "version": "2.7.10"
  }
 },
 "nbformat": 4,
 "nbformat_minor": 0
}
