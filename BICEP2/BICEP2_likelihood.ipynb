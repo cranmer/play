{
 "metadata": {
  "name": ""
 },
 "nbformat": 3,
 "nbformat_minor": 0,
 "worksheets": [
  {
   "cells": [
    {
     "cell_type": "heading",
     "level": 1,
     "metadata": {},
     "source": [
      "Alternative error analysis for BICEP2 result"
     ]
    },
    {
     "cell_type": "markdown",
     "metadata": {},
     "source": [
      "Kyle Cranmer <kyle.cranmer@nyu.edu> Mar 17, 2014"
     ]
    },
    {
     "cell_type": "markdown",
     "metadata": {},
     "source": [
      "The BICEP2 error quoted on r is 0.2+0.07-0.05 (green below lines), and it looks like it's really a Bayesian shortest interval using a uniform prior on r.\n",
      "Let's see what the error bar looks like by using -2lnL < 1 (intersection of blue and red lines).\n",
      "The likelihood curve is shown [here](http://bicepkeck.org/B2_2014_i_figs/rconstraint.png) and they made the data public -- thanks BICEP2!"
     ]
    },
    {
     "cell_type": "code",
     "collapsed": false,
     "input": [
      "%pylab inline"
     ],
     "language": "python",
     "metadata": {},
     "outputs": [
      {
       "output_type": "stream",
       "stream": "stdout",
       "text": [
        "Populating the interactive namespace from numpy and matplotlib\n"
       ]
      }
     ],
     "prompt_number": 1
    },
    {
     "cell_type": "code",
     "collapsed": false,
     "input": [
      "import requests"
     ],
     "language": "python",
     "metadata": {},
     "outputs": [],
     "prompt_number": 2
    },
    {
     "cell_type": "code",
     "collapsed": false,
     "input": [
      "import numpy as np\n",
      "from matplotlib import pyplot as plt"
     ],
     "language": "python",
     "metadata": {},
     "outputs": [],
     "prompt_number": 3
    },
    {
     "cell_type": "code",
     "collapsed": false,
     "input": [
      "r=requests.get('http://bicepkeck.org/B2_3yr_rlikelihood_20140314.txt')"
     ],
     "language": "python",
     "metadata": {},
     "outputs": [],
     "prompt_number": 4
    },
    {
     "cell_type": "code",
     "collapsed": false,
     "input": [
      "header = r.text.split('\\n')[:12]"
     ],
     "language": "python",
     "metadata": {},
     "outputs": [],
     "prompt_number": 6
    },
    {
     "cell_type": "markdown",
     "metadata": {},
     "source": [
      "Convert the text into an array of floats."
     ]
    },
    {
     "cell_type": "code",
     "collapsed": false,
     "input": [
      "rawLikelihoodData = r.text.split('\\n')[13:]"
     ],
     "language": "python",
     "metadata": {},
     "outputs": [],
     "prompt_number": 56
    },
    {
     "cell_type": "code",
     "collapsed": false,
     "input": [
      "likelihoodScan = []\n",
      "temp = [i.split('\\t') for i in rawLikelihoodData]\n",
      "temp\n",
      "for x,y in temp[:-1]:\n",
      "    likelihoodScan.append([float(x), float(y)])\n",
      "likelihoodScan = np.array(likelihoodScan)"
     ],
     "language": "python",
     "metadata": {},
     "outputs": [],
     "prompt_number": 71
    },
    {
     "cell_type": "markdown",
     "metadata": {},
     "source": [
      "This is the likelihood curve shown [here](http://bicepkeck.org/B2_2014_i_figs/rconstraint.png)"
     ]
    },
    {
     "cell_type": "code",
     "collapsed": false,
     "input": [
      "plt.plot(likelihoodScan[:,0],likelihoodScan[:,1])\n",
      "plt.plot(likelihoodScan[150:270,0],likelihoodScan[150:270,1],'g')\n",
      "plt.plot([0.2+0.07,0.2+0.07],[0.,likelihoodScan[270,1]],'g')\n",
      "plt.plot([0.2-0.05,0.2-0.05],[0.,likelihoodScan[150,1]],'g')\n",
      "plt.xlabel('r')\n",
      "plt.ylabel('Likelihood')"
     ],
     "language": "python",
     "metadata": {},
     "outputs": [
      {
       "metadata": {},
       "output_type": "pyout",
       "prompt_number": 90,
       "text": [
        "<matplotlib.text.Text at 0x109675710>"
       ]
      },
      {
       "metadata": {},
       "output_type": "display_data",
       "png": "[encoded data removed]",
       "text": [
        "<matplotlib.figure.Figure at 0x1093b8d90>"
       ]
      }
     ],
     "prompt_number": 90
    },
    {
     "cell_type": "markdown",
     "metadata": {},
     "source": [
      "Spacing of likelihood is 0.001."
     ]
    },
    {
     "cell_type": "code",
     "collapsed": false,
     "input": [
      "likelihoodScan[1,0]-likelihoodScan[0,0]"
     ],
     "language": "python",
     "metadata": {},
     "outputs": [
      {
       "metadata": {},
       "output_type": "pyout",
       "prompt_number": 68,
       "text": [
        "0.001"
       ]
      }
     ],
     "prompt_number": 68
    },
    {
     "cell_type": "markdown",
     "metadata": {},
     "source": [
      "And the integral is ~1 (so it's like a normalized posterior including the bin width ie. prob/0.001)"
     ]
    },
    {
     "cell_type": "code",
     "collapsed": false,
     "input": [
      "np.sum(likelihoodScan[:,1])"
     ],
     "language": "python",
     "metadata": {},
     "outputs": [
      {
       "metadata": {},
       "output_type": "pyout",
       "prompt_number": 62,
       "text": [
        "0.99999982967601886"
       ]
      }
     ],
     "prompt_number": 62
    },
    {
     "cell_type": "markdown",
     "metadata": {},
     "source": [
      "Let's check the integral from [0.15,0.27], yep, about the 68% for 1$\\sigma$"
     ]
    },
    {
     "cell_type": "code",
     "collapsed": false,
     "input": [
      "np.sum(likelihoodScan[150:270,1])"
     ],
     "language": "python",
     "metadata": {},
     "outputs": [
      {
       "metadata": {},
       "output_type": "pyout",
       "prompt_number": 69,
       "text": [
        "0.69014810000000004"
       ]
      }
     ],
     "prompt_number": 69
    },
    {
     "cell_type": "markdown",
     "metadata": {},
     "source": [
      "Fortunately, a constant factor on the likelihood cancels out in likelihood ratio (or difference of log likelihoods). So let's see what the typical $\\Delta \\log L$ or $\\Delta \\chi^2$ interval would look like."
     ]
    },
    {
     "cell_type": "code",
     "collapsed": false,
     "input": [
      "minLogL = -2 * np.log(np.max(likelihoodScan[:,1]))\n",
      "plt.plot(likelihoodScan[:,0],-2* np.log(likelihoodScan[:,1])-minLogL)\n",
      "plt.plot([0,0.8],[1.,1.],'r')\n",
      "plt.plot([0.27,0.27],[0.,1.],'g')\n",
      "plt.plot([0.15,0.15],[0.,1.],'g')\n",
      "plt.xlabel('r')\n",
      "plt.ylabel('-2 ln Likleihood')\n",
      "plt.ylim([0,2])\n",
      "plt.xlim([0.1,0.3])"
     ],
     "language": "python",
     "metadata": {},
     "outputs": [
      {
       "metadata": {},
       "output_type": "pyout",
       "prompt_number": 98,
       "text": [
        "(0.1, 0.3)"
       ]
      },
      {
       "metadata": {},
       "output_type": "display_data",
       "png": "[encoded data removed]",
       "text": [
        "<matplotlib.figure.Figure at 0x1093c1150>"
       ]
      }
     ],
     "prompt_number": 98
    },
    {
     "cell_type": "code",
     "collapsed": false,
     "input": [
      "rmin, rmax = 0,0\n",
      "for r, l in likelihoodScan:\n",
      "    if -2*np.log(l)-minLogL < 1:\n",
      "        rmin= r\n",
      "        break\n",
      "        \n",
      "for r, l in likelihoodScan[200:]:\n",
      "    if -2*np.log(l)-minLogL > 1:\n",
      "        rmax=r\n",
      "        break\n",
      "print '[%f, %f]'%( rmin, rmax)"
     ],
     "language": "python",
     "metadata": {},
     "outputs": [
      {
       "output_type": "stream",
       "stream": "stdout",
       "text": [
        "[0.147000, 0.260000]\n"
       ]
      }
     ],
     "prompt_number": 96
    },
    {
     "cell_type": "markdown",
     "metadata": {},
     "source": [
      "So that's slightly different from the BICEP2 result. In terms of the Bayesian credibility, that interval corresponds to"
     ]
    },
    {
     "cell_type": "code",
     "collapsed": false,
     "input": [
      "np.sum(likelihoodScan[147:260,1])"
     ],
     "language": "python",
     "metadata": {},
     "outputs": [
      {
       "metadata": {},
       "output_type": "pyout",
       "prompt_number": 99,
       "text": [
        "0.66418630000000012"
       ]
      }
     ],
     "prompt_number": 99
    },
    {
     "cell_type": "markdown",
     "metadata": {},
     "source": [
      "Slightly different numbers and a different probabilistic interpretation, but luckily it doesn't change the profound result. Congratulations BICEP2!"
     ]
    }
   ],
   "metadata": {}
  }
 ]
}