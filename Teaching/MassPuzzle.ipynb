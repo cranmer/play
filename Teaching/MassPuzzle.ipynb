{
 "cells": [
  {
   "cell_type": "markdown",
   "metadata": {},
   "source": [
    "## Mass Puzzle"
   ]
  },
  {
   "cell_type": "code",
   "execution_count": 1,
   "metadata": {
    "collapsed": false
   },
   "outputs": [
    {
     "name": "stdout",
     "output_type": "stream",
     "text": [
      "Populating the interactive namespace from numpy and matplotlib\n"
     ]
    }
   ],
   "source": [
    "%pylab inline"
   ]
  },
  {
   "cell_type": "code",
   "execution_count": 2,
   "metadata": {
    "collapsed": true
   },
   "outputs": [],
   "source": [
    "true1 = 10.\n",
    "true2 = 20.\n",
    "\n",
    "nExp = 10000\n",
    "measError = 1.\n",
    "\n"
   ]
  },
  {
   "cell_type": "markdown",
   "metadata": {},
   "source": [
    "## Scenario 1"
   ]
  },
  {
   "cell_type": "code",
   "execution_count": 7,
   "metadata": {
    "collapsed": false
   },
   "outputs": [
    {
     "name": "stdout",
     "output_type": "stream",
     "text": [
      "Scenario 1, mass 1: mean =  10.0127065232 std.=  0.984993462478\n",
      "Scenario 1, mass 2: mean =  20.0002557754 std.=  1.00838911499\n"
     ]
    }
   ],
   "source": [
    "w1 = np.random.normal(true1, measError, nExp)\n",
    "w2 = np.random.normal(true2, measError, nExp)\n",
    "m1 = w1\n",
    "m2 = w2\n",
    "print \"Scenario 1, mass 1: mean = \", np.mean(m1),  \"std.= \", np.std(m1)\n",
    "print \"Scenario 1, mass 2: mean = \", np.mean(m2),  \"std.= \", np.std(m2)"
   ]
  },
  {
   "cell_type": "markdown",
   "metadata": {},
   "source": [
    "## Scenario 3"
   ]
  },
  {
   "cell_type": "code",
   "execution_count": 8,
   "metadata": {
    "collapsed": false
   },
   "outputs": [
    {
     "name": "stdout",
     "output_type": "stream",
     "text": [
      "Scenario 1, mass 1: mean =  10.0014031574 std.=  0.986553777593\n",
      "Scenario 1, mass 2: mean =  20.0043032486 std.=  1.40985154914\n"
     ]
    }
   ],
   "source": [
    "w1 = np.random.normal(true1, measError, nExp)\n",
    "w2 = np.random.normal(true2-true1, measError, nExp)\n",
    "m1 = w1\n",
    "m2 = w2+w1\n",
    "print \"Scenario 1, mass 1: mean = \", np.mean(m1),  \"std.= \", np.std(m1)\n",
    "print \"Scenario 1, mass 2: mean = \", np.mean(m2),  \"std.= \", np.std(m2)"
   ]
  },
  {
   "cell_type": "markdown",
   "metadata": {},
   "source": [
    "## Scenario 5"
   ]
  },
  {
   "cell_type": "code",
   "execution_count": 11,
   "metadata": {
    "collapsed": false
   },
   "outputs": [
    {
     "name": "stdout",
     "output_type": "stream",
     "text": [
      "Scenario 1, mass 1: mean =  10.0071610978 std.=  0.69915925373\n",
      "Scenario 1, mass 2: mean =  20.005339049 std.=  0.716766569091\n"
     ]
    }
   ],
   "source": [
    "w1 = np.random.normal(true1+true2, measError, nExp)\n",
    "w2 = np.random.normal(true1-true2, measError, nExp)\n",
    "m1 = (w1+w2)/2.\n",
    "m2 = (w1-w2)/2.\n",
    "print \"Scenario 1, mass 1: mean = \", np.mean(m1),  \"std.= \" , np.std(m1)\n",
    "print \"Scenario 1, mass 2: mean = \", np.mean(m2),  \"std.= \" , np.std(m2)"
   ]
  },
  {
   "cell_type": "code",
   "execution_count": 13,
   "metadata": {
    "collapsed": false
   },
   "outputs": [
    {
     "data": {
      "text/plain": [
       "array([[ 1.        , -0.02486657],\n",
       "       [-0.02486657,  1.        ]])"
      ]
     },
     "execution_count": 13,
     "metadata": {},
     "output_type": "execute_result"
    }
   ],
   "source": [
    "np.corrcoef(w1,w2)"
   ]
  },
  {
   "cell_type": "code",
   "execution_count": null,
   "metadata": {
    "collapsed": true
   },
   "outputs": [],
   "source": []
  }
 ],
 "metadata": {
  "kernelspec": {
   "display_name": "Python 2",
   "language": "python",
   "name": "python2"
  },
  "language_info": {
   "codemirror_mode": {
    "name": "ipython",
    "version": 2
   },
   "file_extension": ".py",
   "mimetype": "text/x-python",
   "name": "python",
   "nbconvert_exporter": "python",
   "pygments_lexer": "ipython2",
   "version": "2.7.6"
  }
 },
 "nbformat": 4,
 "nbformat_minor": 0
}
