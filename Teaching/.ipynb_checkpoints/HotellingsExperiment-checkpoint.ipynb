{
 "metadata": {
  "name": ""
 },
 "nbformat": 3,
 "nbformat_minor": 0,
 "worksheets": [
  {
   "cells": [
    {
     "cell_type": "heading",
     "level": 1,
     "metadata": {},
     "source": [
      "Hotelling's Experiment"
     ]
    },
    {
     "cell_type": "markdown",
     "metadata": {},
     "source": [
      "License: BSD (C) 2014, Kyle Cranmer. Feel free to use, distribute, and modify with the above attribution."
     ]
    },
    {
     "cell_type": "markdown",
     "metadata": {},
     "source": [
      "This is an example of \"Design of Experiments\" - using the statistician's terminology - based on the Wikipedia article http://en.wikipedia.org/wiki/Design_of_experiments#Example. Aimed to be used for teaching undergraduate-level physics lab / data analysis course."
     ]
    },
    {
     "cell_type": "code",
     "collapsed": false,
     "input": [
      "%pylab inline"
     ],
     "language": "python",
     "metadata": {},
     "outputs": [
      {
       "output_type": "stream",
       "stream": "stdout",
       "text": [
        "Populating the interactive namespace from numpy and matplotlib\n"
       ]
      }
     ],
     "prompt_number": 1
    },
    {
     "cell_type": "code",
     "collapsed": false,
     "input": [
      "import numpy as np\n",
      "from matplotlib import pyplot as plt"
     ],
     "language": "python",
     "metadata": {},
     "outputs": [],
     "prompt_number": 4
    },
    {
     "cell_type": "code",
     "collapsed": false,
     "input": [
      "class DoStandardExperiment():\n",
      "    def __init__(self, truthWeights):\n",
      "        self._truthWeights = truthWeights\n",
      "    def get_measurement(self):\n",
      "        return self._truthWeights+np.random.normal(0,1, len(self._truthWeights))"
     ],
     "language": "python",
     "metadata": {},
     "outputs": [],
     "prompt_number": 19
    },
    {
     "cell_type": "code",
     "collapsed": false,
     "input": [
      "class DoHotellingExperiment():\n",
      "    def __init__(self, truthWeights):\n",
      "        self._truthWeights = truthWeights\n",
      "    def weigh(self,left,right):\n",
      "        thisMeas= np.sum([self._truthWeights[i-1] for i in left]) \\\n",
      "            - np.sum([self._truthWeights[i-1] for i in right]) \\\n",
      "            + np.random.normal(0,1)\n",
      "        return thisMeas\n",
      "    def get_measurement(self):\n",
      "        meas1 = self.weigh([1,2,3,4,5,6,7,8],[])\n",
      "        meas2 = self.weigh([1,2,3,8],[4,5,6,7])\n",
      "        meas3 = self.weigh([1,4,5,8],[2,3,6,7])\n",
      "        meas4 = self.weigh([1,6,7,8],[2,3,4,5])\n",
      "        meas5 = self.weigh([2,4,6,8],[1,3,5,7])\n",
      "        meas6 = self.weigh([2,5,7,8],[1,3,4,6])\n",
      "        meas7 = self.weigh([3,4,7,8],[1,2,5,6])\n",
      "        meas8 = self.weigh([3,5,6,8],[1,2,4,7])\n",
      "\n",
      "        #being lazy for now and only doing estimate of mass of first object\n",
      "        #wikipedia article doesn't have formula for all of them\n",
      "        ret1 = (meas1+meas2+meas3+meas4-meas5-meas6-meas7-meas8)/8\n",
      "        return [ret1]"
     ],
     "language": "python",
     "metadata": {},
     "outputs": [],
     "prompt_number": 106
    },
    {
     "cell_type": "code",
     "collapsed": false,
     "input": [
      "class DoExperiment():\n",
      "    def __init__(self, design,truthWeights,withError=True):\n",
      "        self._truthWeights = truthWeights\n",
      "        self._design = design\n",
      "        self._withError = withError\n",
      "    def weigh(self,left,right):\n",
      "        thisMeas= np.sum([self._truthWeights[i-1] for i in left]) \\\n",
      "            - np.sum([self._truthWeights[i-1] for i in right]) \\\n",
      "            + np.random.normal(0,1)\n",
      "        return thisMeas\n",
      "    def get_measurement(self):\n",
      "        X = self._design\n",
      "        truthWeights = self._truthWeights\n",
      "\n",
      "        #design is matrix where rows are weighting operations\n",
      "        # columns are the masses of the objects\n",
      "        # and entries are +1 (left), -1 (right), or 0 not on balance\n",
      "        measurements = dot(X,truthWeights)\n",
      "\n",
      "        #now add gaussian random error to measurements\n",
      "        if self._withError:\n",
      "            measurements += np.random.normal(0,1,len(truthWeights))\n",
      "        \n",
      "        #the least squares best estimates of the true weights \n",
      "        aij = inv(dot(X.T,X))\n",
      "        estimates = dot(aij, dot(X,measurements))\n",
      "        return estimates                                                        "
     ],
     "language": "python",
     "metadata": {},
     "outputs": [],
     "prompt_number": 179
    },
    {
     "cell_type": "code",
     "collapsed": false,
     "input": [
      "#get 8 random numbers for the true weights of the objects\n",
      "truthWeights = np.random.normal(10,5,8)"
     ],
     "language": "python",
     "metadata": {},
     "outputs": [],
     "prompt_number": 107
    },
    {
     "cell_type": "code",
     "collapsed": false,
     "input": [
      "DoStandardExperiment(truthWeights).get_measurement()"
     ],
     "language": "python",
     "metadata": {},
     "outputs": [
      {
       "metadata": {},
       "output_type": "pyout",
       "prompt_number": 108,
       "text": [
        "array([  4.52025756,   5.09512731,  16.97308788,  11.9366979 ,\n",
        "        16.12285002,  16.2542141 ,   1.63175935,  10.91860464])"
       ]
      }
     ],
     "prompt_number": 108
    },
    {
     "cell_type": "code",
     "collapsed": false,
     "input": [
      "DoHotellingExperiment(truthWeights).get_measurement()"
     ],
     "language": "python",
     "metadata": {},
     "outputs": [
      {
       "metadata": {},
       "output_type": "pyout",
       "prompt_number": 113,
       "text": [
        "[6.1387107645740748]"
       ]
      }
     ],
     "prompt_number": 113
    },
    {
     "cell_type": "code",
     "collapsed": false,
     "input": [
      "#here only consider how well the first weight is measured, \n",
      "#no loss of generality b/c any weight could ahve been first\n",
      "nBins = 50\n",
      "data_standard = []\n",
      "data_hotelling = []\n",
      "for i in range(1000):\n",
      "    data_standard.append(DoStandardExperiment(truthWeights).get_measurement()[0])\n",
      "    data_hotelling.append(DoHotellingExperiment(truthWeights).get_measurement()[0])\n",
      "\n",
      "\n",
      "print 'standard = ', np.std(data_standard), 'vs hotelling = ', np.std(data_hotelling)\n",
      "    \n",
      "heights, edges, patches = plt.hist(data_standard,bins=nBins, alpha=0.5)\n",
      "plt.hist(data_hotelling,edges, alpha=0.5)\n",
      "plt.show()"
     ],
     "language": "python",
     "metadata": {},
     "outputs": [
      {
       "output_type": "stream",
       "stream": "stdout",
       "text": [
        "standard =  1.0499859166 vs hotelling =  0.344485696831\n"
       ]
      },
      {
       "metadata": {},
       "output_type": "display_data",
       "png": "[encoded data removed]",
       "text": [
        "<matplotlib.figure.Figure at 0x10fdb93d0>"
       ]
      }
     ],
     "prompt_number": 117
    },
    {
     "cell_type": "code",
     "collapsed": false,
     "input": [
      " from scipy.linalg import hadamard\n",
      "HotellingsDesign = hadamard(8)\n",
      "HotellingsDesign"
     ],
     "language": "python",
     "metadata": {},
     "outputs": [
      {
       "metadata": {},
       "output_type": "pyout",
       "prompt_number": 185,
       "text": [
        "array([[ 1,  1,  1,  1,  1,  1,  1,  1],\n",
        "       [ 1, -1,  1, -1,  1, -1,  1, -1],\n",
        "       [ 1,  1, -1, -1,  1,  1, -1, -1],\n",
        "       [ 1, -1, -1,  1,  1, -1, -1,  1],\n",
        "       [ 1,  1,  1,  1, -1, -1, -1, -1],\n",
        "       [ 1, -1,  1, -1, -1,  1, -1,  1],\n",
        "       [ 1,  1, -1, -1, -1, -1,  1,  1],\n",
        "       [ 1, -1, -1,  1, -1,  1,  1, -1]])"
       ]
      }
     ],
     "prompt_number": 185
    },
    {
     "cell_type": "code",
     "collapsed": false,
     "input": [
      "truthWeights"
     ],
     "language": "python",
     "metadata": {},
     "outputs": [
      {
       "metadata": {},
       "output_type": "pyout",
       "prompt_number": 136,
       "text": [
        "array([  6.02590495,   5.2137952 ,  17.01887192,  12.2460225 ,\n",
        "        15.86563878,  16.37719832,   2.11572893,  11.11524338])"
       ]
      }
     ],
     "prompt_number": 136
    },
    {
     "cell_type": "code",
     "collapsed": false,
     "input": [
      "#test that perfect experiment (with no measurement error) works\n",
      "#numbers should all be small\n",
      "[abs(residual)<1E-5 for residual in \\\n",
      " (DoExperiment(HotellingsDesign,truthWeights,withError=False).get_measurement()-truthWeights)]"
     ],
     "language": "python",
     "metadata": {},
     "outputs": [
      {
       "metadata": {},
       "output_type": "pyout",
       "prompt_number": 187,
       "text": [
        "[True, True, True, True, True, True, True, True]"
       ]
      }
     ],
     "prompt_number": 187
    },
    {
     "cell_type": "code",
     "collapsed": false,
     "input": [
      "DoExperiment(HotellingsDesign,truthWeights).get_measurement()-truthWeights"
     ],
     "language": "python",
     "metadata": {},
     "outputs": [
      {
       "metadata": {},
       "output_type": "pyout",
       "prompt_number": 188,
       "text": [
        "array([ 0.82876973, -0.37843107, -0.1015689 , -0.37241104, -0.07204794,\n",
        "        0.11265235, -0.01298661, -0.42018522])"
       ]
      }
     ],
     "prompt_number": 188
    },
    {
     "cell_type": "code",
     "collapsed": false,
     "input": [
      "NaiveDesign= zeros((8,8),int)\n",
      "np.fill_diagonal(NaiveDesign,1)"
     ],
     "language": "python",
     "metadata": {},
     "outputs": [],
     "prompt_number": 189
    },
    {
     "cell_type": "code",
     "collapsed": false,
     "input": [
      "#test that perfect experiment (with no measurement error) works\n",
      "#numbers should all be small\n",
      "[abs(residual)<1E-5 for residual in \\\n",
      " (DoExperiment(NaiveDesign,truthWeights,withError=False).get_measurement()-truthWeights)]"
     ],
     "language": "python",
     "metadata": {},
     "outputs": [
      {
       "metadata": {},
       "output_type": "pyout",
       "prompt_number": 190,
       "text": [
        "[True, True, True, True, True, True, True, True]"
       ]
      }
     ],
     "prompt_number": 190
    },
    {
     "cell_type": "code",
     "collapsed": false,
     "input": [
      "#here only consider how well the first weight is measured, \n",
      "#no loss of generality b/c any weight could ahve been first\n",
      "nBins = 50\n",
      "data_standard = []\n",
      "data_hotelling = []\n",
      "for i in range(1000):\n",
      "    data_standard.append(DoExperiment(NaiveDesign,truthWeights).get_measurement()[0])\n",
      "    data_hotelling.append(DoExperiment(HotellingsDesign,truthWeights).get_measurement()[0])\n",
      "\n",
      "\n",
      "print 'standard = ', np.std(data_standard), 'vs hotelling = ', np.std(data_hotelling)\n",
      "    \n",
      "heights, edges, patches = plt.hist(data_standard,bins=nBins, alpha=0.5)\n",
      "plt.hist(data_hotelling,edges, alpha=0.5)\n",
      "plt.show()"
     ],
     "language": "python",
     "metadata": {},
     "outputs": [
      {
       "output_type": "stream",
       "stream": "stdout",
       "text": [
        "standard =  0.987511016095 vs hotelling =  0.359246115608\n"
       ]
      },
      {
       "metadata": {},
       "output_type": "display_data",
       "png": "[encoded data removed]",
       "text": [
        "<matplotlib.figure.Figure at 0x10fd00350>"
       ]
      }
     ],
     "prompt_number": 193
    },
    {
     "cell_type": "code",
     "collapsed": false,
     "input": [],
     "language": "python",
     "metadata": {},
     "outputs": []
    }
   ],
   "metadata": {}
  }
 ]
}